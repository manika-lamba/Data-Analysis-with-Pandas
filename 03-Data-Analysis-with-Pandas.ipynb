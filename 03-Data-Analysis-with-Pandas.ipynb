{
 "cells": [
  {
   "cell_type": "markdown",
   "metadata": {},
   "source": [
    "# Data Analysis with Pandas Part 3"
   ]
  },
  {
   "cell_type": "markdown",
   "metadata": {},
   "source": [
    "These notebooks are designed for my June 14-18 course \"Data Analysis with Pandas,\" part of the [2021 Text Analysis Pedagogy Institute](https://nkelber.github.io/tapi2021/book/intro.html). These notebooks are still in active development!!"
   ]
  },
  {
   "cell_type": "markdown",
   "metadata": {},
   "source": [
    "## Dataset"
   ]
  },
  {
   "cell_type": "markdown",
   "metadata": {},
   "source": [
    "### *Lost in the City* by Edward P. Jones\n",
    "\n",
    "```{epigraph}\n",
    " [T]he pigeon had taken a step and dropped from the ledge. He caught an upwind that took him nearly as high as the tops of the empty K Street houses. He flew farther into Northeast, into the color and sounds of the city's morning. She did nothing, aside from following him, with her eyes, with her heart, as far as she could.\n",
    "\n",
    "--  Edward P. Jones, \"The Girl Who Raised Pigeons,\" *Lost in the City* (1993)\n",
    "```"
   ]
  },
  {
   "cell_type": "markdown",
   "metadata": {},
   "source": [
    "Edward P. Jones's *Lost in the City* (1993) is a collection of 14 short stories set in Washington D.C. The first short story, \"The Girl Who Raised Pigeons,\" begins with a young girl raising homing pigeons on her roof.\n",
    "\n",
    "How distinctive is a \"pigeon\" in the world of *Lost in the City*? What does this uniqueness (or lackthereof) tell us about the meaning of pigeons in first short story \"The Girl Who Raised Pigeons\" and the collection as a whole? These are just a few of the questions that we're going to try to answer with tf-idf."
   ]
  },
  {
   "cell_type": "markdown",
   "metadata": {},
   "source": [
    "If you already have a collection of plain text (.txt) files that you'd like to analyze, one of the easiest ways to calculate tf-idf scores is to use the Python library scikit-learn. It has a quick and nifty module called [TfidfVectorizer](https://scikit-learn.org/stable/modules/generated/sklearn.feature_extraction.text.TfidfVectorizer.html), which does all the math for you behind the scenes. We will cover how to use the TfidfVectorizer in the next lesson.\n",
    "\n",
    "In this lesson, however, we're going to calculate tf-idf scores manually because *Lost in the City* is still in-copyright, which means that, for legal reasons, we can't easily share or access plain text files of the book.\n",
    "\n",
    "Luckily, the [HathiTrust Digital Library](https://www.hathitrust.org/)—which contains digitized books from Google Books as well as many university libraries—has released word frequencies per page for all 17 million books in its catalog. These word frequencies (plus part of speech tags) are otherwise known as \"extracted features.\" There's a lot of text analysis that we can do with extracted features alone, including tf-idf.\n",
    "\n",
    "So to calculate tf-idf scores for *Lost in the City*, we're going to use HathiTrust extracted features. That's why we're not using sci-kit learn's TfidfVectorizer. It works great with plain text files but not so great with extracted features."
   ]
  },
  {
   "cell_type": "markdown",
   "metadata": {},
   "source": [
    "## Get HathiTrust Extracted Features"
   ]
  },
  {
   "cell_type": "markdown",
   "metadata": {},
   "source": [
    "Now let's try to calculate tf-idf scores for all the words in all the short stories in *Lost in the City*. To do so, we need word counts, or HathiTrust extracted features, for each story in the collection."
   ]
  },
  {
   "cell_type": "markdown",
   "metadata": {},
   "source": [
    "To work with HathiTrust's extracted features, we first need to install and import the [HathiTrust Feature Reader](https://github.com/htrc/htrc-feature-reader)."
   ]
  },
  {
   "cell_type": "markdown",
   "metadata": {},
   "source": [
    "Install HathiTrust Feature Reader"
   ]
  },
  {
   "cell_type": "code",
   "execution_count": 1,
   "metadata": {},
   "outputs": [
    {
     "name": "stdout",
     "output_type": "stream",
     "text": [
      "Requirement already satisfied: htrc-feature-reader in /Users/melaniewalsh/opt/anaconda3/lib/python3.7/site-packages (2.0.7)\n",
      "Requirement already satisfied: requests in /Users/melaniewalsh/opt/anaconda3/lib/python3.7/site-packages (from htrc-feature-reader) (2.23.0)\n",
      "Requirement already satisfied: pymarc in /Users/melaniewalsh/opt/anaconda3/lib/python3.7/site-packages (from htrc-feature-reader) (4.0.0)\n",
      "Requirement already satisfied: pandas>=0.24 in /Users/melaniewalsh/opt/anaconda3/lib/python3.7/site-packages (from htrc-feature-reader) (1.2.3)\n",
      "Requirement already satisfied: six in /Users/melaniewalsh/opt/anaconda3/lib/python3.7/site-packages (from htrc-feature-reader) (1.14.0)\n",
      "Requirement already satisfied: python-rapidjson in /Users/melaniewalsh/opt/anaconda3/lib/python3.7/site-packages (from htrc-feature-reader) (0.9.1)\n",
      "Requirement already satisfied: pytz>=2017.3 in /Users/melaniewalsh/opt/anaconda3/lib/python3.7/site-packages (from pandas>=0.24->htrc-feature-reader) (2020.1)\n",
      "Requirement already satisfied: numpy>=1.16.5 in /Users/melaniewalsh/opt/anaconda3/lib/python3.7/site-packages (from pandas>=0.24->htrc-feature-reader) (1.19.5)\n",
      "Requirement already satisfied: python-dateutil>=2.7.3 in /Users/melaniewalsh/opt/anaconda3/lib/python3.7/site-packages (from pandas>=0.24->htrc-feature-reader) (2.8.1)\n",
      "Requirement already satisfied: chardet<4,>=3.0.2 in /Users/melaniewalsh/opt/anaconda3/lib/python3.7/site-packages (from requests->htrc-feature-reader) (3.0.4)\n",
      "Requirement already satisfied: urllib3!=1.25.0,!=1.25.1,<1.26,>=1.21.1 in /Users/melaniewalsh/opt/anaconda3/lib/python3.7/site-packages (from requests->htrc-feature-reader) (1.25.9)\n",
      "Requirement already satisfied: idna<3,>=2.5 in /Users/melaniewalsh/opt/anaconda3/lib/python3.7/site-packages (from requests->htrc-feature-reader) (2.9)\n",
      "Requirement already satisfied: certifi>=2017.4.17 in /Users/melaniewalsh/opt/anaconda3/lib/python3.7/site-packages (from requests->htrc-feature-reader) (2020.12.5)\n",
      "\u001b[33mWARNING: Keyring is skipped due to an exception: entry_points() got an unexpected keyword argument 'group'\u001b[0m\n",
      "\u001b[33mWARNING: You are using pip version 21.0.1; however, version 21.1.2 is available.\n",
      "You should consider upgrading via the '/Users/melaniewalsh/opt/anaconda3/bin/python3 -m pip install --upgrade pip' command.\u001b[0m\n"
     ]
    }
   ],
   "source": [
    "!pip install htrc-feature-reader"
   ]
  },
  {
   "cell_type": "markdown",
   "metadata": {},
   "source": [
    "Import necessary libraries"
   ]
  },
  {
   "cell_type": "code",
   "execution_count": 2,
   "metadata": {},
   "outputs": [],
   "source": [
    "from htrc_features import Volume\n",
    "import pandas as pd"
   ]
  },
  {
   "cell_type": "markdown",
   "metadata": {},
   "source": [
    "Then we need to locate the the HathiTrust volume ID for *Lost in the City*. If we search the HathiTrust catalog for this book and then click on \"Limited (search only),\" it will take us to the following web page: https://babel.hathitrust.org/cgi/pt?id=mdp.39015029970129.\n",
    "\n",
    "The HathiTrust Volume ID for *Lost in the City* is located after `id=` this URL: `mdp.39015029970129`. "
   ]
  },
  {
   "cell_type": "markdown",
   "metadata": {},
   "source": [
    "### Make DataFrame of Word Frequencies From Volume(s)"
   ]
  },
  {
   "cell_type": "markdown",
   "metadata": {},
   "source": [
    "#### Single Volume"
   ]
  },
  {
   "cell_type": "markdown",
   "metadata": {},
   "source": [
    "To get HathiTrust extracted features for a single volume, we can create a `[Volume` object](https://github.com/htrc/htrc-feature-reader#volume) and use the `.tokenlist()` method. "
   ]
  },
  {
   "cell_type": "code",
   "execution_count": 3,
   "metadata": {},
   "outputs": [
    {
     "data": {
      "text/html": [
       "<div>\n",
       "<style scoped>\n",
       "    .dataframe tbody tr th:only-of-type {\n",
       "        vertical-align: middle;\n",
       "    }\n",
       "\n",
       "    .dataframe tbody tr th {\n",
       "        vertical-align: top;\n",
       "    }\n",
       "\n",
       "    .dataframe thead th {\n",
       "        text-align: right;\n",
       "    }\n",
       "</style>\n",
       "<table border=\"1\" class=\"dataframe\">\n",
       "  <thead>\n",
       "    <tr style=\"text-align: right;\">\n",
       "      <th></th>\n",
       "      <th></th>\n",
       "      <th></th>\n",
       "      <th></th>\n",
       "      <th>count</th>\n",
       "    </tr>\n",
       "    <tr>\n",
       "      <th>page</th>\n",
       "      <th>section</th>\n",
       "      <th>token</th>\n",
       "      <th>pos</th>\n",
       "      <th></th>\n",
       "    </tr>\n",
       "  </thead>\n",
       "  <tbody>\n",
       "    <tr>\n",
       "      <th rowspan=\"5\" valign=\"top\">1</th>\n",
       "      <th rowspan=\"5\" valign=\"top\">body</th>\n",
       "      <th>,</th>\n",
       "      <th>,</th>\n",
       "      <td>1</td>\n",
       "    </tr>\n",
       "    <tr>\n",
       "      <th>.046</th>\n",
       "      <th>CD</th>\n",
       "      <td>1</td>\n",
       "    </tr>\n",
       "    <tr>\n",
       "      <th>1993</th>\n",
       "      <th>CD</th>\n",
       "      <td>1</td>\n",
       "    </tr>\n",
       "    <tr>\n",
       "      <th>3560</th>\n",
       "      <th>CD</th>\n",
       "      <td>1</td>\n",
       "    </tr>\n",
       "    <tr>\n",
       "      <th>AWARD</th>\n",
       "      <th>NN</th>\n",
       "      <td>1</td>\n",
       "    </tr>\n",
       "    <tr>\n",
       "      <th>...</th>\n",
       "      <th>...</th>\n",
       "      <th>...</th>\n",
       "      <th>...</th>\n",
       "      <td>...</td>\n",
       "    </tr>\n",
       "    <tr>\n",
       "      <th rowspan=\"5\" valign=\"top\">260</th>\n",
       "      <th rowspan=\"5\" valign=\"top\">body</th>\n",
       "      <th>world</th>\n",
       "      <th>NN</th>\n",
       "      <td>2</td>\n",
       "    </tr>\n",
       "    <tr>\n",
       "      <th>would</th>\n",
       "      <th>MD</th>\n",
       "      <td>1</td>\n",
       "    </tr>\n",
       "    <tr>\n",
       "      <th>writers</th>\n",
       "      <th>NNS</th>\n",
       "      <td>1</td>\n",
       "    </tr>\n",
       "    <tr>\n",
       "      <th>written</th>\n",
       "      <th>VBN</th>\n",
       "      <td>1</td>\n",
       "    </tr>\n",
       "    <tr>\n",
       "      <th>•</th>\n",
       "      <th>SYM</th>\n",
       "      <td>1</td>\n",
       "    </tr>\n",
       "  </tbody>\n",
       "</table>\n",
       "<p>51297 rows × 1 columns</p>\n",
       "</div>"
      ],
      "text/plain": [
       "                          count\n",
       "page section token   pos       \n",
       "1    body    ,       ,        1\n",
       "             .046    CD       1\n",
       "             1993    CD       1\n",
       "             3560    CD       1\n",
       "             AWARD   NN       1\n",
       "...                         ...\n",
       "260  body    world   NN       2\n",
       "             would   MD       1\n",
       "             writers NNS      1\n",
       "             written VBN      1\n",
       "             •       SYM      1\n",
       "\n",
       "[51297 rows x 1 columns]"
      ]
     },
     "execution_count": 3,
     "metadata": {},
     "output_type": "execute_result"
    }
   ],
   "source": [
    "Volume('mdp.39015029970129').tokenlist()"
   ]
  },
  {
   "cell_type": "markdown",
   "metadata": {},
   "source": [
    "For each page in *Lost in the City*, this DataFrame displays the page number and section type as well as every word/token that appears on the page, its part-of-speech, and the number of times that word/token occurs on the page. As you can see, there are 51,297 rows in this DataFrame — one for each token that appears on each page.\n",
    "\n",
    "Let's look at a sample of just 20 words from page 11."
   ]
  },
  {
   "cell_type": "code",
   "execution_count": 4,
   "metadata": {},
   "outputs": [
    {
     "data": {
      "text/html": [
       "<div>\n",
       "<style scoped>\n",
       "    .dataframe tbody tr th:only-of-type {\n",
       "        vertical-align: middle;\n",
       "    }\n",
       "\n",
       "    .dataframe tbody tr th {\n",
       "        vertical-align: top;\n",
       "    }\n",
       "\n",
       "    .dataframe thead th {\n",
       "        text-align: right;\n",
       "    }\n",
       "</style>\n",
       "<table border=\"1\" class=\"dataframe\">\n",
       "  <thead>\n",
       "    <tr style=\"text-align: right;\">\n",
       "      <th></th>\n",
       "      <th></th>\n",
       "      <th></th>\n",
       "      <th></th>\n",
       "      <th>count</th>\n",
       "    </tr>\n",
       "    <tr>\n",
       "      <th>page</th>\n",
       "      <th>section</th>\n",
       "      <th>token</th>\n",
       "      <th>pos</th>\n",
       "      <th></th>\n",
       "    </tr>\n",
       "  </thead>\n",
       "  <tbody>\n",
       "    <tr>\n",
       "      <th rowspan=\"20\" valign=\"top\">11</th>\n",
       "      <th rowspan=\"20\" valign=\"top\">body</th>\n",
       "      <th>out</th>\n",
       "      <th>RP</th>\n",
       "      <td>1</td>\n",
       "    </tr>\n",
       "    <tr>\n",
       "      <th>over</th>\n",
       "      <th>IN</th>\n",
       "      <td>1</td>\n",
       "    </tr>\n",
       "    <tr>\n",
       "      <th>part</th>\n",
       "      <th>NN</th>\n",
       "      <td>1</td>\n",
       "    </tr>\n",
       "    <tr>\n",
       "      <th>past</th>\n",
       "      <th>IN</th>\n",
       "      <td>1</td>\n",
       "    </tr>\n",
       "    <tr>\n",
       "      <th>pee</th>\n",
       "      <th>VB</th>\n",
       "      <td>1</td>\n",
       "    </tr>\n",
       "    <tr>\n",
       "      <th>pigeon</th>\n",
       "      <th>NN</th>\n",
       "      <td>1</td>\n",
       "    </tr>\n",
       "    <tr>\n",
       "      <th>pigeons</th>\n",
       "      <th>NNS</th>\n",
       "      <td>1</td>\n",
       "    </tr>\n",
       "    <tr>\n",
       "      <th>reach</th>\n",
       "      <th>VB</th>\n",
       "      <td>1</td>\n",
       "    </tr>\n",
       "    <tr>\n",
       "      <th>remained</th>\n",
       "      <th>VBD</th>\n",
       "      <td>1</td>\n",
       "    </tr>\n",
       "    <tr>\n",
       "      <th>roof</th>\n",
       "      <th>NN</th>\n",
       "      <td>1</td>\n",
       "    </tr>\n",
       "    <tr>\n",
       "      <th>room</th>\n",
       "      <th>NN</th>\n",
       "      <td>2</td>\n",
       "    </tr>\n",
       "    <tr>\n",
       "      <th>say</th>\n",
       "      <th>VB</th>\n",
       "      <td>1</td>\n",
       "    </tr>\n",
       "    <tr>\n",
       "      <th>seemed</th>\n",
       "      <th>VBD</th>\n",
       "      <td>1</td>\n",
       "    </tr>\n",
       "    <tr>\n",
       "      <th>set</th>\n",
       "      <th>VBN</th>\n",
       "      <td>1</td>\n",
       "    </tr>\n",
       "    <tr>\n",
       "      <th>share</th>\n",
       "      <th>VB</th>\n",
       "      <td>1</td>\n",
       "    </tr>\n",
       "    <tr>\n",
       "      <th>she</th>\n",
       "      <th>PRP</th>\n",
       "      <td>7</td>\n",
       "    </tr>\n",
       "    <tr>\n",
       "      <th>silenccBometimes</th>\n",
       "      <th>NNS</th>\n",
       "      <td>1</td>\n",
       "    </tr>\n",
       "    <tr>\n",
       "      <th>silence</th>\n",
       "      <th>NN</th>\n",
       "      <td>1</td>\n",
       "    </tr>\n",
       "    <tr>\n",
       "      <th>simple</th>\n",
       "      <th>JJ</th>\n",
       "      <td>1</td>\n",
       "    </tr>\n",
       "    <tr>\n",
       "      <th>slats</th>\n",
       "      <th>NNS</th>\n",
       "      <td>1</td>\n",
       "    </tr>\n",
       "  </tbody>\n",
       "</table>\n",
       "</div>"
      ],
      "text/plain": [
       "                                   count\n",
       "page section token            pos       \n",
       "11   body    out              RP       1\n",
       "             over             IN       1\n",
       "             part             NN       1\n",
       "             past             IN       1\n",
       "             pee              VB       1\n",
       "             pigeon           NN       1\n",
       "             pigeons          NNS      1\n",
       "             reach            VB       1\n",
       "             remained         VBD      1\n",
       "             roof             NN       1\n",
       "             room             NN       2\n",
       "             say              VB       1\n",
       "             seemed           VBD      1\n",
       "             set              VBN      1\n",
       "             share            VB       1\n",
       "             she              PRP      7\n",
       "             silenccBometimes NNS      1\n",
       "             silence          NN       1\n",
       "             simple           JJ       1\n",
       "             slats            NNS      1"
      ]
     },
     "execution_count": 4,
     "metadata": {},
     "output_type": "execute_result"
    }
   ],
   "source": [
    "Volume('mdp.39015029970129').tokenlist()[500:520]"
   ]
  },
  {
   "cell_type": "markdown",
   "metadata": {},
   "source": [
    "We can also get metadata for a HathiTrust volume by asking for [certain attributes](https://github.com/htrc/htrc-feature-reader#volume)."
   ]
  },
  {
   "cell_type": "code",
   "execution_count": 5,
   "metadata": {},
   "outputs": [
    {
     "data": {
      "text/plain": [
       "1993"
      ]
     },
     "execution_count": 5,
     "metadata": {},
     "output_type": "execute_result"
    }
   ],
   "source": [
    "Volume('mdp.39015029970129').year"
   ]
  },
  {
   "cell_type": "code",
   "execution_count": 6,
   "metadata": {},
   "outputs": [
    {
     "data": {
      "text/plain": [
       "260"
      ]
     },
     "execution_count": 6,
     "metadata": {},
     "output_type": "execute_result"
    }
   ],
   "source": [
    "Volume('mdp.39015029970129').page_count"
   ]
  },
  {
   "cell_type": "code",
   "execution_count": 7,
   "metadata": {},
   "outputs": [
    {
     "data": {
      "text/plain": [
       "'HarperPerennial'"
      ]
     },
     "execution_count": 7,
     "metadata": {},
     "output_type": "execute_result"
    }
   ],
   "source": [
    "Volume('mdp.39015029970129').publisher"
   ]
  },
  {
   "cell_type": "markdown",
   "metadata": {},
   "source": [
    "#### Multiple Volumes"
   ]
  },
  {
   "cell_type": "markdown",
   "metadata": {},
   "source": [
    "We might want to get extracted features for multiple volumes at the same time, so we're also going to practice a workflow that will allow us to read in multiple HathiTrust books, even though we're only reading in one book at this moment."
   ]
  },
  {
   "cell_type": "markdown",
   "metadata": {},
   "source": [
    "Insert list of desired HathiTrust volume(s)"
   ]
  },
  {
   "cell_type": "code",
   "execution_count": 8,
   "metadata": {},
   "outputs": [],
   "source": [
    "volume_ids = ['mdp.39015029970129']"
   ]
  },
  {
   "cell_type": "markdown",
   "metadata": {},
   "source": [
    "Loop through this list of volume IDs and make a DataFrame that includes extracted features, book title, and publication year, then make a list of all DataFrames."
   ]
  },
  {
   "cell_type": "code",
   "execution_count": 9,
   "metadata": {},
   "outputs": [],
   "source": [
    "all_tokens = []\n",
    "\n",
    "for hathi_id in volume_ids:\n",
    "    \n",
    "    #Read in HathiTrust volume\n",
    "    volume = Volume(hathi_id)\n",
    "    \n",
    "    #Make dataframe from token list -- do not include part of speech, sections, or case sensitivity\n",
    "    token_df = volume.tokenlist(case=False, pos=False, drop_section=True)\n",
    "    \n",
    "    #Add book column\n",
    "    token_df['book'] = volume.title\n",
    "    \n",
    "    #Add publication year column\n",
    "    token_df['year'] = volume.year\n",
    "    \n",
    "    all_tokens.append(token_df)"
   ]
  },
  {
   "cell_type": "markdown",
   "metadata": {},
   "source": [
    "Concatenate the list of DataFrames "
   ]
  },
  {
   "cell_type": "code",
   "execution_count": 10,
   "metadata": {},
   "outputs": [],
   "source": [
    "lost_df = pd.concat(all_tokens)"
   ]
  },
  {
   "cell_type": "markdown",
   "metadata": {},
   "source": [
    "Preview the DataFrame"
   ]
  },
  {
   "cell_type": "code",
   "execution_count": 11,
   "metadata": {},
   "outputs": [
    {
     "data": {
      "text/html": [
       "<div>\n",
       "<style scoped>\n",
       "    .dataframe tbody tr th:only-of-type {\n",
       "        vertical-align: middle;\n",
       "    }\n",
       "\n",
       "    .dataframe tbody tr th {\n",
       "        vertical-align: top;\n",
       "    }\n",
       "\n",
       "    .dataframe thead th {\n",
       "        text-align: right;\n",
       "    }\n",
       "</style>\n",
       "<table border=\"1\" class=\"dataframe\">\n",
       "  <thead>\n",
       "    <tr style=\"text-align: right;\">\n",
       "      <th></th>\n",
       "      <th></th>\n",
       "      <th>count</th>\n",
       "      <th>book</th>\n",
       "      <th>year</th>\n",
       "    </tr>\n",
       "    <tr>\n",
       "      <th>page</th>\n",
       "      <th>lowercase</th>\n",
       "      <th></th>\n",
       "      <th></th>\n",
       "      <th></th>\n",
       "    </tr>\n",
       "  </thead>\n",
       "  <tbody>\n",
       "    <tr>\n",
       "      <th rowspan=\"5\" valign=\"top\">1</th>\n",
       "      <th>,</th>\n",
       "      <td>1</td>\n",
       "      <td>Lost in the city : stories /</td>\n",
       "      <td>1993</td>\n",
       "    </tr>\n",
       "    <tr>\n",
       "      <th>.046</th>\n",
       "      <td>1</td>\n",
       "      <td>Lost in the city : stories /</td>\n",
       "      <td>1993</td>\n",
       "    </tr>\n",
       "    <tr>\n",
       "      <th>1993</th>\n",
       "      <td>1</td>\n",
       "      <td>Lost in the city : stories /</td>\n",
       "      <td>1993</td>\n",
       "    </tr>\n",
       "    <tr>\n",
       "      <th>3560</th>\n",
       "      <td>1</td>\n",
       "      <td>Lost in the city : stories /</td>\n",
       "      <td>1993</td>\n",
       "    </tr>\n",
       "    <tr>\n",
       "      <th>a</th>\n",
       "      <td>1</td>\n",
       "      <td>Lost in the city : stories /</td>\n",
       "      <td>1993</td>\n",
       "    </tr>\n",
       "    <tr>\n",
       "      <th>...</th>\n",
       "      <th>...</th>\n",
       "      <td>...</td>\n",
       "      <td>...</td>\n",
       "      <td>...</td>\n",
       "    </tr>\n",
       "    <tr>\n",
       "      <th rowspan=\"5\" valign=\"top\">260</th>\n",
       "      <th>would</th>\n",
       "      <td>1</td>\n",
       "      <td>Lost in the city : stories /</td>\n",
       "      <td>1993</td>\n",
       "    </tr>\n",
       "    <tr>\n",
       "      <th>writers</th>\n",
       "      <td>1</td>\n",
       "      <td>Lost in the city : stories /</td>\n",
       "      <td>1993</td>\n",
       "    </tr>\n",
       "    <tr>\n",
       "      <th>written</th>\n",
       "      <td>1</td>\n",
       "      <td>Lost in the city : stories /</td>\n",
       "      <td>1993</td>\n",
       "    </tr>\n",
       "    <tr>\n",
       "      <th>york</th>\n",
       "      <td>1</td>\n",
       "      <td>Lost in the city : stories /</td>\n",
       "      <td>1993</td>\n",
       "    </tr>\n",
       "    <tr>\n",
       "      <th>•</th>\n",
       "      <td>1</td>\n",
       "      <td>Lost in the city : stories /</td>\n",
       "      <td>1993</td>\n",
       "    </tr>\n",
       "  </tbody>\n",
       "</table>\n",
       "<p>47307 rows × 3 columns</p>\n",
       "</div>"
      ],
      "text/plain": [
       "                count                          book  year\n",
       "page lowercase                                           \n",
       "1    ,              1  Lost in the city : stories /  1993\n",
       "     .046           1  Lost in the city : stories /  1993\n",
       "     1993           1  Lost in the city : stories /  1993\n",
       "     3560           1  Lost in the city : stories /  1993\n",
       "     a              1  Lost in the city : stories /  1993\n",
       "...               ...                           ...   ...\n",
       "260  would          1  Lost in the city : stories /  1993\n",
       "     writers        1  Lost in the city : stories /  1993\n",
       "     written        1  Lost in the city : stories /  1993\n",
       "     york           1  Lost in the city : stories /  1993\n",
       "     •              1  Lost in the city : stories /  1993\n",
       "\n",
       "[47307 rows x 3 columns]"
      ]
     },
     "execution_count": 11,
     "metadata": {},
     "output_type": "execute_result"
    }
   ],
   "source": [
    "lost_df"
   ]
  },
  {
   "cell_type": "markdown",
   "metadata": {},
   "source": [
    "Change from multi-level index to regular index with `reset_index()`"
   ]
  },
  {
   "cell_type": "code",
   "execution_count": 12,
   "metadata": {},
   "outputs": [],
   "source": [
    "lost_df_flattened = lost_df.reset_index()"
   ]
  },
  {
   "cell_type": "code",
   "execution_count": 13,
   "metadata": {},
   "outputs": [
    {
     "data": {
      "text/html": [
       "<div>\n",
       "<style scoped>\n",
       "    .dataframe tbody tr th:only-of-type {\n",
       "        vertical-align: middle;\n",
       "    }\n",
       "\n",
       "    .dataframe tbody tr th {\n",
       "        vertical-align: top;\n",
       "    }\n",
       "\n",
       "    .dataframe thead th {\n",
       "        text-align: right;\n",
       "    }\n",
       "</style>\n",
       "<table border=\"1\" class=\"dataframe\">\n",
       "  <thead>\n",
       "    <tr style=\"text-align: right;\">\n",
       "      <th></th>\n",
       "      <th>page</th>\n",
       "      <th>lowercase</th>\n",
       "      <th>count</th>\n",
       "      <th>book</th>\n",
       "      <th>year</th>\n",
       "    </tr>\n",
       "  </thead>\n",
       "  <tbody>\n",
       "    <tr>\n",
       "      <th>0</th>\n",
       "      <td>1</td>\n",
       "      <td>,</td>\n",
       "      <td>1</td>\n",
       "      <td>Lost in the city : stories /</td>\n",
       "      <td>1993</td>\n",
       "    </tr>\n",
       "    <tr>\n",
       "      <th>1</th>\n",
       "      <td>1</td>\n",
       "      <td>.046</td>\n",
       "      <td>1</td>\n",
       "      <td>Lost in the city : stories /</td>\n",
       "      <td>1993</td>\n",
       "    </tr>\n",
       "    <tr>\n",
       "      <th>2</th>\n",
       "      <td>1</td>\n",
       "      <td>1993</td>\n",
       "      <td>1</td>\n",
       "      <td>Lost in the city : stories /</td>\n",
       "      <td>1993</td>\n",
       "    </tr>\n",
       "    <tr>\n",
       "      <th>3</th>\n",
       "      <td>1</td>\n",
       "      <td>3560</td>\n",
       "      <td>1</td>\n",
       "      <td>Lost in the city : stories /</td>\n",
       "      <td>1993</td>\n",
       "    </tr>\n",
       "    <tr>\n",
       "      <th>4</th>\n",
       "      <td>1</td>\n",
       "      <td>a</td>\n",
       "      <td>1</td>\n",
       "      <td>Lost in the city : stories /</td>\n",
       "      <td>1993</td>\n",
       "    </tr>\n",
       "    <tr>\n",
       "      <th>...</th>\n",
       "      <td>...</td>\n",
       "      <td>...</td>\n",
       "      <td>...</td>\n",
       "      <td>...</td>\n",
       "      <td>...</td>\n",
       "    </tr>\n",
       "    <tr>\n",
       "      <th>47302</th>\n",
       "      <td>260</td>\n",
       "      <td>would</td>\n",
       "      <td>1</td>\n",
       "      <td>Lost in the city : stories /</td>\n",
       "      <td>1993</td>\n",
       "    </tr>\n",
       "    <tr>\n",
       "      <th>47303</th>\n",
       "      <td>260</td>\n",
       "      <td>writers</td>\n",
       "      <td>1</td>\n",
       "      <td>Lost in the city : stories /</td>\n",
       "      <td>1993</td>\n",
       "    </tr>\n",
       "    <tr>\n",
       "      <th>47304</th>\n",
       "      <td>260</td>\n",
       "      <td>written</td>\n",
       "      <td>1</td>\n",
       "      <td>Lost in the city : stories /</td>\n",
       "      <td>1993</td>\n",
       "    </tr>\n",
       "    <tr>\n",
       "      <th>47305</th>\n",
       "      <td>260</td>\n",
       "      <td>york</td>\n",
       "      <td>1</td>\n",
       "      <td>Lost in the city : stories /</td>\n",
       "      <td>1993</td>\n",
       "    </tr>\n",
       "    <tr>\n",
       "      <th>47306</th>\n",
       "      <td>260</td>\n",
       "      <td>•</td>\n",
       "      <td>1</td>\n",
       "      <td>Lost in the city : stories /</td>\n",
       "      <td>1993</td>\n",
       "    </tr>\n",
       "  </tbody>\n",
       "</table>\n",
       "<p>47307 rows × 5 columns</p>\n",
       "</div>"
      ],
      "text/plain": [
       "       page lowercase  count                          book  year\n",
       "0         1         ,      1  Lost in the city : stories /  1993\n",
       "1         1      .046      1  Lost in the city : stories /  1993\n",
       "2         1      1993      1  Lost in the city : stories /  1993\n",
       "3         1      3560      1  Lost in the city : stories /  1993\n",
       "4         1         a      1  Lost in the city : stories /  1993\n",
       "...     ...       ...    ...                           ...   ...\n",
       "47302   260     would      1  Lost in the city : stories /  1993\n",
       "47303   260   writers      1  Lost in the city : stories /  1993\n",
       "47304   260   written      1  Lost in the city : stories /  1993\n",
       "47305   260      york      1  Lost in the city : stories /  1993\n",
       "47306   260         •      1  Lost in the city : stories /  1993\n",
       "\n",
       "[47307 rows x 5 columns]"
      ]
     },
     "execution_count": 13,
     "metadata": {},
     "output_type": "execute_result"
    }
   ],
   "source": [
    "lost_df_flattened "
   ]
  },
  {
   "cell_type": "markdown",
   "metadata": {},
   "source": [
    "Nice! We now have a DataFrame of word counts per page for *Lost in the City*.\n",
    "\n",
    "But what we need to move forward with tf-idf is a way of splitting this collection into its individual stories. Remember: to use tf-idf, we need a *collection* of texts because we need to compare word frequency for one document with all the other documents in the collection."
   ]
  },
  {
   "cell_type": "markdown",
   "metadata": {},
   "source": [
    "## Add story titles"
   ]
  },
  {
   "cell_type": "markdown",
   "metadata": {},
   "source": [
    "How can we split up *Lost in the City* into individual stories?\n",
    "\n",
    "Sometimes HathiTrust Extracted Features helpfully include \"section\" information for a book, such as chapter titles. Unfortunately, the extracted features for *Lost in the City* do not include chapter or story titles.\n",
    "\n",
    "They do, however, include page numbers and, if you specify `volume.tokenlist(case=True)`, words with case sensitivity. When I manually combed through the HTRC token list with case sensitivity turned on, I noticed that the title page for each short story seemed to format the title in all-caps. So I searched for all-caps words from each story title and noted down the corresponding page number. This should give us a marker of where every story begins and ends."
   ]
  },
  {
   "cell_type": "markdown",
   "metadata": {},
   "source": [
    "The function below will add in *Lost in the City*'s story titles for the correct page numbers and corresponding words."
   ]
  },
  {
   "cell_type": "code",
   "execution_count": 14,
   "metadata": {},
   "outputs": [],
   "source": [
    "def add_story_titles(page):\n",
    "    if page >= 0 and page < 11:\n",
    "        return \"Front Matter\"\n",
    "    if page >= 11 and page < 35:\n",
    "        return \"01: The Girl Who Raised Pigeons\"\n",
    "    elif page >= 35 and page < 41:\n",
    "        return \"02: The First Day\"\n",
    "    elif page >= 41 and page < 63:\n",
    "        return \"03: The Night Rhonda Ferguson Was Killed\"\n",
    "    elif page >= 63 and page < 85:\n",
    "        return \"04: Young Lions\"\n",
    "    elif page >= 85 and page < 113:\n",
    "        return \"05: The Store\"\n",
    "    elif page >= 113 and page < 125:\n",
    "        return \"06: An Orange Line Train to Ballston\"\n",
    "    elif page >= 125 and page < 149:\n",
    "        return \"07: The Sunday Following Mother's Day\"\n",
    "    elif page >= 149 and page < 159:\n",
    "        return \"08: Lost in the City\"\n",
    "    elif page >= 159 and page < 184:\n",
    "        return \"09: His Mother's House\"\n",
    "    elif page >= 184 and page < 191:\n",
    "        return \"10: A Butterfly on F Street\"\n",
    "    elif page >= 191 and page < 209:\n",
    "        return \"11: Gospel\"\n",
    "    elif page >= 209 and page < 225:\n",
    "        return \"12: A New Man\"\n",
    "    elif page >= 225 and page < 237:\n",
    "        return \"13: A Dark Night\"\n",
    "    elif page >= 237 and page <= 252:\n",
    "        return \"14: Marie\"\n",
    "    elif page > 252:\n",
    "        return \"Back Matter\""
   ]
  },
  {
   "cell_type": "markdown",
   "metadata": {},
   "source": [
    "Below we add a new column of story titles to the DataFrame by `apply()`ing our function to the \"page\" column and dumping the results to `lost_df_flattened['story']`. You can read more about applying functions in [\"Pandas Basics - Part 3\"](https://melaniewalsh.github.io/Intro-Cultural-Analytics/Data-Analysis/Pandas-Basics-Part3.html#applying-functions)."
   ]
  },
  {
   "cell_type": "code",
   "execution_count": 15,
   "metadata": {},
   "outputs": [],
   "source": [
    "lost_df_flattened['story'] = lost_df_flattened['page'].apply(add_story_titles)"
   ]
  },
  {
   "cell_type": "markdown",
   "metadata": {},
   "source": [
    "We're also going to drop the \"Front Matter\" and \"Back Matter\" from the DataFrame."
   ]
  },
  {
   "cell_type": "code",
   "execution_count": 16,
   "metadata": {},
   "outputs": [],
   "source": [
    "lost_df_flattened = lost_df_flattened.drop(lost_df_flattened[lost_df_flattened['story'] == 'Front Matter'].index)"
   ]
  },
  {
   "cell_type": "code",
   "execution_count": 17,
   "metadata": {},
   "outputs": [],
   "source": [
    "lost_df_flattened = lost_df_flattened.drop(lost_df_flattened[lost_df_flattened['story'] == 'Back Matter'].index)"
   ]
  },
  {
   "cell_type": "markdown",
   "metadata": {},
   "source": [
    "## Sum Word Counts For Each Story"
   ]
  },
  {
   "cell_type": "markdown",
   "metadata": {},
   "source": [
    "Page-level information is great. But for tf-idf purposes, we really only care about the frequency of words for every story. Below we group by story and calculate the sum of word frequencies for all the pages in that story."
   ]
  },
  {
   "cell_type": "code",
   "execution_count": 18,
   "metadata": {},
   "outputs": [
    {
     "data": {
      "text/html": [
       "<div>\n",
       "<style scoped>\n",
       "    .dataframe tbody tr th:only-of-type {\n",
       "        vertical-align: middle;\n",
       "    }\n",
       "\n",
       "    .dataframe tbody tr th {\n",
       "        vertical-align: top;\n",
       "    }\n",
       "\n",
       "    .dataframe thead th {\n",
       "        text-align: right;\n",
       "    }\n",
       "</style>\n",
       "<table border=\"1\" class=\"dataframe\">\n",
       "  <thead>\n",
       "    <tr style=\"text-align: right;\">\n",
       "      <th></th>\n",
       "      <th>story</th>\n",
       "      <th>lowercase</th>\n",
       "      <th>count</th>\n",
       "    </tr>\n",
       "  </thead>\n",
       "  <tbody>\n",
       "    <tr>\n",
       "      <th>0</th>\n",
       "      <td>01: The Girl Who Raised Pigeons</td>\n",
       "      <td>!</td>\n",
       "      <td>8</td>\n",
       "    </tr>\n",
       "    <tr>\n",
       "      <th>1</th>\n",
       "      <td>01: The Girl Who Raised Pigeons</td>\n",
       "      <td>'</td>\n",
       "      <td>4</td>\n",
       "    </tr>\n",
       "    <tr>\n",
       "      <th>2</th>\n",
       "      <td>01: The Girl Who Raised Pigeons</td>\n",
       "      <td>''</td>\n",
       "      <td>111</td>\n",
       "    </tr>\n",
       "    <tr>\n",
       "      <th>3</th>\n",
       "      <td>01: The Girl Who Raised Pigeons</td>\n",
       "      <td>'d</td>\n",
       "      <td>1</td>\n",
       "    </tr>\n",
       "    <tr>\n",
       "      <th>4</th>\n",
       "      <td>01: The Girl Who Raised Pigeons</td>\n",
       "      <td>'ll</td>\n",
       "      <td>5</td>\n",
       "    </tr>\n",
       "    <tr>\n",
       "      <th>...</th>\n",
       "      <td>...</td>\n",
       "      <td>...</td>\n",
       "      <td>...</td>\n",
       "    </tr>\n",
       "    <tr>\n",
       "      <th>18082</th>\n",
       "      <td>14: Marie</td>\n",
       "      <td>yet</td>\n",
       "      <td>1</td>\n",
       "    </tr>\n",
       "    <tr>\n",
       "      <th>18083</th>\n",
       "      <td>14: Marie</td>\n",
       "      <td>you</td>\n",
       "      <td>39</td>\n",
       "    </tr>\n",
       "    <tr>\n",
       "      <th>18084</th>\n",
       "      <td>14: Marie</td>\n",
       "      <td>you-know-who</td>\n",
       "      <td>1</td>\n",
       "    </tr>\n",
       "    <tr>\n",
       "      <th>18085</th>\n",
       "      <td>14: Marie</td>\n",
       "      <td>young</td>\n",
       "      <td>8</td>\n",
       "    </tr>\n",
       "    <tr>\n",
       "      <th>18086</th>\n",
       "      <td>14: Marie</td>\n",
       "      <td>your</td>\n",
       "      <td>8</td>\n",
       "    </tr>\n",
       "  </tbody>\n",
       "</table>\n",
       "<p>18087 rows × 3 columns</p>\n",
       "</div>"
      ],
      "text/plain": [
       "                                 story     lowercase  count\n",
       "0      01: The Girl Who Raised Pigeons             !      8\n",
       "1      01: The Girl Who Raised Pigeons             '      4\n",
       "2      01: The Girl Who Raised Pigeons            ''    111\n",
       "3      01: The Girl Who Raised Pigeons            'd      1\n",
       "4      01: The Girl Who Raised Pigeons           'll      5\n",
       "...                                ...           ...    ...\n",
       "18082                        14: Marie           yet      1\n",
       "18083                        14: Marie           you     39\n",
       "18084                        14: Marie  you-know-who      1\n",
       "18085                        14: Marie         young      8\n",
       "18086                        14: Marie          your      8\n",
       "\n",
       "[18087 rows x 3 columns]"
      ]
     },
     "execution_count": 18,
     "metadata": {},
     "output_type": "execute_result"
    }
   ],
   "source": [
    "lost_df_flattened.groupby(['story', 'lowercase'])[['count']].sum().reset_index()"
   ]
  },
  {
   "cell_type": "markdown",
   "metadata": {},
   "source": [
    "Notice how the \"page\" column no longer exists in the DataFrame and our rows have slimmed down from more than 40,000 to 18,000."
   ]
  },
  {
   "cell_type": "code",
   "execution_count": 19,
   "metadata": {},
   "outputs": [],
   "source": [
    "word_frequency_df = lost_df_flattened.groupby(['story', 'lowercase'])[['count']].sum().reset_index()"
   ]
  },
  {
   "cell_type": "markdown",
   "metadata": {},
   "source": [
    "## Remove Infrequent Words, Stopwords, & Punctuation"
   ]
  },
  {
   "cell_type": "markdown",
   "metadata": {},
   "source": [
    "We will conclude with some final pre-processing steps. We will remove the list of stopwords defined below."
   ]
  },
  {
   "cell_type": "markdown",
   "metadata": {},
   "source": [
    "Make list of stopwords"
   ]
  },
  {
   "cell_type": "code",
   "execution_count": 20,
   "metadata": {},
   "outputs": [],
   "source": [
    "STOPS = ['i', 'me', 'my', 'myself', 'we', 'our', 'ours', 'ourselves', 'you', 'your', 'yours',\n",
    "         'yourself', 'yourselves', 'he', 'him', 'his', 'himself', 'she', 'her', 'hers',\n",
    "         'herself', 'it', 'its', 'itself', 'they', 'them', 'their', 'theirs', 'themselves',\n",
    "         'what', 'which', 'who', 'whom', 'this', 'that', 'these', 'those', 'am', 'is', 'are',\n",
    "         'was', 'were', 'be', 'been', 'being', 'have', 'has', 'had', 'having', 'do', 'does',\n",
    "         'did', 'doing', 'a', 'an', 'the', 'and', 'but', 'if', 'or', 'because', 'as', 'until',\n",
    "         'while', 'of', 'at', 'by', 'for', 'with', 'about', 'against', 'between', 'into',\n",
    "         'through', 'during', 'before', 'after', 'above', 'below', 'to', 'from', 'up', 'down',\n",
    "         'in', 'out', 'on', 'off', 'over', 'under', 'again', 'further', 'then', 'once', 'here',\n",
    "         'there', 'when', 'where', 'why', 'how', 'all', 'any', 'both', 'each', 'few', 'more',\n",
    "         'most', 'other', 'some', 'such', 'no', 'nor', 'not', 'only', 'own', 'same', 'so',\n",
    "         'than', 'too', 'very', 's', 't', 'can', 'will', 'just', 'don', 'should', 'now', 've', 'll', 'amp', \"!\"]"
   ]
  },
  {
   "cell_type": "markdown",
   "metadata": {},
   "source": [
    "Remove stopwords"
   ]
  },
  {
   "cell_type": "code",
   "execution_count": 21,
   "metadata": {},
   "outputs": [],
   "source": [
    "word_frequency_df = word_frequency_df.drop(word_frequency_df[word_frequency_df['lowercase'].isin(STOPS)].index)"
   ]
  },
  {
   "cell_type": "markdown",
   "metadata": {},
   "source": [
    "We will also remove punctuation by using a regular expression `[^A-Za-z\\s]`, which matches anything that's not a letter and drops it from the DataFrame."
   ]
  },
  {
   "cell_type": "code",
   "execution_count": 22,
   "metadata": {},
   "outputs": [],
   "source": [
    "word_frequency_df = word_frequency_df.drop(word_frequency_df[word_frequency_df['lowercase'].str.contains('[^A-Za-z\\s]', regex=True)].index)"
   ]
  },
  {
   "cell_type": "code",
   "execution_count": 23,
   "metadata": {},
   "outputs": [],
   "source": [
    "#Remove words that appear less than 5 times in a book\n",
    "#word_frequency_df_test = word_frequency_df[word_frequency_df['count'] > 5]"
   ]
  },
  {
   "cell_type": "code",
   "execution_count": 24,
   "metadata": {},
   "outputs": [
    {
     "data": {
      "text/html": [
       "<div>\n",
       "<style scoped>\n",
       "    .dataframe tbody tr th:only-of-type {\n",
       "        vertical-align: middle;\n",
       "    }\n",
       "\n",
       "    .dataframe tbody tr th {\n",
       "        vertical-align: top;\n",
       "    }\n",
       "\n",
       "    .dataframe thead th {\n",
       "        text-align: right;\n",
       "    }\n",
       "</style>\n",
       "<table border=\"1\" class=\"dataframe\">\n",
       "  <thead>\n",
       "    <tr style=\"text-align: right;\">\n",
       "      <th></th>\n",
       "      <th>story</th>\n",
       "      <th>lowercase</th>\n",
       "      <th>count</th>\n",
       "    </tr>\n",
       "  </thead>\n",
       "  <tbody>\n",
       "    <tr>\n",
       "      <th>36</th>\n",
       "      <td>01: The Girl Who Raised Pigeons</td>\n",
       "      <td>abandoned</td>\n",
       "      <td>2</td>\n",
       "    </tr>\n",
       "    <tr>\n",
       "      <th>37</th>\n",
       "      <td>01: The Girl Who Raised Pigeons</td>\n",
       "      <td>able</td>\n",
       "      <td>2</td>\n",
       "    </tr>\n",
       "    <tr>\n",
       "      <th>40</th>\n",
       "      <td>01: The Girl Who Raised Pigeons</td>\n",
       "      <td>absently</td>\n",
       "      <td>1</td>\n",
       "    </tr>\n",
       "    <tr>\n",
       "      <th>41</th>\n",
       "      <td>01: The Girl Who Raised Pigeons</td>\n",
       "      <td>absolute</td>\n",
       "      <td>1</td>\n",
       "    </tr>\n",
       "    <tr>\n",
       "      <th>42</th>\n",
       "      <td>01: The Girl Who Raised Pigeons</td>\n",
       "      <td>accepted</td>\n",
       "      <td>1</td>\n",
       "    </tr>\n",
       "    <tr>\n",
       "      <th>...</th>\n",
       "      <td>...</td>\n",
       "      <td>...</td>\n",
       "      <td>...</td>\n",
       "    </tr>\n",
       "    <tr>\n",
       "      <th>18079</th>\n",
       "      <td>14: Marie</td>\n",
       "      <td>years</td>\n",
       "      <td>10</td>\n",
       "    </tr>\n",
       "    <tr>\n",
       "      <th>18080</th>\n",
       "      <td>14: Marie</td>\n",
       "      <td>yes</td>\n",
       "      <td>2</td>\n",
       "    </tr>\n",
       "    <tr>\n",
       "      <th>18081</th>\n",
       "      <td>14: Marie</td>\n",
       "      <td>yesterday</td>\n",
       "      <td>2</td>\n",
       "    </tr>\n",
       "    <tr>\n",
       "      <th>18082</th>\n",
       "      <td>14: Marie</td>\n",
       "      <td>yet</td>\n",
       "      <td>1</td>\n",
       "    </tr>\n",
       "    <tr>\n",
       "      <th>18085</th>\n",
       "      <td>14: Marie</td>\n",
       "      <td>young</td>\n",
       "      <td>8</td>\n",
       "    </tr>\n",
       "  </tbody>\n",
       "</table>\n",
       "<p>15726 rows × 3 columns</p>\n",
       "</div>"
      ],
      "text/plain": [
       "                                 story  lowercase  count\n",
       "36     01: The Girl Who Raised Pigeons  abandoned      2\n",
       "37     01: The Girl Who Raised Pigeons       able      2\n",
       "40     01: The Girl Who Raised Pigeons   absently      1\n",
       "41     01: The Girl Who Raised Pigeons   absolute      1\n",
       "42     01: The Girl Who Raised Pigeons   accepted      1\n",
       "...                                ...        ...    ...\n",
       "18079                        14: Marie      years     10\n",
       "18080                        14: Marie        yes      2\n",
       "18081                        14: Marie  yesterday      2\n",
       "18082                        14: Marie        yet      1\n",
       "18085                        14: Marie      young      8\n",
       "\n",
       "[15726 rows x 3 columns]"
      ]
     },
     "execution_count": 24,
     "metadata": {},
     "output_type": "execute_result"
    }
   ],
   "source": [
    "word_frequency_df"
   ]
  },
  {
   "cell_type": "markdown",
   "metadata": {},
   "source": [
    "## TF-IDF"
   ]
  },
  {
   "cell_type": "markdown",
   "metadata": {},
   "source": [
    "### Term Frequency"
   ]
  },
  {
   "cell_type": "markdown",
   "metadata": {},
   "source": [
    "We already have term frequencies for each document. Let's rename the columns so that they're consistent with the tf-idf vocabulary that we've been using."
   ]
  },
  {
   "cell_type": "code",
   "execution_count": 25,
   "metadata": {},
   "outputs": [],
   "source": [
    "word_frequency_df = word_frequency_df.rename(columns={'lowercase': 'term','count': 'term_frequency'})"
   ]
  },
  {
   "cell_type": "code",
   "execution_count": 26,
   "metadata": {},
   "outputs": [
    {
     "data": {
      "text/html": [
       "<div>\n",
       "<style scoped>\n",
       "    .dataframe tbody tr th:only-of-type {\n",
       "        vertical-align: middle;\n",
       "    }\n",
       "\n",
       "    .dataframe tbody tr th {\n",
       "        vertical-align: top;\n",
       "    }\n",
       "\n",
       "    .dataframe thead th {\n",
       "        text-align: right;\n",
       "    }\n",
       "</style>\n",
       "<table border=\"1\" class=\"dataframe\">\n",
       "  <thead>\n",
       "    <tr style=\"text-align: right;\">\n",
       "      <th></th>\n",
       "      <th>story</th>\n",
       "      <th>term</th>\n",
       "      <th>term_frequency</th>\n",
       "    </tr>\n",
       "  </thead>\n",
       "  <tbody>\n",
       "    <tr>\n",
       "      <th>36</th>\n",
       "      <td>01: The Girl Who Raised Pigeons</td>\n",
       "      <td>abandoned</td>\n",
       "      <td>2</td>\n",
       "    </tr>\n",
       "    <tr>\n",
       "      <th>37</th>\n",
       "      <td>01: The Girl Who Raised Pigeons</td>\n",
       "      <td>able</td>\n",
       "      <td>2</td>\n",
       "    </tr>\n",
       "    <tr>\n",
       "      <th>40</th>\n",
       "      <td>01: The Girl Who Raised Pigeons</td>\n",
       "      <td>absently</td>\n",
       "      <td>1</td>\n",
       "    </tr>\n",
       "    <tr>\n",
       "      <th>41</th>\n",
       "      <td>01: The Girl Who Raised Pigeons</td>\n",
       "      <td>absolute</td>\n",
       "      <td>1</td>\n",
       "    </tr>\n",
       "    <tr>\n",
       "      <th>42</th>\n",
       "      <td>01: The Girl Who Raised Pigeons</td>\n",
       "      <td>accepted</td>\n",
       "      <td>1</td>\n",
       "    </tr>\n",
       "    <tr>\n",
       "      <th>...</th>\n",
       "      <td>...</td>\n",
       "      <td>...</td>\n",
       "      <td>...</td>\n",
       "    </tr>\n",
       "    <tr>\n",
       "      <th>18079</th>\n",
       "      <td>14: Marie</td>\n",
       "      <td>years</td>\n",
       "      <td>10</td>\n",
       "    </tr>\n",
       "    <tr>\n",
       "      <th>18080</th>\n",
       "      <td>14: Marie</td>\n",
       "      <td>yes</td>\n",
       "      <td>2</td>\n",
       "    </tr>\n",
       "    <tr>\n",
       "      <th>18081</th>\n",
       "      <td>14: Marie</td>\n",
       "      <td>yesterday</td>\n",
       "      <td>2</td>\n",
       "    </tr>\n",
       "    <tr>\n",
       "      <th>18082</th>\n",
       "      <td>14: Marie</td>\n",
       "      <td>yet</td>\n",
       "      <td>1</td>\n",
       "    </tr>\n",
       "    <tr>\n",
       "      <th>18085</th>\n",
       "      <td>14: Marie</td>\n",
       "      <td>young</td>\n",
       "      <td>8</td>\n",
       "    </tr>\n",
       "  </tbody>\n",
       "</table>\n",
       "<p>15726 rows × 3 columns</p>\n",
       "</div>"
      ],
      "text/plain": [
       "                                 story       term  term_frequency\n",
       "36     01: The Girl Who Raised Pigeons  abandoned               2\n",
       "37     01: The Girl Who Raised Pigeons       able               2\n",
       "40     01: The Girl Who Raised Pigeons   absently               1\n",
       "41     01: The Girl Who Raised Pigeons   absolute               1\n",
       "42     01: The Girl Who Raised Pigeons   accepted               1\n",
       "...                                ...        ...             ...\n",
       "18079                        14: Marie      years              10\n",
       "18080                        14: Marie        yes               2\n",
       "18081                        14: Marie  yesterday               2\n",
       "18082                        14: Marie        yet               1\n",
       "18085                        14: Marie      young               8\n",
       "\n",
       "[15726 rows x 3 columns]"
      ]
     },
     "execution_count": 26,
     "metadata": {},
     "output_type": "execute_result"
    }
   ],
   "source": [
    "word_frequency_df"
   ]
  },
  {
   "cell_type": "markdown",
   "metadata": {},
   "source": [
    "### Document Frequency"
   ]
  },
  {
   "cell_type": "markdown",
   "metadata": {},
   "source": [
    "To calculate the number of documents or stories in which each term appears, we're going to create a separate DataFrame and do some Pandas manipulation and calculation."
   ]
  },
  {
   "cell_type": "code",
   "execution_count": 27,
   "metadata": {},
   "outputs": [],
   "source": [
    "document_frequency_df = (word_frequency_df.groupby(['story','term']).size().unstack()).sum().reset_index()"
   ]
  },
  {
   "cell_type": "markdown",
   "metadata": {},
   "source": [
    "If you inspect parts of the complex chain of Pandas methods above (which is always a great way to learn!), you will see that we're momentarily reshaping the DataFrame to see if each term appears in each story..."
   ]
  },
  {
   "cell_type": "code",
   "execution_count": 28,
   "metadata": {
    "scrolled": true,
    "tags": [
     "hide-output"
    ]
   },
   "outputs": [
    {
     "data": {
      "text/html": [
       "<div>\n",
       "<style scoped>\n",
       "    .dataframe tbody tr th:only-of-type {\n",
       "        vertical-align: middle;\n",
       "    }\n",
       "\n",
       "    .dataframe tbody tr th {\n",
       "        vertical-align: top;\n",
       "    }\n",
       "\n",
       "    .dataframe thead th {\n",
       "        text-align: right;\n",
       "    }\n",
       "</style>\n",
       "<table border=\"1\" class=\"dataframe\">\n",
       "  <thead>\n",
       "    <tr style=\"text-align: right;\">\n",
       "      <th>term</th>\n",
       "      <th>abandoned</th>\n",
       "      <th>abhored</th>\n",
       "      <th>abide</th>\n",
       "      <th>ability</th>\n",
       "      <th>able</th>\n",
       "      <th>abomination</th>\n",
       "      <th>aboum</th>\n",
       "      <th>aboutfcfteen</th>\n",
       "      <th>abqu</th>\n",
       "      <th>absently</th>\n",
       "      <th>...</th>\n",
       "      <th>ypu</th>\n",
       "      <th>yr</th>\n",
       "      <th>ysirs</th>\n",
       "      <th>ythe</th>\n",
       "      <th>yuddini</th>\n",
       "      <th>zigzagging</th>\n",
       "      <th>zion</th>\n",
       "      <th>zipped</th>\n",
       "      <th>zippers</th>\n",
       "      <th>zoo</th>\n",
       "    </tr>\n",
       "    <tr>\n",
       "      <th>story</th>\n",
       "      <th></th>\n",
       "      <th></th>\n",
       "      <th></th>\n",
       "      <th></th>\n",
       "      <th></th>\n",
       "      <th></th>\n",
       "      <th></th>\n",
       "      <th></th>\n",
       "      <th></th>\n",
       "      <th></th>\n",
       "      <th></th>\n",
       "      <th></th>\n",
       "      <th></th>\n",
       "      <th></th>\n",
       "      <th></th>\n",
       "      <th></th>\n",
       "      <th></th>\n",
       "      <th></th>\n",
       "      <th></th>\n",
       "      <th></th>\n",
       "      <th></th>\n",
       "    </tr>\n",
       "  </thead>\n",
       "  <tbody>\n",
       "    <tr>\n",
       "      <th>01: The Girl Who Raised Pigeons</th>\n",
       "      <td>1.0</td>\n",
       "      <td>NaN</td>\n",
       "      <td>NaN</td>\n",
       "      <td>NaN</td>\n",
       "      <td>1.0</td>\n",
       "      <td>NaN</td>\n",
       "      <td>NaN</td>\n",
       "      <td>NaN</td>\n",
       "      <td>NaN</td>\n",
       "      <td>1.0</td>\n",
       "      <td>...</td>\n",
       "      <td>NaN</td>\n",
       "      <td>1.0</td>\n",
       "      <td>NaN</td>\n",
       "      <td>1.0</td>\n",
       "      <td>NaN</td>\n",
       "      <td>NaN</td>\n",
       "      <td>NaN</td>\n",
       "      <td>NaN</td>\n",
       "      <td>NaN</td>\n",
       "      <td>NaN</td>\n",
       "    </tr>\n",
       "    <tr>\n",
       "      <th>02: The First Day</th>\n",
       "      <td>NaN</td>\n",
       "      <td>NaN</td>\n",
       "      <td>NaN</td>\n",
       "      <td>NaN</td>\n",
       "      <td>NaN</td>\n",
       "      <td>NaN</td>\n",
       "      <td>NaN</td>\n",
       "      <td>NaN</td>\n",
       "      <td>NaN</td>\n",
       "      <td>1.0</td>\n",
       "      <td>...</td>\n",
       "      <td>NaN</td>\n",
       "      <td>NaN</td>\n",
       "      <td>NaN</td>\n",
       "      <td>NaN</td>\n",
       "      <td>NaN</td>\n",
       "      <td>NaN</td>\n",
       "      <td>NaN</td>\n",
       "      <td>NaN</td>\n",
       "      <td>NaN</td>\n",
       "      <td>NaN</td>\n",
       "    </tr>\n",
       "    <tr>\n",
       "      <th>03: The Night Rhonda Ferguson Was Killed</th>\n",
       "      <td>NaN</td>\n",
       "      <td>NaN</td>\n",
       "      <td>NaN</td>\n",
       "      <td>NaN</td>\n",
       "      <td>1.0</td>\n",
       "      <td>NaN</td>\n",
       "      <td>NaN</td>\n",
       "      <td>NaN</td>\n",
       "      <td>NaN</td>\n",
       "      <td>NaN</td>\n",
       "      <td>...</td>\n",
       "      <td>NaN</td>\n",
       "      <td>NaN</td>\n",
       "      <td>NaN</td>\n",
       "      <td>NaN</td>\n",
       "      <td>NaN</td>\n",
       "      <td>NaN</td>\n",
       "      <td>NaN</td>\n",
       "      <td>NaN</td>\n",
       "      <td>NaN</td>\n",
       "      <td>NaN</td>\n",
       "    </tr>\n",
       "    <tr>\n",
       "      <th>04: Young Lions</th>\n",
       "      <td>NaN</td>\n",
       "      <td>NaN</td>\n",
       "      <td>NaN</td>\n",
       "      <td>NaN</td>\n",
       "      <td>1.0</td>\n",
       "      <td>NaN</td>\n",
       "      <td>1.0</td>\n",
       "      <td>NaN</td>\n",
       "      <td>NaN</td>\n",
       "      <td>NaN</td>\n",
       "      <td>...</td>\n",
       "      <td>1.0</td>\n",
       "      <td>NaN</td>\n",
       "      <td>NaN</td>\n",
       "      <td>NaN</td>\n",
       "      <td>NaN</td>\n",
       "      <td>NaN</td>\n",
       "      <td>NaN</td>\n",
       "      <td>NaN</td>\n",
       "      <td>1.0</td>\n",
       "      <td>NaN</td>\n",
       "    </tr>\n",
       "    <tr>\n",
       "      <th>05: The Store</th>\n",
       "      <td>NaN</td>\n",
       "      <td>NaN</td>\n",
       "      <td>NaN</td>\n",
       "      <td>1.0</td>\n",
       "      <td>1.0</td>\n",
       "      <td>1.0</td>\n",
       "      <td>NaN</td>\n",
       "      <td>1.0</td>\n",
       "      <td>NaN</td>\n",
       "      <td>NaN</td>\n",
       "      <td>...</td>\n",
       "      <td>NaN</td>\n",
       "      <td>NaN</td>\n",
       "      <td>NaN</td>\n",
       "      <td>NaN</td>\n",
       "      <td>1.0</td>\n",
       "      <td>NaN</td>\n",
       "      <td>NaN</td>\n",
       "      <td>NaN</td>\n",
       "      <td>NaN</td>\n",
       "      <td>NaN</td>\n",
       "    </tr>\n",
       "    <tr>\n",
       "      <th>06: An Orange Line Train to Ballston</th>\n",
       "      <td>NaN</td>\n",
       "      <td>NaN</td>\n",
       "      <td>NaN</td>\n",
       "      <td>NaN</td>\n",
       "      <td>1.0</td>\n",
       "      <td>NaN</td>\n",
       "      <td>NaN</td>\n",
       "      <td>NaN</td>\n",
       "      <td>NaN</td>\n",
       "      <td>NaN</td>\n",
       "      <td>...</td>\n",
       "      <td>NaN</td>\n",
       "      <td>NaN</td>\n",
       "      <td>NaN</td>\n",
       "      <td>NaN</td>\n",
       "      <td>NaN</td>\n",
       "      <td>NaN</td>\n",
       "      <td>NaN</td>\n",
       "      <td>NaN</td>\n",
       "      <td>NaN</td>\n",
       "      <td>1.0</td>\n",
       "    </tr>\n",
       "    <tr>\n",
       "      <th>07: The Sunday Following Mother's Day</th>\n",
       "      <td>1.0</td>\n",
       "      <td>1.0</td>\n",
       "      <td>1.0</td>\n",
       "      <td>NaN</td>\n",
       "      <td>1.0</td>\n",
       "      <td>NaN</td>\n",
       "      <td>NaN</td>\n",
       "      <td>NaN</td>\n",
       "      <td>1.0</td>\n",
       "      <td>NaN</td>\n",
       "      <td>...</td>\n",
       "      <td>NaN</td>\n",
       "      <td>NaN</td>\n",
       "      <td>1.0</td>\n",
       "      <td>NaN</td>\n",
       "      <td>NaN</td>\n",
       "      <td>NaN</td>\n",
       "      <td>NaN</td>\n",
       "      <td>NaN</td>\n",
       "      <td>NaN</td>\n",
       "      <td>NaN</td>\n",
       "    </tr>\n",
       "    <tr>\n",
       "      <th>08: Lost in the City</th>\n",
       "      <td>NaN</td>\n",
       "      <td>NaN</td>\n",
       "      <td>NaN</td>\n",
       "      <td>NaN</td>\n",
       "      <td>NaN</td>\n",
       "      <td>NaN</td>\n",
       "      <td>NaN</td>\n",
       "      <td>NaN</td>\n",
       "      <td>NaN</td>\n",
       "      <td>NaN</td>\n",
       "      <td>...</td>\n",
       "      <td>NaN</td>\n",
       "      <td>NaN</td>\n",
       "      <td>NaN</td>\n",
       "      <td>NaN</td>\n",
       "      <td>NaN</td>\n",
       "      <td>NaN</td>\n",
       "      <td>NaN</td>\n",
       "      <td>NaN</td>\n",
       "      <td>NaN</td>\n",
       "      <td>NaN</td>\n",
       "    </tr>\n",
       "    <tr>\n",
       "      <th>09: His Mother's House</th>\n",
       "      <td>1.0</td>\n",
       "      <td>NaN</td>\n",
       "      <td>NaN</td>\n",
       "      <td>NaN</td>\n",
       "      <td>1.0</td>\n",
       "      <td>NaN</td>\n",
       "      <td>NaN</td>\n",
       "      <td>NaN</td>\n",
       "      <td>NaN</td>\n",
       "      <td>NaN</td>\n",
       "      <td>...</td>\n",
       "      <td>NaN</td>\n",
       "      <td>NaN</td>\n",
       "      <td>NaN</td>\n",
       "      <td>NaN</td>\n",
       "      <td>NaN</td>\n",
       "      <td>NaN</td>\n",
       "      <td>NaN</td>\n",
       "      <td>1.0</td>\n",
       "      <td>NaN</td>\n",
       "      <td>NaN</td>\n",
       "    </tr>\n",
       "    <tr>\n",
       "      <th>10: A Butterfly on F Street</th>\n",
       "      <td>NaN</td>\n",
       "      <td>NaN</td>\n",
       "      <td>NaN</td>\n",
       "      <td>NaN</td>\n",
       "      <td>1.0</td>\n",
       "      <td>NaN</td>\n",
       "      <td>NaN</td>\n",
       "      <td>NaN</td>\n",
       "      <td>NaN</td>\n",
       "      <td>NaN</td>\n",
       "      <td>...</td>\n",
       "      <td>NaN</td>\n",
       "      <td>NaN</td>\n",
       "      <td>NaN</td>\n",
       "      <td>NaN</td>\n",
       "      <td>NaN</td>\n",
       "      <td>1.0</td>\n",
       "      <td>NaN</td>\n",
       "      <td>NaN</td>\n",
       "      <td>NaN</td>\n",
       "      <td>NaN</td>\n",
       "    </tr>\n",
       "    <tr>\n",
       "      <th>11: Gospel</th>\n",
       "      <td>NaN</td>\n",
       "      <td>NaN</td>\n",
       "      <td>NaN</td>\n",
       "      <td>NaN</td>\n",
       "      <td>1.0</td>\n",
       "      <td>NaN</td>\n",
       "      <td>NaN</td>\n",
       "      <td>NaN</td>\n",
       "      <td>NaN</td>\n",
       "      <td>1.0</td>\n",
       "      <td>...</td>\n",
       "      <td>NaN</td>\n",
       "      <td>NaN</td>\n",
       "      <td>NaN</td>\n",
       "      <td>NaN</td>\n",
       "      <td>NaN</td>\n",
       "      <td>NaN</td>\n",
       "      <td>1.0</td>\n",
       "      <td>NaN</td>\n",
       "      <td>NaN</td>\n",
       "      <td>NaN</td>\n",
       "    </tr>\n",
       "    <tr>\n",
       "      <th>12: A New Man</th>\n",
       "      <td>NaN</td>\n",
       "      <td>NaN</td>\n",
       "      <td>NaN</td>\n",
       "      <td>NaN</td>\n",
       "      <td>1.0</td>\n",
       "      <td>NaN</td>\n",
       "      <td>NaN</td>\n",
       "      <td>NaN</td>\n",
       "      <td>NaN</td>\n",
       "      <td>1.0</td>\n",
       "      <td>...</td>\n",
       "      <td>NaN</td>\n",
       "      <td>NaN</td>\n",
       "      <td>NaN</td>\n",
       "      <td>NaN</td>\n",
       "      <td>NaN</td>\n",
       "      <td>NaN</td>\n",
       "      <td>1.0</td>\n",
       "      <td>NaN</td>\n",
       "      <td>NaN</td>\n",
       "      <td>NaN</td>\n",
       "    </tr>\n",
       "    <tr>\n",
       "      <th>13: A Dark Night</th>\n",
       "      <td>NaN</td>\n",
       "      <td>NaN</td>\n",
       "      <td>NaN</td>\n",
       "      <td>NaN</td>\n",
       "      <td>1.0</td>\n",
       "      <td>NaN</td>\n",
       "      <td>NaN</td>\n",
       "      <td>NaN</td>\n",
       "      <td>NaN</td>\n",
       "      <td>NaN</td>\n",
       "      <td>...</td>\n",
       "      <td>NaN</td>\n",
       "      <td>NaN</td>\n",
       "      <td>NaN</td>\n",
       "      <td>NaN</td>\n",
       "      <td>NaN</td>\n",
       "      <td>NaN</td>\n",
       "      <td>NaN</td>\n",
       "      <td>NaN</td>\n",
       "      <td>NaN</td>\n",
       "      <td>NaN</td>\n",
       "    </tr>\n",
       "    <tr>\n",
       "      <th>14: Marie</th>\n",
       "      <td>NaN</td>\n",
       "      <td>NaN</td>\n",
       "      <td>NaN</td>\n",
       "      <td>NaN</td>\n",
       "      <td>1.0</td>\n",
       "      <td>NaN</td>\n",
       "      <td>NaN</td>\n",
       "      <td>NaN</td>\n",
       "      <td>NaN</td>\n",
       "      <td>NaN</td>\n",
       "      <td>...</td>\n",
       "      <td>NaN</td>\n",
       "      <td>NaN</td>\n",
       "      <td>NaN</td>\n",
       "      <td>NaN</td>\n",
       "      <td>NaN</td>\n",
       "      <td>NaN</td>\n",
       "      <td>NaN</td>\n",
       "      <td>NaN</td>\n",
       "      <td>NaN</td>\n",
       "      <td>NaN</td>\n",
       "    </tr>\n",
       "  </tbody>\n",
       "</table>\n",
       "<p>14 rows × 6207 columns</p>\n",
       "</div>"
      ],
      "text/plain": [
       "term                                      abandoned  abhored  abide  ability  \\\n",
       "story                                                                          \n",
       "01: The Girl Who Raised Pigeons                 1.0      NaN    NaN      NaN   \n",
       "02: The First Day                               NaN      NaN    NaN      NaN   \n",
       "03: The Night Rhonda Ferguson Was Killed        NaN      NaN    NaN      NaN   \n",
       "04: Young Lions                                 NaN      NaN    NaN      NaN   \n",
       "05: The Store                                   NaN      NaN    NaN      1.0   \n",
       "06: An Orange Line Train to Ballston            NaN      NaN    NaN      NaN   \n",
       "07: The Sunday Following Mother's Day           1.0      1.0    1.0      NaN   \n",
       "08: Lost in the City                            NaN      NaN    NaN      NaN   \n",
       "09: His Mother's House                          1.0      NaN    NaN      NaN   \n",
       "10: A Butterfly on F Street                     NaN      NaN    NaN      NaN   \n",
       "11: Gospel                                      NaN      NaN    NaN      NaN   \n",
       "12: A New Man                                   NaN      NaN    NaN      NaN   \n",
       "13: A Dark Night                                NaN      NaN    NaN      NaN   \n",
       "14: Marie                                       NaN      NaN    NaN      NaN   \n",
       "\n",
       "term                                      able  abomination  aboum  \\\n",
       "story                                                                \n",
       "01: The Girl Who Raised Pigeons            1.0          NaN    NaN   \n",
       "02: The First Day                          NaN          NaN    NaN   \n",
       "03: The Night Rhonda Ferguson Was Killed   1.0          NaN    NaN   \n",
       "04: Young Lions                            1.0          NaN    1.0   \n",
       "05: The Store                              1.0          1.0    NaN   \n",
       "06: An Orange Line Train to Ballston       1.0          NaN    NaN   \n",
       "07: The Sunday Following Mother's Day      1.0          NaN    NaN   \n",
       "08: Lost in the City                       NaN          NaN    NaN   \n",
       "09: His Mother's House                     1.0          NaN    NaN   \n",
       "10: A Butterfly on F Street                1.0          NaN    NaN   \n",
       "11: Gospel                                 1.0          NaN    NaN   \n",
       "12: A New Man                              1.0          NaN    NaN   \n",
       "13: A Dark Night                           1.0          NaN    NaN   \n",
       "14: Marie                                  1.0          NaN    NaN   \n",
       "\n",
       "term                                      aboutfcfteen  abqu  absently  ...  \\\n",
       "story                                                                   ...   \n",
       "01: The Girl Who Raised Pigeons                    NaN   NaN       1.0  ...   \n",
       "02: The First Day                                  NaN   NaN       1.0  ...   \n",
       "03: The Night Rhonda Ferguson Was Killed           NaN   NaN       NaN  ...   \n",
       "04: Young Lions                                    NaN   NaN       NaN  ...   \n",
       "05: The Store                                      1.0   NaN       NaN  ...   \n",
       "06: An Orange Line Train to Ballston               NaN   NaN       NaN  ...   \n",
       "07: The Sunday Following Mother's Day              NaN   1.0       NaN  ...   \n",
       "08: Lost in the City                               NaN   NaN       NaN  ...   \n",
       "09: His Mother's House                             NaN   NaN       NaN  ...   \n",
       "10: A Butterfly on F Street                        NaN   NaN       NaN  ...   \n",
       "11: Gospel                                         NaN   NaN       1.0  ...   \n",
       "12: A New Man                                      NaN   NaN       1.0  ...   \n",
       "13: A Dark Night                                   NaN   NaN       NaN  ...   \n",
       "14: Marie                                          NaN   NaN       NaN  ...   \n",
       "\n",
       "term                                      ypu   yr  ysirs  ythe  yuddini  \\\n",
       "story                                                                      \n",
       "01: The Girl Who Raised Pigeons           NaN  1.0    NaN   1.0      NaN   \n",
       "02: The First Day                         NaN  NaN    NaN   NaN      NaN   \n",
       "03: The Night Rhonda Ferguson Was Killed  NaN  NaN    NaN   NaN      NaN   \n",
       "04: Young Lions                           1.0  NaN    NaN   NaN      NaN   \n",
       "05: The Store                             NaN  NaN    NaN   NaN      1.0   \n",
       "06: An Orange Line Train to Ballston      NaN  NaN    NaN   NaN      NaN   \n",
       "07: The Sunday Following Mother's Day     NaN  NaN    1.0   NaN      NaN   \n",
       "08: Lost in the City                      NaN  NaN    NaN   NaN      NaN   \n",
       "09: His Mother's House                    NaN  NaN    NaN   NaN      NaN   \n",
       "10: A Butterfly on F Street               NaN  NaN    NaN   NaN      NaN   \n",
       "11: Gospel                                NaN  NaN    NaN   NaN      NaN   \n",
       "12: A New Man                             NaN  NaN    NaN   NaN      NaN   \n",
       "13: A Dark Night                          NaN  NaN    NaN   NaN      NaN   \n",
       "14: Marie                                 NaN  NaN    NaN   NaN      NaN   \n",
       "\n",
       "term                                      zigzagging  zion  zipped  zippers  \\\n",
       "story                                                                         \n",
       "01: The Girl Who Raised Pigeons                  NaN   NaN     NaN      NaN   \n",
       "02: The First Day                                NaN   NaN     NaN      NaN   \n",
       "03: The Night Rhonda Ferguson Was Killed         NaN   NaN     NaN      NaN   \n",
       "04: Young Lions                                  NaN   NaN     NaN      1.0   \n",
       "05: The Store                                    NaN   NaN     NaN      NaN   \n",
       "06: An Orange Line Train to Ballston             NaN   NaN     NaN      NaN   \n",
       "07: The Sunday Following Mother's Day            NaN   NaN     NaN      NaN   \n",
       "08: Lost in the City                             NaN   NaN     NaN      NaN   \n",
       "09: His Mother's House                           NaN   NaN     1.0      NaN   \n",
       "10: A Butterfly on F Street                      1.0   NaN     NaN      NaN   \n",
       "11: Gospel                                       NaN   1.0     NaN      NaN   \n",
       "12: A New Man                                    NaN   1.0     NaN      NaN   \n",
       "13: A Dark Night                                 NaN   NaN     NaN      NaN   \n",
       "14: Marie                                        NaN   NaN     NaN      NaN   \n",
       "\n",
       "term                                      zoo  \n",
       "story                                          \n",
       "01: The Girl Who Raised Pigeons           NaN  \n",
       "02: The First Day                         NaN  \n",
       "03: The Night Rhonda Ferguson Was Killed  NaN  \n",
       "04: Young Lions                           NaN  \n",
       "05: The Store                             NaN  \n",
       "06: An Orange Line Train to Ballston      1.0  \n",
       "07: The Sunday Following Mother's Day     NaN  \n",
       "08: Lost in the City                      NaN  \n",
       "09: His Mother's House                    NaN  \n",
       "10: A Butterfly on F Street               NaN  \n",
       "11: Gospel                                NaN  \n",
       "12: A New Man                             NaN  \n",
       "13: A Dark Night                          NaN  \n",
       "14: Marie                                 NaN  \n",
       "\n",
       "[14 rows x 6207 columns]"
      ]
     },
     "execution_count": 28,
     "metadata": {},
     "output_type": "execute_result"
    }
   ],
   "source": [
    "word_frequency_df.groupby(['story','term']).size().unstack()"
   ]
  },
  {
   "cell_type": "markdown",
   "metadata": {},
   "source": [
    "Then we're adding up how many stories each term appears in (`.sum()`) and resetting the index (`.reset_index()`) to make a DataFrame."
   ]
  },
  {
   "cell_type": "markdown",
   "metadata": {},
   "source": [
    "Finally, we will rename the column in this DataFrame and merge it into our word frequency DataFrame."
   ]
  },
  {
   "cell_type": "code",
   "execution_count": 29,
   "metadata": {},
   "outputs": [],
   "source": [
    "document_frequency_df = document_frequency_df.rename(columns={0:'document_frequency'})"
   ]
  },
  {
   "cell_type": "code",
   "execution_count": 30,
   "metadata": {},
   "outputs": [],
   "source": [
    "word_frequency_df = word_frequency_df.merge(document_frequency_df)"
   ]
  },
  {
   "cell_type": "markdown",
   "metadata": {},
   "source": [
    "Now we have term frequency and document frequency."
   ]
  },
  {
   "cell_type": "code",
   "execution_count": 31,
   "metadata": {},
   "outputs": [
    {
     "data": {
      "text/html": [
       "<div>\n",
       "<style scoped>\n",
       "    .dataframe tbody tr th:only-of-type {\n",
       "        vertical-align: middle;\n",
       "    }\n",
       "\n",
       "    .dataframe tbody tr th {\n",
       "        vertical-align: top;\n",
       "    }\n",
       "\n",
       "    .dataframe thead th {\n",
       "        text-align: right;\n",
       "    }\n",
       "</style>\n",
       "<table border=\"1\" class=\"dataframe\">\n",
       "  <thead>\n",
       "    <tr style=\"text-align: right;\">\n",
       "      <th></th>\n",
       "      <th>story</th>\n",
       "      <th>term</th>\n",
       "      <th>term_frequency</th>\n",
       "      <th>document_frequency</th>\n",
       "    </tr>\n",
       "  </thead>\n",
       "  <tbody>\n",
       "    <tr>\n",
       "      <th>0</th>\n",
       "      <td>01: The Girl Who Raised Pigeons</td>\n",
       "      <td>abandoned</td>\n",
       "      <td>2</td>\n",
       "      <td>3.0</td>\n",
       "    </tr>\n",
       "    <tr>\n",
       "      <th>1</th>\n",
       "      <td>07: The Sunday Following Mother's Day</td>\n",
       "      <td>abandoned</td>\n",
       "      <td>1</td>\n",
       "      <td>3.0</td>\n",
       "    </tr>\n",
       "    <tr>\n",
       "      <th>2</th>\n",
       "      <td>09: His Mother's House</td>\n",
       "      <td>abandoned</td>\n",
       "      <td>1</td>\n",
       "      <td>3.0</td>\n",
       "    </tr>\n",
       "    <tr>\n",
       "      <th>3</th>\n",
       "      <td>01: The Girl Who Raised Pigeons</td>\n",
       "      <td>able</td>\n",
       "      <td>2</td>\n",
       "      <td>12.0</td>\n",
       "    </tr>\n",
       "    <tr>\n",
       "      <th>4</th>\n",
       "      <td>03: The Night Rhonda Ferguson Was Killed</td>\n",
       "      <td>able</td>\n",
       "      <td>3</td>\n",
       "      <td>12.0</td>\n",
       "    </tr>\n",
       "    <tr>\n",
       "      <th>...</th>\n",
       "      <td>...</td>\n",
       "      <td>...</td>\n",
       "      <td>...</td>\n",
       "      <td>...</td>\n",
       "    </tr>\n",
       "    <tr>\n",
       "      <th>15721</th>\n",
       "      <td>14: Marie</td>\n",
       "      <td>whim</td>\n",
       "      <td>1</td>\n",
       "      <td>1.0</td>\n",
       "    </tr>\n",
       "    <tr>\n",
       "      <th>15722</th>\n",
       "      <td>14: Marie</td>\n",
       "      <td>wilamena</td>\n",
       "      <td>20</td>\n",
       "      <td>1.0</td>\n",
       "    </tr>\n",
       "    <tr>\n",
       "      <th>15723</th>\n",
       "      <td>14: Marie</td>\n",
       "      <td>wise</td>\n",
       "      <td>8</td>\n",
       "      <td>1.0</td>\n",
       "    </tr>\n",
       "    <tr>\n",
       "      <th>15724</th>\n",
       "      <td>14: Marie</td>\n",
       "      <td>womanish</td>\n",
       "      <td>1</td>\n",
       "      <td>1.0</td>\n",
       "    </tr>\n",
       "    <tr>\n",
       "      <th>15725</th>\n",
       "      <td>14: Marie</td>\n",
       "      <td>worships</td>\n",
       "      <td>1</td>\n",
       "      <td>1.0</td>\n",
       "    </tr>\n",
       "  </tbody>\n",
       "</table>\n",
       "<p>15726 rows × 4 columns</p>\n",
       "</div>"
      ],
      "text/plain": [
       "                                          story       term  term_frequency  \\\n",
       "0               01: The Girl Who Raised Pigeons  abandoned               2   \n",
       "1         07: The Sunday Following Mother's Day  abandoned               1   \n",
       "2                        09: His Mother's House  abandoned               1   \n",
       "3               01: The Girl Who Raised Pigeons       able               2   \n",
       "4      03: The Night Rhonda Ferguson Was Killed       able               3   \n",
       "...                                         ...        ...             ...   \n",
       "15721                                 14: Marie       whim               1   \n",
       "15722                                 14: Marie   wilamena              20   \n",
       "15723                                 14: Marie       wise               8   \n",
       "15724                                 14: Marie   womanish               1   \n",
       "15725                                 14: Marie   worships               1   \n",
       "\n",
       "       document_frequency  \n",
       "0                     3.0  \n",
       "1                     3.0  \n",
       "2                     3.0  \n",
       "3                    12.0  \n",
       "4                    12.0  \n",
       "...                   ...  \n",
       "15721                 1.0  \n",
       "15722                 1.0  \n",
       "15723                 1.0  \n",
       "15724                 1.0  \n",
       "15725                 1.0  \n",
       "\n",
       "[15726 rows x 4 columns]"
      ]
     },
     "execution_count": 31,
     "metadata": {},
     "output_type": "execute_result"
    }
   ],
   "source": [
    "word_frequency_df"
   ]
  },
  {
   "cell_type": "markdown",
   "metadata": {},
   "source": [
    "As you can see in the DataFrame above, the term \"abandoned\" appears 2 times in the story \"The Girl Who Raised Pigeons\" (term frequency), and it appears in 3 different stories in the collection overall (document frequency)."
   ]
  },
  {
   "cell_type": "markdown",
   "metadata": {},
   "source": [
    "### Total Number of Documents "
   ]
  },
  {
   "cell_type": "markdown",
   "metadata": {},
   "source": [
    "To calculate the total number of documents are in the collection, we count how many unique values are in the \"story\" column (we know the answer should be 14 short stories)."
   ]
  },
  {
   "cell_type": "code",
   "execution_count": 32,
   "metadata": {},
   "outputs": [],
   "source": [
    "total_number_of_documents = lost_df_flattened['story'].nunique()"
   ]
  },
  {
   "cell_type": "code",
   "execution_count": 33,
   "metadata": {},
   "outputs": [
    {
     "data": {
      "text/plain": [
       "14"
      ]
     },
     "execution_count": 33,
     "metadata": {},
     "output_type": "execute_result"
    }
   ],
   "source": [
    "total_number_of_documents"
   ]
  },
  {
   "cell_type": "markdown",
   "metadata": {},
   "source": [
    "### Inverse Document Frequency"
   ]
  },
  {
   "cell_type": "markdown",
   "metadata": {},
   "source": [
    "As we previously established, there are a lot of slightly different versions of the tf-idf formula, but we're going to use the default version from the [scikit-learn library](https://scikit-learn.org/stable/modules/generated/sklearn.feature_extraction.text.TfidfTransformer.html#sklearn.feature_extraction.text.TfidfTransformer) that adds \"smoothing\" to inverse document frequency."
   ]
  },
  {
   "cell_type": "markdown",
   "metadata": {},
   "source": [
    "```\n",
    "inverse_document_frequency = log [ (1 + total number of docs) / (1 + document frequency) ] + 1\n",
    "```"
   ]
  },
  {
   "cell_type": "code",
   "execution_count": 34,
   "metadata": {},
   "outputs": [],
   "source": [
    "import numpy as np"
   ]
  },
  {
   "cell_type": "code",
   "execution_count": 35,
   "metadata": {},
   "outputs": [],
   "source": [
    "word_frequency_df['idf'] = np.log((1 + total_number_of_documents) / (1 + word_frequency_df['document_frequency'])) + 1"
   ]
  },
  {
   "cell_type": "markdown",
   "metadata": {},
   "source": [
    "### TF- IDF"
   ]
  },
  {
   "cell_type": "markdown",
   "metadata": {},
   "source": [
    "Finally, we will calculate tf-idf by multiplying term frequency and inverse document frequency together."
   ]
  },
  {
   "cell_type": "code",
   "execution_count": 36,
   "metadata": {},
   "outputs": [],
   "source": [
    "word_frequency_df['tfidf'] = word_frequency_df['term_frequency'] * word_frequency_df['idf']"
   ]
  },
  {
   "cell_type": "markdown",
   "metadata": {},
   "source": [
    "Then we will normalize these values with the scikit-learn library."
   ]
  },
  {
   "cell_type": "code",
   "execution_count": 37,
   "metadata": {},
   "outputs": [],
   "source": [
    "from sklearn import preprocessing"
   ]
  },
  {
   "cell_type": "code",
   "execution_count": 38,
   "metadata": {},
   "outputs": [],
   "source": [
    "word_frequency_df['tfidf_normalized'] = preprocessing.normalize(word_frequency_df[['tfidf']], axis=0, norm='l2')"
   ]
  },
  {
   "cell_type": "markdown",
   "metadata": {},
   "source": [
    "We did it! Now let's inspect the top 15 words with the highest tfidf scores for each story in the collection"
   ]
  },
  {
   "cell_type": "code",
   "execution_count": 39,
   "metadata": {
    "scrolled": true,
    "tags": [
     "output_scroll"
    ]
   },
   "outputs": [
    {
     "data": {
      "text/html": [
       "<div>\n",
       "<style scoped>\n",
       "    .dataframe tbody tr th:only-of-type {\n",
       "        vertical-align: middle;\n",
       "    }\n",
       "\n",
       "    .dataframe tbody tr th {\n",
       "        vertical-align: top;\n",
       "    }\n",
       "\n",
       "    .dataframe thead th {\n",
       "        text-align: right;\n",
       "    }\n",
       "</style>\n",
       "<table border=\"1\" class=\"dataframe\">\n",
       "  <thead>\n",
       "    <tr style=\"text-align: right;\">\n",
       "      <th></th>\n",
       "      <th>story</th>\n",
       "      <th>term</th>\n",
       "      <th>term_frequency</th>\n",
       "      <th>document_frequency</th>\n",
       "      <th>idf</th>\n",
       "      <th>tfidf</th>\n",
       "      <th>tfidf_normalized</th>\n",
       "    </tr>\n",
       "  </thead>\n",
       "  <tbody>\n",
       "    <tr>\n",
       "      <th>655</th>\n",
       "      <td>01: The Girl Who Raised Pigeons</td>\n",
       "      <td>betsy</td>\n",
       "      <td>44</td>\n",
       "      <td>1.0</td>\n",
       "      <td>3.014903</td>\n",
       "      <td>132.655733</td>\n",
       "      <td>0.106417</td>\n",
       "    </tr>\n",
       "    <tr>\n",
       "      <th>3317</th>\n",
       "      <td>01: The Girl Who Raised Pigeons</td>\n",
       "      <td>jenny</td>\n",
       "      <td>42</td>\n",
       "      <td>1.0</td>\n",
       "      <td>3.014903</td>\n",
       "      <td>126.625927</td>\n",
       "      <td>0.101580</td>\n",
       "    </tr>\n",
       "    <tr>\n",
       "      <th>212</th>\n",
       "      <td>01: The Girl Who Raised Pigeons</td>\n",
       "      <td>ann</td>\n",
       "      <td>45</td>\n",
       "      <td>2.0</td>\n",
       "      <td>2.609438</td>\n",
       "      <td>117.424706</td>\n",
       "      <td>0.094199</td>\n",
       "    </tr>\n",
       "    <tr>\n",
       "      <th>5566</th>\n",
       "      <td>01: The Girl Who Raised Pigeons</td>\n",
       "      <td>robert</td>\n",
       "      <td>36</td>\n",
       "      <td>1.0</td>\n",
       "      <td>3.014903</td>\n",
       "      <td>108.536509</td>\n",
       "      <td>0.087069</td>\n",
       "    </tr>\n",
       "    <tr>\n",
       "      <th>1384</th>\n",
       "      <td>01: The Girl Who Raised Pigeons</td>\n",
       "      <td>coop</td>\n",
       "      <td>28</td>\n",
       "      <td>1.0</td>\n",
       "      <td>3.014903</td>\n",
       "      <td>84.417285</td>\n",
       "      <td>0.067720</td>\n",
       "    </tr>\n",
       "    <tr>\n",
       "      <th>...</th>\n",
       "      <td>...</td>\n",
       "      <td>...</td>\n",
       "      <td>...</td>\n",
       "      <td>...</td>\n",
       "      <td>...</td>\n",
       "      <td>...</td>\n",
       "      <td>...</td>\n",
       "    </tr>\n",
       "    <tr>\n",
       "      <th>11578</th>\n",
       "      <td>14: Marie</td>\n",
       "      <td>social</td>\n",
       "      <td>10</td>\n",
       "      <td>2.0</td>\n",
       "      <td>2.609438</td>\n",
       "      <td>26.094379</td>\n",
       "      <td>0.020933</td>\n",
       "    </tr>\n",
       "    <tr>\n",
       "      <th>4769</th>\n",
       "      <td>14: Marie</td>\n",
       "      <td>one</td>\n",
       "      <td>25</td>\n",
       "      <td>14.0</td>\n",
       "      <td>1.000000</td>\n",
       "      <td>25.000000</td>\n",
       "      <td>0.020055</td>\n",
       "    </tr>\n",
       "    <tr>\n",
       "      <th>15552</th>\n",
       "      <td>14: Marie</td>\n",
       "      <td>calhoun</td>\n",
       "      <td>8</td>\n",
       "      <td>1.0</td>\n",
       "      <td>3.014903</td>\n",
       "      <td>24.119224</td>\n",
       "      <td>0.019349</td>\n",
       "    </tr>\n",
       "    <tr>\n",
       "      <th>15723</th>\n",
       "      <td>14: Marie</td>\n",
       "      <td>wise</td>\n",
       "      <td>8</td>\n",
       "      <td>1.0</td>\n",
       "      <td>3.014903</td>\n",
       "      <td>24.119224</td>\n",
       "      <td>0.019349</td>\n",
       "    </tr>\n",
       "    <tr>\n",
       "      <th>15037</th>\n",
       "      <td>14: Marie</td>\n",
       "      <td>smith</td>\n",
       "      <td>9</td>\n",
       "      <td>2.0</td>\n",
       "      <td>2.609438</td>\n",
       "      <td>23.484941</td>\n",
       "      <td>0.018840</td>\n",
       "    </tr>\n",
       "  </tbody>\n",
       "</table>\n",
       "<p>210 rows × 7 columns</p>\n",
       "</div>"
      ],
      "text/plain": [
       "                                 story     term  term_frequency  \\\n",
       "655    01: The Girl Who Raised Pigeons    betsy              44   \n",
       "3317   01: The Girl Who Raised Pigeons    jenny              42   \n",
       "212    01: The Girl Who Raised Pigeons      ann              45   \n",
       "5566   01: The Girl Who Raised Pigeons   robert              36   \n",
       "1384   01: The Girl Who Raised Pigeons     coop              28   \n",
       "...                                ...      ...             ...   \n",
       "11578                        14: Marie   social              10   \n",
       "4769                         14: Marie      one              25   \n",
       "15552                        14: Marie  calhoun               8   \n",
       "15723                        14: Marie     wise               8   \n",
       "15037                        14: Marie    smith               9   \n",
       "\n",
       "       document_frequency       idf       tfidf  tfidf_normalized  \n",
       "655                   1.0  3.014903  132.655733          0.106417  \n",
       "3317                  1.0  3.014903  126.625927          0.101580  \n",
       "212                   2.0  2.609438  117.424706          0.094199  \n",
       "5566                  1.0  3.014903  108.536509          0.087069  \n",
       "1384                  1.0  3.014903   84.417285          0.067720  \n",
       "...                   ...       ...         ...               ...  \n",
       "11578                 2.0  2.609438   26.094379          0.020933  \n",
       "4769                 14.0  1.000000   25.000000          0.020055  \n",
       "15552                 1.0  3.014903   24.119224          0.019349  \n",
       "15723                 1.0  3.014903   24.119224          0.019349  \n",
       "15037                 2.0  2.609438   23.484941          0.018840  \n",
       "\n",
       "[210 rows x 7 columns]"
      ]
     },
     "execution_count": 39,
     "metadata": {},
     "output_type": "execute_result"
    }
   ],
   "source": [
    "word_frequency_df.sort_values(by=['story','tfidf_normalized'], ascending=[True,False]).groupby(['story']).head(15)"
   ]
  },
  {
   "cell_type": "markdown",
   "metadata": {},
   "source": [
    "It turns out that \"pigeons\" are pretty unique to the first short story in *Lost in the City* and have a normalized tf-idf score of .062, making it one of the most distinctive words in that story along with \"coop\" and \"birds.\"\n",
    "\n",
    "What are some other distinctive words in *Lost in the City*?"
   ]
  },
  {
   "cell_type": "markdown",
   "metadata": {},
   "source": [
    "## Further Resources"
   ]
  },
  {
   "cell_type": "markdown",
   "metadata": {},
   "source": [
    "- Peter Organisciak and Boris Capitanu, [\"Text Mining in Python through the HTRC Feature Reader,\"](https://programminghistorian.org/en/lessons/text-mining-with-extracted-features) *The Programming Historian*\n"
   ]
  }
 ],
 "metadata": {
  "kernelspec": {
   "display_name": "Python 3",
   "language": "python",
   "name": "python3"
  },
  "language_info": {
   "codemirror_mode": {
    "name": "ipython",
    "version": 3
   },
   "file_extension": ".py",
   "mimetype": "text/x-python",
   "name": "python",
   "nbconvert_exporter": "python",
   "pygments_lexer": "ipython3",
   "version": "3.7.6"
  }
 },
 "nbformat": 4,
 "nbformat_minor": 4
}

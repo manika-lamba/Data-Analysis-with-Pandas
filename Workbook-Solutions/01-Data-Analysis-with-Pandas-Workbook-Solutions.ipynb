{
 "cells": [
  {
   "cell_type": "markdown",
   "metadata": {},
   "source": [
    "# Data Analysis with Pandas — Day 1 Workbook Solutions\n",
    "## E-Book Exploration"
   ]
  },
  {
   "cell_type": "markdown",
   "metadata": {},
   "source": [
    "This is the Day 1 practice workbook solutions for the June 2021 course \"Data Analysis with Pandas,\" part of the [Text Analysis Pedagogy Institute](https://nkelber.github.io/tapi2021/book/intro.html)."
   ]
  },
  {
   "cell_type": "markdown",
   "metadata": {},
   "source": [
    "## Import Pandas\n",
    "\n",
    "To use the Pandas library, we first need to `import` it."
   ]
  },
  {
   "cell_type": "code",
   "execution_count": 4,
   "metadata": {},
   "outputs": [],
   "source": [
    "import pandas as pd"
   ]
  },
  {
   "cell_type": "markdown",
   "metadata": {},
   "source": [
    "## Load Data"
   ]
  },
  {
   "cell_type": "markdown",
   "metadata": {},
   "source": [
    "Read in the CSV file `Seattle-Library_2015-2021-Workbook.csv`, which is in the current directory, and save it as a variable `seattle_df`."
   ]
  },
  {
   "cell_type": "markdown",
   "metadata": {},
   "source": [
    "<div class=\"admonition warning\" name=\"html-admonition\" style=\"background: pink; padding: 10px\">\n",
    "<p class=\"title\"><b/>Heads up!</b></p>\n",
    "\n",
    "\n",
    "This CSV file uses a different `delimiter` than the one we used previously. If you use the exact same code as the Day 1 notebook, you will get an error.\n",
    "\n",
    "You need to alter one part of the code to read in this CSV file correctly. \n",
    "</div>"
   ]
  },
  {
   "cell_type": "code",
   "execution_count": 15,
   "metadata": {},
   "outputs": [],
   "source": [
    "seattle_df = pd.read_csv('Seattle-Library_2015-2021-Workbook.csv', delimiter=\"\\t\", encoding=\"utf-8\")"
   ]
  },
  {
   "cell_type": "markdown",
   "metadata": {},
   "source": [
    "## Subset/Filter Data"
   ]
  },
  {
   "cell_type": "markdown",
   "metadata": {},
   "source": [
    "Now filter the DataFrame so that it only incudes items that are ebooks."
   ]
  },
  {
   "cell_type": "code",
   "execution_count": 16,
   "metadata": {
    "scrolled": true
   },
   "outputs": [
    {
     "data": {
      "text/html": [
       "<div>\n",
       "<style scoped>\n",
       "    .dataframe tbody tr th:only-of-type {\n",
       "        vertical-align: middle;\n",
       "    }\n",
       "\n",
       "    .dataframe tbody tr th {\n",
       "        vertical-align: top;\n",
       "    }\n",
       "\n",
       "    .dataframe thead th {\n",
       "        text-align: right;\n",
       "    }\n",
       "</style>\n",
       "<table border=\"1\" class=\"dataframe\">\n",
       "  <thead>\n",
       "    <tr style=\"text-align: right;\">\n",
       "      <th></th>\n",
       "      <th>Title</th>\n",
       "      <th>Creator</th>\n",
       "      <th>MaterialType</th>\n",
       "      <th>Checkouts</th>\n",
       "      <th>CheckoutYear</th>\n",
       "      <th>CheckoutMonth</th>\n",
       "      <th>Publisher</th>\n",
       "      <th>PublicationYear</th>\n",
       "      <th>Subjects</th>\n",
       "      <th>UsageClass</th>\n",
       "      <th>CheckoutType</th>\n",
       "    </tr>\n",
       "  </thead>\n",
       "  <tbody>\n",
       "    <tr>\n",
       "      <th>3</th>\n",
       "      <td>The Man in the High Castle</td>\n",
       "      <td>Philip K. Dick</td>\n",
       "      <td>EBOOK</td>\n",
       "      <td>63</td>\n",
       "      <td>2016</td>\n",
       "      <td>10</td>\n",
       "      <td>Houghton Mifflin Harcourt Trade and Reference</td>\n",
       "      <td>2012</td>\n",
       "      <td>Fiction, Science Fiction</td>\n",
       "      <td>Digital</td>\n",
       "      <td>OverDrive</td>\n",
       "    </tr>\n",
       "    <tr>\n",
       "      <th>4</th>\n",
       "      <td>The Fifth Season: Broken Earth Series, Book 1</td>\n",
       "      <td>N. K. Jemisin</td>\n",
       "      <td>EBOOK</td>\n",
       "      <td>44</td>\n",
       "      <td>2016</td>\n",
       "      <td>10</td>\n",
       "      <td>Hachette Digital, Inc.</td>\n",
       "      <td>2015</td>\n",
       "      <td>Fantasy, Fiction, Thriller</td>\n",
       "      <td>Digital</td>\n",
       "      <td>OverDrive</td>\n",
       "    </tr>\n",
       "    <tr>\n",
       "      <th>17</th>\n",
       "      <td>You'll Grow Out of It</td>\n",
       "      <td>Jessi Klein</td>\n",
       "      <td>EBOOK</td>\n",
       "      <td>37</td>\n",
       "      <td>2016</td>\n",
       "      <td>10</td>\n",
       "      <td>Hachette Digital, Inc.</td>\n",
       "      <td>2016</td>\n",
       "      <td>Biography &amp; Autobiography, Humor (Nonfiction), Nonfiction, Performing Arts</td>\n",
       "      <td>Digital</td>\n",
       "      <td>OverDrive</td>\n",
       "    </tr>\n",
       "    <tr>\n",
       "      <th>19</th>\n",
       "      <td>The Last Mile: Amos Decker Series, Book 2</td>\n",
       "      <td>David Baldacci</td>\n",
       "      <td>EBOOK</td>\n",
       "      <td>64</td>\n",
       "      <td>2016</td>\n",
       "      <td>10</td>\n",
       "      <td>Hachette Digital, Inc.</td>\n",
       "      <td>2016</td>\n",
       "      <td>Fiction, Thriller</td>\n",
       "      <td>Digital</td>\n",
       "      <td>OverDrive</td>\n",
       "    </tr>\n",
       "    <tr>\n",
       "      <th>23</th>\n",
       "      <td>The Maze Runner: The Maze Runner Series, Book 1</td>\n",
       "      <td>James Dashner</td>\n",
       "      <td>EBOOK</td>\n",
       "      <td>50</td>\n",
       "      <td>2016</td>\n",
       "      <td>10</td>\n",
       "      <td>Random House, Inc.</td>\n",
       "      <td>2009</td>\n",
       "      <td>Fantasy, Suspense, Young Adult Fiction, Young Adult Literature</td>\n",
       "      <td>Digital</td>\n",
       "      <td>OverDrive</td>\n",
       "    </tr>\n",
       "    <tr>\n",
       "      <th>...</th>\n",
       "      <td>...</td>\n",
       "      <td>...</td>\n",
       "      <td>...</td>\n",
       "      <td>...</td>\n",
       "      <td>...</td>\n",
       "      <td>...</td>\n",
       "      <td>...</td>\n",
       "      <td>...</td>\n",
       "      <td>...</td>\n",
       "      <td>...</td>\n",
       "      <td>...</td>\n",
       "    </tr>\n",
       "    <tr>\n",
       "      <th>282277</th>\n",
       "      <td>Hamnet</td>\n",
       "      <td>Maggie O'Farrell</td>\n",
       "      <td>EBOOK</td>\n",
       "      <td>150</td>\n",
       "      <td>2021</td>\n",
       "      <td>5</td>\n",
       "      <td>Random House, Inc.</td>\n",
       "      <td>2020</td>\n",
       "      <td>Fiction, Literature, Historical Fiction</td>\n",
       "      <td>Digital</td>\n",
       "      <td>OverDrive</td>\n",
       "    </tr>\n",
       "    <tr>\n",
       "      <th>282278</th>\n",
       "      <td>The Vanishing Half: A Novel</td>\n",
       "      <td>Brit Bennett</td>\n",
       "      <td>EBOOK</td>\n",
       "      <td>547</td>\n",
       "      <td>2021</td>\n",
       "      <td>5</td>\n",
       "      <td>Penguin Group (USA), Inc.</td>\n",
       "      <td>2020</td>\n",
       "      <td>Fiction, Literature</td>\n",
       "      <td>Digital</td>\n",
       "      <td>OverDrive</td>\n",
       "    </tr>\n",
       "    <tr>\n",
       "      <th>282282</th>\n",
       "      <td>The Fire Next Time</td>\n",
       "      <td>James Baldwin</td>\n",
       "      <td>EBOOK</td>\n",
       "      <td>23</td>\n",
       "      <td>2021</td>\n",
       "      <td>5</td>\n",
       "      <td>Random House, Inc.</td>\n",
       "      <td>2013</td>\n",
       "      <td>Sociology, African American Nonfiction, Nonfiction</td>\n",
       "      <td>Digital</td>\n",
       "      <td>OverDrive</td>\n",
       "    </tr>\n",
       "    <tr>\n",
       "      <th>282285</th>\n",
       "      <td>Harry Potter and the Order of the Phoenix: Harry Potter Series, Book 5</td>\n",
       "      <td>J. K. Rowling</td>\n",
       "      <td>EBOOK</td>\n",
       "      <td>32</td>\n",
       "      <td>2021</td>\n",
       "      <td>5</td>\n",
       "      <td>Pottermore</td>\n",
       "      <td>2012</td>\n",
       "      <td>Juvenile Fiction, Juvenile Literature</td>\n",
       "      <td>Digital</td>\n",
       "      <td>OverDrive</td>\n",
       "    </tr>\n",
       "    <tr>\n",
       "      <th>282286</th>\n",
       "      <td>Thick: And Other Essays</td>\n",
       "      <td>Tressie McMillan Cottom</td>\n",
       "      <td>EBOOK</td>\n",
       "      <td>22</td>\n",
       "      <td>2021</td>\n",
       "      <td>5</td>\n",
       "      <td>Lightning Source Inc</td>\n",
       "      <td>2019</td>\n",
       "      <td>Essays, Sociology, Nonfiction</td>\n",
       "      <td>Digital</td>\n",
       "      <td>OverDrive</td>\n",
       "    </tr>\n",
       "  </tbody>\n",
       "</table>\n",
       "<p>57299 rows × 11 columns</p>\n",
       "</div>"
      ],
      "text/plain": [
       "                                                                         Title  \\\n",
       "3                                                   The Man in the High Castle   \n",
       "4                                The Fifth Season: Broken Earth Series, Book 1   \n",
       "17                                                       You'll Grow Out of It   \n",
       "19                                   The Last Mile: Amos Decker Series, Book 2   \n",
       "23                             The Maze Runner: The Maze Runner Series, Book 1   \n",
       "...                                                                        ...   \n",
       "282277                                                                  Hamnet   \n",
       "282278                                             The Vanishing Half: A Novel   \n",
       "282282                                                      The Fire Next Time   \n",
       "282285  Harry Potter and the Order of the Phoenix: Harry Potter Series, Book 5   \n",
       "282286                                                 Thick: And Other Essays   \n",
       "\n",
       "                        Creator MaterialType  Checkouts  CheckoutYear  \\\n",
       "3                Philip K. Dick        EBOOK         63          2016   \n",
       "4                 N. K. Jemisin        EBOOK         44          2016   \n",
       "17                  Jessi Klein        EBOOK         37          2016   \n",
       "19               David Baldacci        EBOOK         64          2016   \n",
       "23                James Dashner        EBOOK         50          2016   \n",
       "...                         ...          ...        ...           ...   \n",
       "282277         Maggie O'Farrell        EBOOK        150          2021   \n",
       "282278             Brit Bennett        EBOOK        547          2021   \n",
       "282282            James Baldwin        EBOOK         23          2021   \n",
       "282285            J. K. Rowling        EBOOK         32          2021   \n",
       "282286  Tressie McMillan Cottom        EBOOK         22          2021   \n",
       "\n",
       "        CheckoutMonth                                      Publisher  \\\n",
       "3                  10  Houghton Mifflin Harcourt Trade and Reference   \n",
       "4                  10                         Hachette Digital, Inc.   \n",
       "17                 10                         Hachette Digital, Inc.   \n",
       "19                 10                         Hachette Digital, Inc.   \n",
       "23                 10                             Random House, Inc.   \n",
       "...               ...                                            ...   \n",
       "282277              5                             Random House, Inc.   \n",
       "282278              5                      Penguin Group (USA), Inc.   \n",
       "282282              5                             Random House, Inc.   \n",
       "282285              5                                     Pottermore   \n",
       "282286              5                           Lightning Source Inc   \n",
       "\n",
       "       PublicationYear  \\\n",
       "3                 2012   \n",
       "4                 2015   \n",
       "17                2016   \n",
       "19                2016   \n",
       "23                2009   \n",
       "...                ...   \n",
       "282277            2020   \n",
       "282278            2020   \n",
       "282282            2013   \n",
       "282285            2012   \n",
       "282286            2019   \n",
       "\n",
       "                                                                          Subjects  \\\n",
       "3                                                         Fiction, Science Fiction   \n",
       "4                                                       Fantasy, Fiction, Thriller   \n",
       "17      Biography & Autobiography, Humor (Nonfiction), Nonfiction, Performing Arts   \n",
       "19                                                               Fiction, Thriller   \n",
       "23                  Fantasy, Suspense, Young Adult Fiction, Young Adult Literature   \n",
       "...                                                                            ...   \n",
       "282277                                     Fiction, Literature, Historical Fiction   \n",
       "282278                                                         Fiction, Literature   \n",
       "282282                          Sociology, African American Nonfiction, Nonfiction   \n",
       "282285                                       Juvenile Fiction, Juvenile Literature   \n",
       "282286                                               Essays, Sociology, Nonfiction   \n",
       "\n",
       "       UsageClass CheckoutType  \n",
       "3         Digital    OverDrive  \n",
       "4         Digital    OverDrive  \n",
       "17        Digital    OverDrive  \n",
       "19        Digital    OverDrive  \n",
       "23        Digital    OverDrive  \n",
       "...           ...          ...  \n",
       "282277    Digital    OverDrive  \n",
       "282278    Digital    OverDrive  \n",
       "282282    Digital    OverDrive  \n",
       "282285    Digital    OverDrive  \n",
       "282286    Digital    OverDrive  \n",
       "\n",
       "[57299 rows x 11 columns]"
      ]
     },
     "execution_count": 16,
     "metadata": {},
     "output_type": "execute_result"
    }
   ],
   "source": [
    "ebook_filter = seattle_df['MaterialType'] == 'EBOOK'\n",
    "seattle_df[ebook_filter]"
   ]
  },
  {
   "cell_type": "markdown",
   "metadata": {},
   "source": [
    "## Make a New DataFrame"
   ]
  },
  {
   "cell_type": "markdown",
   "metadata": {},
   "source": [
    "Make a new DataFrame that only contains ebooks and save it as the variable `ebook_df`. "
   ]
  },
  {
   "cell_type": "code",
   "execution_count": 22,
   "metadata": {},
   "outputs": [],
   "source": [
    "ebook_filter = seattle_df['MaterialType'] == 'EBOOK'\n",
    "ebook_df = seattle_df[ebook_filter].copy()"
   ]
  },
  {
   "cell_type": "markdown",
   "metadata": {},
   "source": [
    "Examine 10 random rows in the DataFrame `ebook_df`."
   ]
  },
  {
   "cell_type": "code",
   "execution_count": 24,
   "metadata": {},
   "outputs": [
    {
     "data": {
      "text/html": [
       "<div>\n",
       "<style scoped>\n",
       "    .dataframe tbody tr th:only-of-type {\n",
       "        vertical-align: middle;\n",
       "    }\n",
       "\n",
       "    .dataframe tbody tr th {\n",
       "        vertical-align: top;\n",
       "    }\n",
       "\n",
       "    .dataframe thead th {\n",
       "        text-align: right;\n",
       "    }\n",
       "</style>\n",
       "<table border=\"1\" class=\"dataframe\">\n",
       "  <thead>\n",
       "    <tr style=\"text-align: right;\">\n",
       "      <th></th>\n",
       "      <th>Title</th>\n",
       "      <th>Creator</th>\n",
       "      <th>MaterialType</th>\n",
       "      <th>Checkouts</th>\n",
       "      <th>CheckoutYear</th>\n",
       "      <th>CheckoutMonth</th>\n",
       "      <th>Publisher</th>\n",
       "      <th>PublicationYear</th>\n",
       "      <th>Subjects</th>\n",
       "      <th>UsageClass</th>\n",
       "      <th>CheckoutType</th>\n",
       "    </tr>\n",
       "  </thead>\n",
       "  <tbody>\n",
       "    <tr>\n",
       "      <th>196176</th>\n",
       "      <td>The Chalk Man: A Novel</td>\n",
       "      <td>C. J. Tudor</td>\n",
       "      <td>EBOOK</td>\n",
       "      <td>24</td>\n",
       "      <td>2019</td>\n",
       "      <td>2</td>\n",
       "      <td>Random House, Inc.</td>\n",
       "      <td>2018</td>\n",
       "      <td>Fiction, Suspense, Thriller</td>\n",
       "      <td>Digital</td>\n",
       "      <td>OverDrive</td>\n",
       "    </tr>\n",
       "    <tr>\n",
       "      <th>257144</th>\n",
       "      <td>An Ember in the Ashes: Ember in the Ashes Series, Book 1</td>\n",
       "      <td>Sabaa Tahir</td>\n",
       "      <td>EBOOK</td>\n",
       "      <td>23</td>\n",
       "      <td>2020</td>\n",
       "      <td>8</td>\n",
       "      <td>Penguin Group (USA), Inc.</td>\n",
       "      <td>2015</td>\n",
       "      <td>Fantasy, Science Fiction &amp; Fantasy, Young Adult Fiction, Young Adult Literature</td>\n",
       "      <td>Digital</td>\n",
       "      <td>OverDrive</td>\n",
       "    </tr>\n",
       "    <tr>\n",
       "      <th>177807</th>\n",
       "      <td>Seveneves: A Novel</td>\n",
       "      <td>Neal Stephenson</td>\n",
       "      <td>EBOOK</td>\n",
       "      <td>42</td>\n",
       "      <td>2018</td>\n",
       "      <td>10</td>\n",
       "      <td>HarperCollins Publishers Inc.</td>\n",
       "      <td>2015</td>\n",
       "      <td>Fiction, Science Fiction</td>\n",
       "      <td>Digital</td>\n",
       "      <td>OverDrive</td>\n",
       "    </tr>\n",
       "    <tr>\n",
       "      <th>266470</th>\n",
       "      <td>Never Seduce a Scot: The Montgomerys and Armstrongs Series, Book 1</td>\n",
       "      <td>Maya Banks</td>\n",
       "      <td>EBOOK</td>\n",
       "      <td>27</td>\n",
       "      <td>2020</td>\n",
       "      <td>12</td>\n",
       "      <td>Random House, Inc.</td>\n",
       "      <td>2012</td>\n",
       "      <td>Erotic Literature, Fiction, Historical Fiction, Romance</td>\n",
       "      <td>Digital</td>\n",
       "      <td>OverDrive</td>\n",
       "    </tr>\n",
       "    <tr>\n",
       "      <th>146421</th>\n",
       "      <td>House of Spies: A Novel</td>\n",
       "      <td>Daniel Silva</td>\n",
       "      <td>EBOOK</td>\n",
       "      <td>42</td>\n",
       "      <td>2018</td>\n",
       "      <td>2</td>\n",
       "      <td>HarperCollins Publishers Inc.</td>\n",
       "      <td>2017</td>\n",
       "      <td>Fiction, Suspense, Thriller</td>\n",
       "      <td>Digital</td>\n",
       "      <td>OverDrive</td>\n",
       "    </tr>\n",
       "    <tr>\n",
       "      <th>219528</th>\n",
       "      <td>A Walk in the Woods: Rediscovering America on the Appalachian Trail</td>\n",
       "      <td>Bill Bryson</td>\n",
       "      <td>EBOOK</td>\n",
       "      <td>24</td>\n",
       "      <td>2019</td>\n",
       "      <td>8</td>\n",
       "      <td>Random House, Inc.</td>\n",
       "      <td>2010</td>\n",
       "      <td>Essays, Humor (Nonfiction), Nonfiction, Travel</td>\n",
       "      <td>Digital</td>\n",
       "      <td>OverDrive</td>\n",
       "    </tr>\n",
       "    <tr>\n",
       "      <th>189088</th>\n",
       "      <td>A Wanted Man: Jack Reacher Series, Book 17</td>\n",
       "      <td>Lee Child</td>\n",
       "      <td>EBOOK</td>\n",
       "      <td>33</td>\n",
       "      <td>2018</td>\n",
       "      <td>12</td>\n",
       "      <td>Random House, Inc.</td>\n",
       "      <td>2012</td>\n",
       "      <td>Fiction, Thriller</td>\n",
       "      <td>Digital</td>\n",
       "      <td>OverDrive</td>\n",
       "    </tr>\n",
       "    <tr>\n",
       "      <th>256138</th>\n",
       "      <td>The Hollow of Fear: Lady Sherlock Series, Book 3</td>\n",
       "      <td>Sherry Thomas</td>\n",
       "      <td>EBOOK</td>\n",
       "      <td>23</td>\n",
       "      <td>2020</td>\n",
       "      <td>7</td>\n",
       "      <td>Penguin Group (USA), Inc.</td>\n",
       "      <td>2018</td>\n",
       "      <td>Fiction, Historical Fiction, Mystery, Romance</td>\n",
       "      <td>Digital</td>\n",
       "      <td>OverDrive</td>\n",
       "    </tr>\n",
       "    <tr>\n",
       "      <th>238604</th>\n",
       "      <td>Queen of Shadows: Throne of Glass Series, Book 4</td>\n",
       "      <td>Sarah J. Maas</td>\n",
       "      <td>EBOOK</td>\n",
       "      <td>23</td>\n",
       "      <td>2020</td>\n",
       "      <td>1</td>\n",
       "      <td>Bloomsbury USA</td>\n",
       "      <td>2015</td>\n",
       "      <td>Fantasy, Young Adult Fiction, Young Adult Literature</td>\n",
       "      <td>Digital</td>\n",
       "      <td>OverDrive</td>\n",
       "    </tr>\n",
       "    <tr>\n",
       "      <th>112528</th>\n",
       "      <td>Alexander Hamilton</td>\n",
       "      <td>Ron Chernow</td>\n",
       "      <td>EBOOK</td>\n",
       "      <td>66</td>\n",
       "      <td>2017</td>\n",
       "      <td>6</td>\n",
       "      <td>Penguin Group (USA), Inc.</td>\n",
       "      <td>2011</td>\n",
       "      <td>Biography &amp; Autobiography, History, Nonfiction</td>\n",
       "      <td>Digital</td>\n",
       "      <td>OverDrive</td>\n",
       "    </tr>\n",
       "  </tbody>\n",
       "</table>\n",
       "</div>"
      ],
      "text/plain": [
       "                                                                      Title  \\\n",
       "196176                                               The Chalk Man: A Novel   \n",
       "257144             An Ember in the Ashes: Ember in the Ashes Series, Book 1   \n",
       "177807                                                   Seveneves: A Novel   \n",
       "266470   Never Seduce a Scot: The Montgomerys and Armstrongs Series, Book 1   \n",
       "146421                                              House of Spies: A Novel   \n",
       "219528  A Walk in the Woods: Rediscovering America on the Appalachian Trail   \n",
       "189088                           A Wanted Man: Jack Reacher Series, Book 17   \n",
       "256138                     The Hollow of Fear: Lady Sherlock Series, Book 3   \n",
       "238604                     Queen of Shadows: Throne of Glass Series, Book 4   \n",
       "112528                                                   Alexander Hamilton   \n",
       "\n",
       "                Creator MaterialType  Checkouts  CheckoutYear  CheckoutMonth  \\\n",
       "196176      C. J. Tudor        EBOOK         24          2019              2   \n",
       "257144      Sabaa Tahir        EBOOK         23          2020              8   \n",
       "177807  Neal Stephenson        EBOOK         42          2018             10   \n",
       "266470       Maya Banks        EBOOK         27          2020             12   \n",
       "146421     Daniel Silva        EBOOK         42          2018              2   \n",
       "219528      Bill Bryson        EBOOK         24          2019              8   \n",
       "189088        Lee Child        EBOOK         33          2018             12   \n",
       "256138    Sherry Thomas        EBOOK         23          2020              7   \n",
       "238604    Sarah J. Maas        EBOOK         23          2020              1   \n",
       "112528      Ron Chernow        EBOOK         66          2017              6   \n",
       "\n",
       "                            Publisher PublicationYear  \\\n",
       "196176             Random House, Inc.            2018   \n",
       "257144      Penguin Group (USA), Inc.            2015   \n",
       "177807  HarperCollins Publishers Inc.            2015   \n",
       "266470             Random House, Inc.            2012   \n",
       "146421  HarperCollins Publishers Inc.            2017   \n",
       "219528             Random House, Inc.            2010   \n",
       "189088             Random House, Inc.            2012   \n",
       "256138      Penguin Group (USA), Inc.            2018   \n",
       "238604                 Bloomsbury USA            2015   \n",
       "112528      Penguin Group (USA), Inc.            2011   \n",
       "\n",
       "                                                                               Subjects  \\\n",
       "196176                                                      Fiction, Suspense, Thriller   \n",
       "257144  Fantasy, Science Fiction & Fantasy, Young Adult Fiction, Young Adult Literature   \n",
       "177807                                                         Fiction, Science Fiction   \n",
       "266470                          Erotic Literature, Fiction, Historical Fiction, Romance   \n",
       "146421                                                      Fiction, Suspense, Thriller   \n",
       "219528                                   Essays, Humor (Nonfiction), Nonfiction, Travel   \n",
       "189088                                                                Fiction, Thriller   \n",
       "256138                                    Fiction, Historical Fiction, Mystery, Romance   \n",
       "238604                             Fantasy, Young Adult Fiction, Young Adult Literature   \n",
       "112528                                   Biography & Autobiography, History, Nonfiction   \n",
       "\n",
       "       UsageClass CheckoutType  \n",
       "196176    Digital    OverDrive  \n",
       "257144    Digital    OverDrive  \n",
       "177807    Digital    OverDrive  \n",
       "266470    Digital    OverDrive  \n",
       "146421    Digital    OverDrive  \n",
       "219528    Digital    OverDrive  \n",
       "189088    Digital    OverDrive  \n",
       "256138    Digital    OverDrive  \n",
       "238604    Digital    OverDrive  \n",
       "112528    Digital    OverDrive  "
      ]
     },
     "execution_count": 24,
     "metadata": {},
     "output_type": "execute_result"
    }
   ],
   "source": [
    "ebook_df.sample(10)"
   ]
  },
  {
   "cell_type": "markdown",
   "metadata": {},
   "source": [
    "## Summary Statistics"
   ]
  },
  {
   "cell_type": "markdown",
   "metadata": {},
   "source": [
    "Calculate the maximum number of checkouts for all the ebooks"
   ]
  },
  {
   "cell_type": "code",
   "execution_count": 20,
   "metadata": {},
   "outputs": [
    {
     "data": {
      "text/plain": [
       "2177"
      ]
     },
     "execution_count": 20,
     "metadata": {},
     "output_type": "execute_result"
    }
   ],
   "source": [
    "ebook_df['Checkouts'].max()"
   ]
  },
  {
   "cell_type": "markdown",
   "metadata": {},
   "source": [
    "Calculate the mean number of checkouts for all the ebooks"
   ]
  },
  {
   "cell_type": "code",
   "execution_count": 21,
   "metadata": {},
   "outputs": [
    {
     "data": {
      "text/plain": [
       "46.52808949545367"
      ]
     },
     "execution_count": 21,
     "metadata": {},
     "output_type": "execute_result"
    }
   ],
   "source": [
    "ebook_df['Checkouts'].mean()"
   ]
  },
  {
   "cell_type": "markdown",
   "metadata": {},
   "source": [
    "## Count Values"
   ]
  },
  {
   "cell_type": "markdown",
   "metadata": {},
   "source": [
    "Count the number of unique publishers of ebooks, then slice to examine the top 10 most frequent"
   ]
  },
  {
   "cell_type": "code",
   "execution_count": 26,
   "metadata": {},
   "outputs": [
    {
     "data": {
      "text/plain": [
       "Random House, Inc.                               18920\n",
       "Penguin Group (USA), Inc.                         9575\n",
       "Hachette Digital, Inc.                            6867\n",
       "Macmillan Publishers                              5220\n",
       "HarperCollins Publishers Inc.                     5154\n",
       "Simon & Schuster, Inc.                            3810\n",
       "Lightning Source Inc                              1111\n",
       "Houghton Mifflin Harcourt Trade and Reference     1106\n",
       "Bloomsbury USA                                     864\n",
       "W. W. Norton & Company                             626\n",
       "Name: Publisher, dtype: int64"
      ]
     },
     "execution_count": 26,
     "metadata": {},
     "output_type": "execute_result"
    }
   ],
   "source": [
    "ebook_df['Publisher'].value_counts()[:10]"
   ]
  },
  {
   "cell_type": "markdown",
   "metadata": {},
   "source": [
    "## Plot"
   ]
  },
  {
   "cell_type": "markdown",
   "metadata": {},
   "source": [
    "Make a bar plot of the top 10 publishers of ebooks"
   ]
  },
  {
   "cell_type": "code",
   "execution_count": 27,
   "metadata": {},
   "outputs": [
    {
     "data": {
      "text/plain": [
       "<matplotlib.axes._subplots.AxesSubplot at 0x7fcb3e295710>"
      ]
     },
     "execution_count": 27,
     "metadata": {},
     "output_type": "execute_result"
    },
    {
     "data": {
      "image/png": "[encoded data removed]",
      "text/plain": [
       "<Figure size 432x288 with 1 Axes>"
      ]
     },
     "metadata": {
      "needs_background": "light"
     },
     "output_type": "display_data"
    }
   ],
   "source": [
    "ebook_df['Publisher'].value_counts()[:10].plot(kind='bar')"
   ]
  },
  {
   "cell_type": "markdown",
   "metadata": {},
   "source": [
    "## Save Plot"
   ]
  },
  {
   "cell_type": "markdown",
   "metadata": {},
   "source": [
    "Save the bar plot as a PDF file"
   ]
  },
  {
   "cell_type": "code",
   "execution_count": 30,
   "metadata": {},
   "outputs": [
    {
     "data": {
      "image/png": "[encoded data removed]",
      "text/plain": [
       "<Figure size 432x288 with 1 Axes>"
      ]
     },
     "metadata": {
      "needs_background": "light"
     },
     "output_type": "display_data"
    }
   ],
   "source": [
    "ax = ebook_df['Publisher'].value_counts()[:10].plot(kind='bar')\n",
    "ax.figure.savefig('SPL-ebook-publishers.pdf')"
   ]
  }
 ],
 "metadata": {
  "kernelspec": {
   "display_name": "Python 3",
   "language": "python",
   "name": "python3"
  },
  "language_info": {
   "codemirror_mode": {
    "name": "ipython",
    "version": 3
   },
   "file_extension": ".py",
   "mimetype": "text/x-python",
   "name": "python",
   "nbconvert_exporter": "python",
   "pygments_lexer": "ipython3",
   "version": "3.7.6"
  }
 },
 "nbformat": 4,
 "nbformat_minor": 4
}

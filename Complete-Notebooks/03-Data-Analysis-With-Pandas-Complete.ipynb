{
 "cells": [
  {
   "cell_type": "markdown",
   "metadata": {},
   "source": [
    "# Data Analysis with Pandas — Day 3\n",
    "## Text Manipulation, Functions, Time Series"
   ]
  },
  {
   "cell_type": "markdown",
   "metadata": {},
   "source": [
    "This is the Day 3 notebook for the June 2021 course \"Data Analysis with Pandas,\" part of the [Text Analysis Pedagogy Institute](https://nkelber.github.io/tapi2021/book/intro.html)."
   ]
  },
  {
   "cell_type": "markdown",
   "metadata": {},
   "source": [
    "In this lesson, we will cover:\n",
    "\n",
    "* String Methods / Text Manipulation\n",
    "* Applying Functions\n",
    "* Converting Between Data Types\n",
    "* Working with Time Series Data\n",
    "\n",
    "___\n",
    "\n",
    "## Dataset\n",
    "### Seattle Public Library Book Circulation Data\n",
    "\n",
    "This week, we will be working with [circulation data](https://data.seattle.gov/Community/Checkouts-by-Title/tmmm-ytt6) made publicly avilable by the Seattle Public Library. The dataset includes items that were checked out 20+ times in a month between January 2015 and June 2021.\n",
    "\n",
    "For more information about this dataset, see the Seattle Public Library's [data portal](https://data.seattle.gov/Community/Checkouts-by-Title/tmmm-ytt6).\n",
    "___\n",
    "\n",
    "## Import Pandas\n",
    "\n",
    "To use the Pandas library, we first need to `import` it."
   ]
  },
  {
   "cell_type": "code",
   "execution_count": 1,
   "metadata": {},
   "outputs": [],
   "source": [
    "import pandas as pd"
   ]
  },
  {
   "cell_type": "markdown",
   "metadata": {},
   "source": [
    "By default, Pandas will display 60 rows and 20 columns. I often change [Pandas' default display settings](https://pandas.pydata.org/pandas-docs/stable/user_guide/options.html) to show more rows or columns."
   ]
  },
  {
   "cell_type": "code",
   "execution_count": 2,
   "metadata": {},
   "outputs": [],
   "source": [
    "pd.options.display.max_colwidth = 100\n",
    "pd.options.display.max_rows = 100"
   ]
  },
  {
   "cell_type": "markdown",
   "metadata": {},
   "source": [
    "## Load Data"
   ]
  },
  {
   "cell_type": "markdown",
   "metadata": {},
   "source": [
    "To read in a CSV file, we will use the function `pd.read_csv()` and insert the name of our desired file path. "
   ]
  },
  {
   "cell_type": "code",
   "execution_count": 3,
   "metadata": {},
   "outputs": [],
   "source": [
    "seattle_df = pd.read_csv('Seattle-Library_2015-2021.csv', delimiter=\",\", encoding=\"utf-8\")"
   ]
  },
  {
   "cell_type": "markdown",
   "metadata": {},
   "source": [
    "## Lingering Issues with SPL Data"
   ]
  },
  {
   "cell_type": "markdown",
   "metadata": {},
   "source": [
    "So we've learned a lot about Pandas so far, and we've learned a lot about our Seattle Public Library data, too. Let's take a moment to appreciate how far we've come:\n",
    "\n",
    "We've been able to get a broad overview of our data, subset our data in different ways, make simple plots, and even figure out the books and material types that were checked out most between 2015-2021. That's pretty awesome!\n",
    "\n",
    "<img src=\"https://images-na.ssl-images-amazon.com/images/I/41txHpdA8QL.jpg\" width=250/>\n",
    "\n",
    "\n",
    "But unfortunately there are still some lingering problems and issues with our data.\n",
    "\n",
    "For example, the titles in the dataset are sometimes recorded inconsistently and have slightly different versions. If we calculate the total checkouts for each title, we can see that Sue Grafton's *A\" is for Alibi: Kinsey Millhone Series, Book 1* shows up multiple times in different ways."
   ]
  },
  {
   "cell_type": "code",
   "execution_count": 4,
   "metadata": {},
   "outputs": [
    {
     "data": {
      "text/html": [
       "<div>\n",
       "<style scoped>\n",
       "    .dataframe tbody tr th:only-of-type {\n",
       "        vertical-align: middle;\n",
       "    }\n",
       "\n",
       "    .dataframe tbody tr th {\n",
       "        vertical-align: top;\n",
       "    }\n",
       "\n",
       "    .dataframe thead th {\n",
       "        text-align: right;\n",
       "    }\n",
       "</style>\n",
       "<table border=\"1\" class=\"dataframe\">\n",
       "  <thead>\n",
       "    <tr style=\"text-align: right;\">\n",
       "      <th></th>\n",
       "      <th>Checkouts</th>\n",
       "    </tr>\n",
       "    <tr>\n",
       "      <th>Title</th>\n",
       "      <th></th>\n",
       "    </tr>\n",
       "  </thead>\n",
       "  <tbody>\n",
       "    <tr>\n",
       "      <th>\"A\" is for Alibi: Kinsey Millhone Series, Book 1</th>\n",
       "      <td>583</td>\n",
       "    </tr>\n",
       "    <tr>\n",
       "      <th>\"A\" is for Alibi: Kinsey Millhone Series, Book 1 (unabridged)</th>\n",
       "      <td>21</td>\n",
       "    </tr>\n",
       "    <tr>\n",
       "      <th>\"A\" is for Alibi: Kinsey Millhone Series, Book 1 (unabridged) (Unabridged)</th>\n",
       "      <td>351</td>\n",
       "    </tr>\n",
       "    <tr>\n",
       "      <th>\"All the Real Indians Died Off\": And 20 Other Myths About Native Americans (unabridged) (Unabridged)</th>\n",
       "      <td>386</td>\n",
       "    </tr>\n",
       "    <tr>\n",
       "      <th>\"Awaken, My Love!\"</th>\n",
       "      <td>23</td>\n",
       "    </tr>\n",
       "    <tr>\n",
       "      <th>...</th>\n",
       "      <td>...</td>\n",
       "    </tr>\n",
       "    <tr>\n",
       "      <th>reputation</th>\n",
       "      <td>180</td>\n",
       "    </tr>\n",
       "    <tr>\n",
       "      <th>untitled unmastered.</th>\n",
       "      <td>24</td>\n",
       "    </tr>\n",
       "    <tr>\n",
       "      <th>¡Vamos! Let's go to the market / by Raúl the Third ; colors by Elaine Bay.</th>\n",
       "      <td>22</td>\n",
       "    </tr>\n",
       "    <tr>\n",
       "      <th>÷ (Deluxe)</th>\n",
       "      <td>173</td>\n",
       "    </tr>\n",
       "    <tr>\n",
       "      <th>Ṿe-laḳaḥta lekha ishah [videorecording] = Prendre femme / Cinema Project ; Hot ; Transfax Films ; Zanagar Films ; producers, Marek Rozenbaum, Itai Tamir ; producteurs, Marek Rozenbaum, Itai Tamir, Jean-Philippe Reza ; scenario et realisation, Ronit Elkabetz, Shlomi Elkabetz.</th>\n",
       "      <td>44</td>\n",
       "    </tr>\n",
       "  </tbody>\n",
       "</table>\n",
       "<p>31864 rows × 1 columns</p>\n",
       "</div>"
      ],
      "text/plain": [
       "                                                                                                      Checkouts\n",
       "Title                                                                                                          \n",
       "\"A\" is for Alibi: Kinsey Millhone Series, Book 1                                                            583\n",
       "\"A\" is for Alibi: Kinsey Millhone Series, Book 1 (unabridged)                                                21\n",
       "\"A\" is for Alibi: Kinsey Millhone Series, Book 1 (unabridged) (Unabridged)                                  351\n",
       "\"All the Real Indians Died Off\": And 20 Other Myths About Native Americans (unabridged) (Unabridged)        386\n",
       "\"Awaken, My Love!\"                                                                                           23\n",
       "...                                                                                                         ...\n",
       "reputation                                                                                                  180\n",
       "untitled unmastered.                                                                                         24\n",
       "¡Vamos! Let's go to the market / by Raúl the Third ; colors by Elaine Bay.                                   22\n",
       "÷ (Deluxe)                                                                                                  173\n",
       "Ṿe-laḳaḥta lekha ishah [videorecording] = Prendre femme / Cinema Project ; Hot ; Transfax Films ;...         44\n",
       "\n",
       "[31864 rows x 1 columns]"
      ]
     },
     "execution_count": 4,
     "metadata": {},
     "output_type": "execute_result"
    }
   ],
   "source": [
    "seattle_df.groupby('Title')[['Checkouts']].sum()"
   ]
  },
  {
   "cell_type": "markdown",
   "metadata": {},
   "source": [
    "There are other small inconsistencies in the data, too, such as trailing commas in the \"Publishers\" column, which make it more difficult for us to get a true sense of publishing trends."
   ]
  },
  {
   "cell_type": "code",
   "execution_count": 5,
   "metadata": {},
   "outputs": [
    {
     "data": {
      "text/plain": [
       "Random House, Inc.                                18920\n",
       "Books on Tape                                     13479\n",
       "Random House,                                     12139\n",
       "Penguin Group (USA), Inc.                          9575\n",
       "HarperCollins Publishers Inc.                      8639\n",
       "Hachette Digital, Inc.                             6867\n",
       "Sony Pictures Home Entertainment,                  5981\n",
       "Macmillan Publishers                               5220\n",
       "Blackstone Audio, Inc.                             5171\n",
       "[Publisher not identified],                        5148\n",
       "Simon & Schuster, Inc.                             3810\n",
       "20th Century Fox Home Entertainment,               3724\n",
       "Universal Pictures Home Entertainment,             3580\n",
       "Lionsgate,                                         3577\n",
       "Harper, an imprint of HarperCollinsPublishers,     3456\n",
       "Warner Home Video,                                 3436\n",
       "Universal Studios Home Entertainment,              3210\n",
       "Scholastic Inc.,                                   3130\n",
       "Alfred A. Knopf,                                   2884\n",
       "Macmillan Audio                                    2843\n",
       "Twentieth Century Fox Home Entertainment,          2650\n",
       "Ballantine Books,                                  2329\n",
       "Simon & Schuster - Audiobooks                      2285\n",
       "Harper,                                            2166\n",
       "Little, Brown and Company,                         2146\n",
       "Candlewick Press,                                  2120\n",
       "Hyperion Books for Children,                       2103\n",
       "Scholastic,                                        2097\n",
       "Tantor Media, Inc                                  2042\n",
       "Anchor Bay Entertainment,                          1726\n",
       "Houghton Mifflin Harcourt,                         1471\n",
       "Paramount Home Entertainment,                      1441\n",
       "Recorded Books, LLC                                1377\n",
       "Viking,                                            1294\n",
       "Buena Vista Home Entertainment,                    1223\n",
       "Paramount,                                         1160\n",
       "Beginner Books,                                    1160\n",
       "Houghton Mifflin Harcourt Trade and Reference      1127\n",
       "Simon & Schuster,                                  1115\n",
       "Lightning Source Inc                               1111\n",
       "Name: Publisher, dtype: int64"
      ]
     },
     "execution_count": 5,
     "metadata": {},
     "output_type": "execute_result"
    }
   ],
   "source": [
    "seattle_df['Publisher'].value_counts()[:40]"
   ]
  },
  {
   "cell_type": "markdown",
   "metadata": {},
   "source": [
    "<img src=\"https://upload.wikimedia.org/wikipedia/commons/thumb/1/16/Penguin_Random_House.svg/1200px-Penguin_Random_House.svg.png\" width=250/>\n"
   ]
  },
  {
   "cell_type": "markdown",
   "metadata": {},
   "source": [
    "Additionally, when we try to filter for a particular title, like Elena Ferrante's *My Brilliant Friend*, we have to know the full and complete title for our filtering method to work (pssst can you tell that I'm obsessed with Elena Ferrante yet...?) \n",
    "\n",
    "Here's what happens when we filter the DataFrame for just \"My Brilliant Friend\"..."
   ]
  },
  {
   "cell_type": "code",
   "execution_count": 6,
   "metadata": {},
   "outputs": [
    {
     "data": {
      "text/html": [
       "<div>\n",
       "<style scoped>\n",
       "    .dataframe tbody tr th:only-of-type {\n",
       "        vertical-align: middle;\n",
       "    }\n",
       "\n",
       "    .dataframe tbody tr th {\n",
       "        vertical-align: top;\n",
       "    }\n",
       "\n",
       "    .dataframe thead th {\n",
       "        text-align: right;\n",
       "    }\n",
       "</style>\n",
       "<table border=\"1\" class=\"dataframe\">\n",
       "  <thead>\n",
       "    <tr style=\"text-align: right;\">\n",
       "      <th></th>\n",
       "      <th>Title</th>\n",
       "      <th>Creator</th>\n",
       "      <th>MaterialType</th>\n",
       "      <th>Checkouts</th>\n",
       "      <th>CheckoutYear</th>\n",
       "      <th>CheckoutMonth</th>\n",
       "      <th>Publisher</th>\n",
       "      <th>PublicationYear</th>\n",
       "      <th>Subjects</th>\n",
       "      <th>UsageClass</th>\n",
       "      <th>CheckoutType</th>\n",
       "    </tr>\n",
       "  </thead>\n",
       "  <tbody>\n",
       "  </tbody>\n",
       "</table>\n",
       "</div>"
      ],
      "text/plain": [
       "Empty DataFrame\n",
       "Columns: [Title, Creator, MaterialType, Checkouts, CheckoutYear, CheckoutMonth, Publisher, PublicationYear, Subjects, UsageClass, CheckoutType]\n",
       "Index: []"
      ]
     },
     "execution_count": 6,
     "metadata": {},
     "output_type": "execute_result"
    }
   ],
   "source": [
    "# Boolean vector\n",
    "title_filter = seattle_df['Title'] == 'My Brilliant Friend'\n",
    "\n",
    "# Filter\n",
    "seattle_df[title_filter]"
   ]
  },
  {
   "cell_type": "markdown",
   "metadata": {},
   "source": [
    "Nothing. No dice. 🎲\n",
    "\n",
    "Using this filter method, we have to specify the entire title to get what we're looking for, which is challenging and annoying."
   ]
  },
  {
   "cell_type": "code",
   "execution_count": 7,
   "metadata": {},
   "outputs": [
    {
     "data": {
      "text/html": [
       "<div>\n",
       "<style scoped>\n",
       "    .dataframe tbody tr th:only-of-type {\n",
       "        vertical-align: middle;\n",
       "    }\n",
       "\n",
       "    .dataframe tbody tr th {\n",
       "        vertical-align: top;\n",
       "    }\n",
       "\n",
       "    .dataframe thead th {\n",
       "        text-align: right;\n",
       "    }\n",
       "</style>\n",
       "<table border=\"1\" class=\"dataframe\">\n",
       "  <thead>\n",
       "    <tr style=\"text-align: right;\">\n",
       "      <th></th>\n",
       "      <th>Title</th>\n",
       "      <th>Creator</th>\n",
       "      <th>MaterialType</th>\n",
       "      <th>Checkouts</th>\n",
       "      <th>CheckoutYear</th>\n",
       "      <th>CheckoutMonth</th>\n",
       "      <th>Publisher</th>\n",
       "      <th>PublicationYear</th>\n",
       "      <th>Subjects</th>\n",
       "      <th>UsageClass</th>\n",
       "      <th>CheckoutType</th>\n",
       "    </tr>\n",
       "  </thead>\n",
       "  <tbody>\n",
       "    <tr>\n",
       "      <th>597</th>\n",
       "      <td>My Brilliant Friend: Neapolitan Series, Book 1</td>\n",
       "      <td>Elena Ferrante</td>\n",
       "      <td>EBOOK</td>\n",
       "      <td>71</td>\n",
       "      <td>2016</td>\n",
       "      <td>10</td>\n",
       "      <td>Penguin Group (USA), Inc.</td>\n",
       "      <td>2013</td>\n",
       "      <td>Fiction, Literature</td>\n",
       "      <td>Digital</td>\n",
       "      <td>OverDrive</td>\n",
       "    </tr>\n",
       "    <tr>\n",
       "      <th>5762</th>\n",
       "      <td>My Brilliant Friend: Neapolitan Series, Book 1</td>\n",
       "      <td>Elena Ferrante</td>\n",
       "      <td>EBOOK</td>\n",
       "      <td>53</td>\n",
       "      <td>2016</td>\n",
       "      <td>11</td>\n",
       "      <td>Penguin Group (USA), Inc.</td>\n",
       "      <td>2013</td>\n",
       "      <td>Fiction, Literature</td>\n",
       "      <td>Digital</td>\n",
       "      <td>OverDrive</td>\n",
       "    </tr>\n",
       "    <tr>\n",
       "      <th>8341</th>\n",
       "      <td>My Brilliant Friend: Neapolitan Series, Book 1</td>\n",
       "      <td>Elena Ferrante</td>\n",
       "      <td>EBOOK</td>\n",
       "      <td>37</td>\n",
       "      <td>2016</td>\n",
       "      <td>12</td>\n",
       "      <td>Penguin Group (USA), Inc.</td>\n",
       "      <td>2013</td>\n",
       "      <td>Fiction, Literature</td>\n",
       "      <td>Digital</td>\n",
       "      <td>OverDrive</td>\n",
       "    </tr>\n",
       "    <tr>\n",
       "      <th>11640</th>\n",
       "      <td>My Brilliant Friend: Neapolitan Series, Book 1</td>\n",
       "      <td>Elena Ferrante</td>\n",
       "      <td>EBOOK</td>\n",
       "      <td>29</td>\n",
       "      <td>2017</td>\n",
       "      <td>1</td>\n",
       "      <td>Penguin Group (USA), Inc.</td>\n",
       "      <td>2013</td>\n",
       "      <td>Fiction, Literature</td>\n",
       "      <td>Digital</td>\n",
       "      <td>OverDrive</td>\n",
       "    </tr>\n",
       "    <tr>\n",
       "      <th>15207</th>\n",
       "      <td>My Brilliant Friend: Neapolitan Series, Book 1</td>\n",
       "      <td>Elena Ferrante</td>\n",
       "      <td>EBOOK</td>\n",
       "      <td>29</td>\n",
       "      <td>2015</td>\n",
       "      <td>1</td>\n",
       "      <td>Penguin Group (USA), Inc.</td>\n",
       "      <td>2013</td>\n",
       "      <td>Fiction, Literature</td>\n",
       "      <td>Digital</td>\n",
       "      <td>OverDrive</td>\n",
       "    </tr>\n",
       "  </tbody>\n",
       "</table>\n",
       "</div>"
      ],
      "text/plain": [
       "                                                Title         Creator  \\\n",
       "597    My Brilliant Friend: Neapolitan Series, Book 1  Elena Ferrante   \n",
       "5762   My Brilliant Friend: Neapolitan Series, Book 1  Elena Ferrante   \n",
       "8341   My Brilliant Friend: Neapolitan Series, Book 1  Elena Ferrante   \n",
       "11640  My Brilliant Friend: Neapolitan Series, Book 1  Elena Ferrante   \n",
       "15207  My Brilliant Friend: Neapolitan Series, Book 1  Elena Ferrante   \n",
       "\n",
       "      MaterialType  Checkouts  CheckoutYear  CheckoutMonth  \\\n",
       "597          EBOOK         71          2016             10   \n",
       "5762         EBOOK         53          2016             11   \n",
       "8341         EBOOK         37          2016             12   \n",
       "11640        EBOOK         29          2017              1   \n",
       "15207        EBOOK         29          2015              1   \n",
       "\n",
       "                       Publisher PublicationYear             Subjects  \\\n",
       "597    Penguin Group (USA), Inc.            2013  Fiction, Literature   \n",
       "5762   Penguin Group (USA), Inc.            2013  Fiction, Literature   \n",
       "8341   Penguin Group (USA), Inc.            2013  Fiction, Literature   \n",
       "11640  Penguin Group (USA), Inc.            2013  Fiction, Literature   \n",
       "15207  Penguin Group (USA), Inc.            2013  Fiction, Literature   \n",
       "\n",
       "      UsageClass CheckoutType  \n",
       "597      Digital    OverDrive  \n",
       "5762     Digital    OverDrive  \n",
       "8341     Digital    OverDrive  \n",
       "11640    Digital    OverDrive  \n",
       "15207    Digital    OverDrive  "
      ]
     },
     "execution_count": 7,
     "metadata": {},
     "output_type": "execute_result"
    }
   ],
   "source": [
    "# Boolean vector\n",
    "title_filter = seattle_df['Title'] == 'My Brilliant Friend: Neapolitan Series, Book 1'\n",
    "\n",
    "# Filter\n",
    "seattle_df[title_filter].head()"
   ]
  },
  {
   "cell_type": "markdown",
   "metadata": {},
   "source": [
    "Lastly, our \"Subjects\" column still includes multiple subjects in manys rows, so we don't know very much about overall \"Subject\" trends."
   ]
  },
  {
   "cell_type": "code",
   "execution_count": 8,
   "metadata": {},
   "outputs": [
    {
     "data": {
      "text/plain": [
       "0                                          Friendship Fiction, Frogs Juvenile fiction, Toads Juvenile fiction\n",
       "1                                                                    Friendship Fiction, Naples Italy Fiction\n",
       "2         Kirk James T 2233 2371 Drama, Spock Mr Drama, Space ships Drama, Manned space flight Drama, Huma...\n",
       "3                                                                                    Fiction, Science Fiction\n",
       "4                                                                                  Fantasy, Fiction, Thriller\n",
       "                                                         ...                                                 \n",
       "282282                                                     Sociology, African American Nonfiction, Nonfiction\n",
       "282283                       Women Black Great Britain Fiction, Great Britain Social life and customs Fiction\n",
       "282284                                                        Business, Finance, Self-Improvement, Nonfiction\n",
       "282285                                                                  Juvenile Fiction, Juvenile Literature\n",
       "282286                                                                          Essays, Sociology, Nonfiction\n",
       "Name: Subjects, Length: 282287, dtype: object"
      ]
     },
     "execution_count": 8,
     "metadata": {},
     "output_type": "execute_result"
    }
   ],
   "source": [
    "seattle_df['Subjects']"
   ]
  },
  {
   "cell_type": "markdown",
   "metadata": {},
   "source": [
    "Plus we still don't have any datetime information."
   ]
  },
  {
   "cell_type": "code",
   "execution_count": 9,
   "metadata": {},
   "outputs": [
    {
     "data": {
      "text/plain": [
       "dtype('int64')"
      ]
     },
     "execution_count": 9,
     "metadata": {},
     "output_type": "execute_result"
    }
   ],
   "source": [
    "seattle_df['CheckoutYear'].dtype"
   ]
  },
  {
   "cell_type": "markdown",
   "metadata": {},
   "source": [
    "But don't fret. We're going to resolve all of these lingering issues in this notebook!"
   ]
  },
  {
   "cell_type": "markdown",
   "metadata": {},
   "source": [
    "## String Methods"
   ]
  },
  {
   "cell_type": "markdown",
   "metadata": {},
   "source": [
    "We can clean up many of the inconsistencies in our data by using Pandas string methods."
   ]
  },
  {
   "cell_type": "markdown",
   "metadata": {},
   "source": [
    "<div class=\"admonition pythonreview\" name=\"html-admonition\" style=\"background: lightgreen; padding: 10px\">\n",
    "<p class=\"title\"><b/>Python Review 🐍 </b></p>\n",
    "\n",
    "The Python data type for textual data is a \"string.\" Strings are denoted by single or double quotation marks.\n",
    "\n",
    "| Data Type       | Explanation          | Example  |\n",
    "| ------------- |:-------------:| -----:|\n",
    "| String     | Text | ```\"brilliant\", '40'``` |\n",
    "| Integer     | Whole Numbers      |   ```40``` |\n",
    "| Float | Decimal Numbers      |   ```40.2``` |\n",
    "| Boolean | True/False     |   ```False``` |\n",
    "\n",
    "There are a number of convenient, built-in Python methods that allow you to manipulate and work with strings, such as stripping leading and trailing whitespace or replacing certain characters.\n",
    "\n",
    "| **String Method** | **Explanation**                                                                                   |\n",
    "|:-------------:|:---------------------------------------------------------------------------------------------------:|\n",
    "| `string.lower()`         | makes the string lowercase                                                   \n",
    "| `string.strip()`         | removes lead and trailing white spaces     |\n",
    "| `string.replace('old string', 'new string')`      | replaces `old string` with `new string`          |\n",
    "| `string.split('delim')`          | returns a list of substrings separated by the given delimiter |\n",
    "\n",
    "                                                            \n",
    "</div"
   ]
  },
  {
   "cell_type": "markdown",
   "metadata": {},
   "source": [
    "Let's assign the string \"?My Brilliant Friend?\" to the variable `sample_string`."
   ]
  },
  {
   "cell_type": "code",
   "execution_count": 10,
   "metadata": {},
   "outputs": [],
   "source": [
    "sample_string = \"?My Brilliant Friend?\""
   ]
  },
  {
   "cell_type": "markdown",
   "metadata": {},
   "source": [
    "When we check its data type, we can see that it is indeed a string."
   ]
  },
  {
   "cell_type": "code",
   "execution_count": 11,
   "metadata": {},
   "outputs": [
    {
     "data": {
      "text/plain": [
       "str"
      ]
     },
     "execution_count": 11,
     "metadata": {},
     "output_type": "execute_result"
    }
   ],
   "source": [
    "type(sample_string)"
   ]
  },
  {
   "cell_type": "markdown",
   "metadata": {},
   "source": [
    "Thus, we can strip leading and trailing characters."
   ]
  },
  {
   "cell_type": "code",
   "execution_count": 12,
   "metadata": {},
   "outputs": [
    {
     "data": {
      "text/plain": [
       "'My Brilliant Friend'"
      ]
     },
     "execution_count": 12,
     "metadata": {},
     "output_type": "execute_result"
    }
   ],
   "source": [
    "sample_string.strip('?')"
   ]
  },
  {
   "cell_type": "markdown",
   "metadata": {},
   "source": [
    "And we can make the entire string uppercase."
   ]
  },
  {
   "cell_type": "code",
   "execution_count": 13,
   "metadata": {},
   "outputs": [
    {
     "data": {
      "text/plain": [
       "'?MY BRILLIANT FRIEND?'"
      ]
     },
     "execution_count": 13,
     "metadata": {},
     "output_type": "execute_result"
    }
   ],
   "source": [
    "sample_string.upper()"
   ]
  },
  {
   "cell_type": "markdown",
   "metadata": {},
   "source": [
    "Well, Pandas has special [Pandas string methods](https://pandas.pydata.org/pandas-docs/stable/user_guide/text.html#string-methods), too. Many of them are very similar to Python string methods, except they will transform every single string value in a column, and we need to add `.str` to the method chain.\n",
    "\n",
    "Here's a sample of Pandas string methods (you can see a full account in the [documentation](https://pandas.pydata.org/pandas-docs/stable/user_guide/text.html#method-summary). "
   ]
  },
  {
   "cell_type": "markdown",
   "metadata": {},
   "source": [
    "| **Pandas String Method** | **Explanation**                                                                                   |\n",
    "|:-------------:|:---------------------------------------------------------------------------------------------------:|\n",
    "| df['column_name']`.str.lower()`         | makes the string in each row lowercase                                                                                |\n",
    "| df['column_name']`.str.upper()`         | makes the string in each row uppercase                                                |\n",
    "| df['column_name']`.str.title()`         | makes the string in each row titlecase                                                |\n",
    "| df['column_name']`.str.replace('old string', 'new string')`      | replaces `old string` with `new string` for each row |\n",
    "| df['column_name']`.str.contains('some string')`      | tests whether string in each row contains \"some string\" |\n",
    "| df['column_name']`.str.split('delim')`          | returns a list of substrings separated by the given delimiter |\n",
    "| df['column_name']`.str.join(list)`         | opposite of split(), joins the elements in the given list together using the string                                                                        |\n",
    "                                                            "
   ]
  },
  {
   "cell_type": "markdown",
   "metadata": {},
   "source": [
    "To transform all the values in the \"MaterialType\" column to lower case, we can use `.str.lower()` "
   ]
  },
  {
   "cell_type": "code",
   "execution_count": 14,
   "metadata": {},
   "outputs": [
    {
     "data": {
      "text/plain": [
       "0              BOOK\n",
       "1              BOOK\n",
       "2         VIDEODISC\n",
       "3             EBOOK\n",
       "4             EBOOK\n",
       "            ...    \n",
       "282282        EBOOK\n",
       "282283         BOOK\n",
       "282284    AUDIOBOOK\n",
       "282285        EBOOK\n",
       "282286        EBOOK\n",
       "Name: MaterialType, Length: 282287, dtype: object"
      ]
     },
     "execution_count": 14,
     "metadata": {},
     "output_type": "execute_result"
    }
   ],
   "source": [
    "seattle_df['MaterialType']"
   ]
  },
  {
   "cell_type": "code",
   "execution_count": 15,
   "metadata": {},
   "outputs": [
    {
     "data": {
      "text/plain": [
       "0              book\n",
       "1              book\n",
       "2         videodisc\n",
       "3             ebook\n",
       "4             ebook\n",
       "            ...    \n",
       "282282        ebook\n",
       "282283         book\n",
       "282284    audiobook\n",
       "282285        ebook\n",
       "282286        ebook\n",
       "Name: MaterialType, Length: 282287, dtype: object"
      ]
     },
     "execution_count": 15,
     "metadata": {},
     "output_type": "execute_result"
    }
   ],
   "source": [
    "seattle_df['MaterialType'].str.lower()"
   ]
  },
  {
   "cell_type": "markdown",
   "metadata": {},
   "source": [
    "We can also try to clean up some of the inconsistencies in our data by stripping trailing commas with `.str.strip(,)`.\n",
    "\n",
    "Here are the top 15 most frequent values in the \"Publisher\" column before we do any clean up."
   ]
  },
  {
   "cell_type": "code",
   "execution_count": 16,
   "metadata": {},
   "outputs": [
    {
     "data": {
      "text/plain": [
       "Random House, Inc.                                18920\n",
       "Books on Tape                                     13479\n",
       "Random House,                                     12139\n",
       "Penguin Group (USA), Inc.                          9575\n",
       "HarperCollins Publishers Inc.                      8639\n",
       "Hachette Digital, Inc.                             6867\n",
       "Sony Pictures Home Entertainment,                  5981\n",
       "Macmillan Publishers                               5220\n",
       "Blackstone Audio, Inc.                             5171\n",
       "[Publisher not identified],                        5148\n",
       "Simon & Schuster, Inc.                             3810\n",
       "20th Century Fox Home Entertainment,               3724\n",
       "Universal Pictures Home Entertainment,             3580\n",
       "Lionsgate,                                         3577\n",
       "Harper, an imprint of HarperCollinsPublishers,     3456\n",
       "Name: Publisher, dtype: int64"
      ]
     },
     "execution_count": 16,
     "metadata": {},
     "output_type": "execute_result"
    }
   ],
   "source": [
    "seattle_df['Publisher'].value_counts()[:15]"
   ]
  },
  {
   "cell_type": "markdown",
   "metadata": {},
   "source": [
    "Now let's strip commas."
   ]
  },
  {
   "cell_type": "code",
   "execution_count": 17,
   "metadata": {},
   "outputs": [],
   "source": [
    "seattle_df['Publisher'] = seattle_df['Publisher'].str.strip(',')"
   ]
  },
  {
   "cell_type": "markdown",
   "metadata": {},
   "source": [
    "Here are the top 15 most frequent values after our text manipulation. Looks a little better!"
   ]
  },
  {
   "cell_type": "code",
   "execution_count": 18,
   "metadata": {},
   "outputs": [
    {
     "data": {
      "text/plain": [
       "Random House, Inc.                       18922\n",
       "Books on Tape                            13515\n",
       "Random House                             12275\n",
       "Penguin Group (USA), Inc.                 9575\n",
       "HarperCollins Publishers Inc.             8639\n",
       "Hachette Digital, Inc.                    6867\n",
       "Sony Pictures Home Entertainment          5996\n",
       "Macmillan Publishers                      5220\n",
       "Blackstone Audio, Inc.                    5174\n",
       "[Publisher not identified]                5148\n",
       "Simon & Schuster, Inc.                    3814\n",
       "20th Century Fox Home Entertainment       3724\n",
       "Lionsgate                                 3662\n",
       "Universal Pictures Home Entertainment     3581\n",
       "Warner Home Video                         3470\n",
       "Name: Publisher, dtype: int64"
      ]
     },
     "execution_count": 18,
     "metadata": {},
     "output_type": "execute_result"
    }
   ],
   "source": [
    "seattle_df['Publisher'].value_counts()[:15]"
   ]
  },
  {
   "cell_type": "markdown",
   "metadata": {},
   "source": [
    "We can also use `df.str.contains()` to search for whether a row contains a string, like *My Brilliant Friend*, even if it doesn't match the title exactly.\n",
    "\n",
    "If there are `NaN` values in a column, we can also choose to ignore them with `na = False`."
   ]
  },
  {
   "cell_type": "code",
   "execution_count": 19,
   "metadata": {},
   "outputs": [
    {
     "data": {
      "text/html": [
       "<div>\n",
       "<style scoped>\n",
       "    .dataframe tbody tr th:only-of-type {\n",
       "        vertical-align: middle;\n",
       "    }\n",
       "\n",
       "    .dataframe tbody tr th {\n",
       "        vertical-align: top;\n",
       "    }\n",
       "\n",
       "    .dataframe thead th {\n",
       "        text-align: right;\n",
       "    }\n",
       "</style>\n",
       "<table border=\"1\" class=\"dataframe\">\n",
       "  <thead>\n",
       "    <tr style=\"text-align: right;\">\n",
       "      <th></th>\n",
       "      <th>Title</th>\n",
       "      <th>Creator</th>\n",
       "      <th>MaterialType</th>\n",
       "      <th>Checkouts</th>\n",
       "      <th>CheckoutYear</th>\n",
       "      <th>CheckoutMonth</th>\n",
       "      <th>Publisher</th>\n",
       "      <th>PublicationYear</th>\n",
       "      <th>Subjects</th>\n",
       "      <th>UsageClass</th>\n",
       "      <th>CheckoutType</th>\n",
       "    </tr>\n",
       "  </thead>\n",
       "  <tbody>\n",
       "    <tr>\n",
       "      <th>8341</th>\n",
       "      <td>My Brilliant Friend: Neapolitan Series, Book 1</td>\n",
       "      <td>Elena Ferrante</td>\n",
       "      <td>EBOOK</td>\n",
       "      <td>37</td>\n",
       "      <td>2016</td>\n",
       "      <td>12</td>\n",
       "      <td>Penguin Group (USA), Inc.</td>\n",
       "      <td>2013</td>\n",
       "      <td>Fiction, Literature</td>\n",
       "      <td>Digital</td>\n",
       "      <td>OverDrive</td>\n",
       "    </tr>\n",
       "    <tr>\n",
       "      <th>222647</th>\n",
       "      <td>My Brilliant Friend: Neapolitan Series, Book 1 (unabridged) (Unabridged)</td>\n",
       "      <td>Elena Ferrante</td>\n",
       "      <td>AUDIOBOOK</td>\n",
       "      <td>91</td>\n",
       "      <td>2019</td>\n",
       "      <td>9</td>\n",
       "      <td>Blackstone Audio, Inc.</td>\n",
       "      <td>2015</td>\n",
       "      <td>Fiction, Literature</td>\n",
       "      <td>Digital</td>\n",
       "      <td>OverDrive</td>\n",
       "    </tr>\n",
       "    <tr>\n",
       "      <th>46590</th>\n",
       "      <td>My Brilliant Friend: Neapolitan Series, Book 1</td>\n",
       "      <td>Elena Ferrante</td>\n",
       "      <td>EBOOK</td>\n",
       "      <td>34</td>\n",
       "      <td>2015</td>\n",
       "      <td>9</td>\n",
       "      <td>Penguin Group (USA), Inc.</td>\n",
       "      <td>2013</td>\n",
       "      <td>Fiction, Literature</td>\n",
       "      <td>Digital</td>\n",
       "      <td>OverDrive</td>\n",
       "    </tr>\n",
       "    <tr>\n",
       "      <th>195022</th>\n",
       "      <td>My Brilliant Friend: Neapolitan Series, Book 1 (unabridged) (Unabridged)</td>\n",
       "      <td>Elena Ferrante</td>\n",
       "      <td>AUDIOBOOK</td>\n",
       "      <td>33</td>\n",
       "      <td>2019</td>\n",
       "      <td>2</td>\n",
       "      <td>Blackstone Audio, Inc.</td>\n",
       "      <td>2015</td>\n",
       "      <td>Fiction, Literature</td>\n",
       "      <td>Digital</td>\n",
       "      <td>OverDrive</td>\n",
       "    </tr>\n",
       "    <tr>\n",
       "      <th>235101</th>\n",
       "      <td>My Brilliant Friend: Neapolitan Series, Book 1 (unabridged) (Unabridged)</td>\n",
       "      <td>Elena Ferrante</td>\n",
       "      <td>AUDIOBOOK</td>\n",
       "      <td>79</td>\n",
       "      <td>2019</td>\n",
       "      <td>12</td>\n",
       "      <td>Blackstone Audio, Inc.</td>\n",
       "      <td>2015</td>\n",
       "      <td>Fiction, Literature</td>\n",
       "      <td>Digital</td>\n",
       "      <td>OverDrive</td>\n",
       "    </tr>\n",
       "    <tr>\n",
       "      <th>50379</th>\n",
       "      <td>My Brilliant Friend: Neapolitan Series, Book 1</td>\n",
       "      <td>Elena Ferrante</td>\n",
       "      <td>EBOOK</td>\n",
       "      <td>52</td>\n",
       "      <td>2015</td>\n",
       "      <td>10</td>\n",
       "      <td>Penguin Group (USA), Inc.</td>\n",
       "      <td>2013</td>\n",
       "      <td>Fiction, Literature</td>\n",
       "      <td>Digital</td>\n",
       "      <td>OverDrive</td>\n",
       "    </tr>\n",
       "    <tr>\n",
       "      <th>262429</th>\n",
       "      <td>My Brilliant Friend: Neapolitan Series, Book 1</td>\n",
       "      <td>Elena Ferrante</td>\n",
       "      <td>EBOOK</td>\n",
       "      <td>26</td>\n",
       "      <td>2020</td>\n",
       "      <td>10</td>\n",
       "      <td>Penguin Group (USA), Inc.</td>\n",
       "      <td>2013</td>\n",
       "      <td>Fiction, Literature</td>\n",
       "      <td>Digital</td>\n",
       "      <td>OverDrive</td>\n",
       "    </tr>\n",
       "    <tr>\n",
       "      <th>196186</th>\n",
       "      <td>My Brilliant Friend: Neapolitan Series, Book 1</td>\n",
       "      <td>Elena Ferrante</td>\n",
       "      <td>EBOOK</td>\n",
       "      <td>30</td>\n",
       "      <td>2019</td>\n",
       "      <td>2</td>\n",
       "      <td>Penguin Group (USA), Inc.</td>\n",
       "      <td>2013</td>\n",
       "      <td>Fiction, Literature</td>\n",
       "      <td>Digital</td>\n",
       "      <td>OverDrive</td>\n",
       "    </tr>\n",
       "    <tr>\n",
       "      <th>53112</th>\n",
       "      <td>My Brilliant Friend: Neapolitan Series, Book 1 (unabridged) (Unabridged)</td>\n",
       "      <td>Elena Ferrante</td>\n",
       "      <td>AUDIOBOOK</td>\n",
       "      <td>26</td>\n",
       "      <td>2015</td>\n",
       "      <td>10</td>\n",
       "      <td>Blackstone Audio, Inc.</td>\n",
       "      <td>2015</td>\n",
       "      <td>Fiction, Literature</td>\n",
       "      <td>Digital</td>\n",
       "      <td>OverDrive</td>\n",
       "    </tr>\n",
       "    <tr>\n",
       "      <th>115500</th>\n",
       "      <td>My Brilliant Friend: Neapolitan Series, Book 1</td>\n",
       "      <td>Elena Ferrante</td>\n",
       "      <td>EBOOK</td>\n",
       "      <td>33</td>\n",
       "      <td>2017</td>\n",
       "      <td>6</td>\n",
       "      <td>Penguin Group (USA), Inc.</td>\n",
       "      <td>2013</td>\n",
       "      <td>Fiction, Literature</td>\n",
       "      <td>Digital</td>\n",
       "      <td>OverDrive</td>\n",
       "    </tr>\n",
       "  </tbody>\n",
       "</table>\n",
       "</div>"
      ],
      "text/plain": [
       "                                                                           Title  \\\n",
       "8341                              My Brilliant Friend: Neapolitan Series, Book 1   \n",
       "222647  My Brilliant Friend: Neapolitan Series, Book 1 (unabridged) (Unabridged)   \n",
       "46590                             My Brilliant Friend: Neapolitan Series, Book 1   \n",
       "195022  My Brilliant Friend: Neapolitan Series, Book 1 (unabridged) (Unabridged)   \n",
       "235101  My Brilliant Friend: Neapolitan Series, Book 1 (unabridged) (Unabridged)   \n",
       "50379                             My Brilliant Friend: Neapolitan Series, Book 1   \n",
       "262429                            My Brilliant Friend: Neapolitan Series, Book 1   \n",
       "196186                            My Brilliant Friend: Neapolitan Series, Book 1   \n",
       "53112   My Brilliant Friend: Neapolitan Series, Book 1 (unabridged) (Unabridged)   \n",
       "115500                            My Brilliant Friend: Neapolitan Series, Book 1   \n",
       "\n",
       "               Creator MaterialType  Checkouts  CheckoutYear  CheckoutMonth  \\\n",
       "8341    Elena Ferrante        EBOOK         37          2016             12   \n",
       "222647  Elena Ferrante    AUDIOBOOK         91          2019              9   \n",
       "46590   Elena Ferrante        EBOOK         34          2015              9   \n",
       "195022  Elena Ferrante    AUDIOBOOK         33          2019              2   \n",
       "235101  Elena Ferrante    AUDIOBOOK         79          2019             12   \n",
       "50379   Elena Ferrante        EBOOK         52          2015             10   \n",
       "262429  Elena Ferrante        EBOOK         26          2020             10   \n",
       "196186  Elena Ferrante        EBOOK         30          2019              2   \n",
       "53112   Elena Ferrante    AUDIOBOOK         26          2015             10   \n",
       "115500  Elena Ferrante        EBOOK         33          2017              6   \n",
       "\n",
       "                        Publisher PublicationYear             Subjects  \\\n",
       "8341    Penguin Group (USA), Inc.            2013  Fiction, Literature   \n",
       "222647     Blackstone Audio, Inc.            2015  Fiction, Literature   \n",
       "46590   Penguin Group (USA), Inc.            2013  Fiction, Literature   \n",
       "195022     Blackstone Audio, Inc.            2015  Fiction, Literature   \n",
       "235101     Blackstone Audio, Inc.            2015  Fiction, Literature   \n",
       "50379   Penguin Group (USA), Inc.            2013  Fiction, Literature   \n",
       "262429  Penguin Group (USA), Inc.            2013  Fiction, Literature   \n",
       "196186  Penguin Group (USA), Inc.            2013  Fiction, Literature   \n",
       "53112      Blackstone Audio, Inc.            2015  Fiction, Literature   \n",
       "115500  Penguin Group (USA), Inc.            2013  Fiction, Literature   \n",
       "\n",
       "       UsageClass CheckoutType  \n",
       "8341      Digital    OverDrive  \n",
       "222647    Digital    OverDrive  \n",
       "46590     Digital    OverDrive  \n",
       "195022    Digital    OverDrive  \n",
       "235101    Digital    OverDrive  \n",
       "50379     Digital    OverDrive  \n",
       "262429    Digital    OverDrive  \n",
       "196186    Digital    OverDrive  \n",
       "53112     Digital    OverDrive  \n",
       "115500    Digital    OverDrive  "
      ]
     },
     "execution_count": 19,
     "metadata": {},
     "output_type": "execute_result"
    }
   ],
   "source": [
    "# Boolean vector\n",
    "title_filter = seattle_df['Title'].str.contains('My Brilliant Friend', na=False)\n",
    "\n",
    "# Filter\n",
    "seattle_df[title_filter].sample(10)"
   ]
  },
  {
   "cell_type": "markdown",
   "metadata": {},
   "source": [
    "We can also test whether a row contains a certain word/phrase OR (`|`) other words/phrases. Additionally, we can choose to ignore case."
   ]
  },
  {
   "cell_type": "code",
   "execution_count": 20,
   "metadata": {},
   "outputs": [
    {
     "name": "stderr",
     "output_type": "stream",
     "text": [
      "/Users/melaniewalsh/opt/anaconda3/lib/python3.7/site-packages/pandas/core/strings/accessor.py:101: UserWarning: This pattern has match groups. To actually get the groups, use str.extract.\n",
      "  return func(self, *args, **kwargs)\n"
     ]
    },
    {
     "data": {
      "text/plain": [
       "My Brilliant Friend: Neapolitan Series, Book 1                                                                   77\n",
       "My Brilliant Friend: Neapolitan Series, Book 1 (unabridged) (Unabridged)                                         59\n",
       "My brilliant friend : childhood, adolescence / Elena Ferrante ; translated from the Italian by Ann Goldstein.    52\n",
       "The Story of a New Name: Neapolitan Series, Book 2                                                               28\n",
       "Story of a new name / Elena Ferrante ; translated from the Italian by Ann Goldstein.                             12\n",
       "My brilliant friend. The complete first season / Home Box Office ; directed by Saverio Costanzo.                 11\n",
       "The story of a new name / Elena Ferrante ; translated from the Italian by Ann Goldstein.                          8\n",
       "The Story of a New Name: Neapolitan Series, Book 2 (unabridged) (Unabridged)                                      7\n",
       "My Brilliant Friend: Neapolitan Series, Book 1 (unabridged)                                                       7\n",
       "Name: Title, dtype: int64"
      ]
     },
     "execution_count": 20,
     "metadata": {},
     "output_type": "execute_result"
    }
   ],
   "source": [
    "# Boolean vector\n",
    "title_filter = seattle_df['Title'].str.contains('(my brilliant friend|story of a new name)',\n",
    "                                                na=False, case = False)\n",
    "\n",
    "# Filter\n",
    "seattle_df[title_filter]['Title'].value_counts()"
   ]
  },
  {
   "cell_type": "markdown",
   "metadata": {},
   "source": [
    "\n",
    "| Regular Expression Pattern       | Matches |\n",
    "|:---------------------------:|:-----------------------------------------------------------------------------------------------------------:|\n",
    "| `.` | any character                                         | \n",
    "| `\\w` | word                                         | \n",
    "| `\\W`                      | NOT word                                           |  \n",
    "| `\\d` | digit                                         | \n",
    "| `\\D`                      | NOT digit                                           | \n",
    "| `\\s` | whitespace                                         | \n",
    "| `\\S`                      | NOT whitespace                                          | \n",
    "| `[abc]`                      | Any of abc                                         |\n",
    "| `[^abc]`                      | Not any of abc                                         | \n",
    "| `(abc)`                      | Specific capture of \"abc\"                                         \n",
    "| `+`                      | 1 or more instances                                       | \n",
    "| `*`                      | 0 or more instances                                         | \n",
    "| `?`                      | 0 or 1 instance                                        | \n",
    "| `{number}`                      | any specific number of instances                                        | \n",
    "\n",
    "                   \n"
   ]
  },
  {
   "cell_type": "markdown",
   "metadata": {},
   "source": [
    "We can also use regular expressions with `.str.contains()`. For example, we could search for anything that has 4 numbers in a row `\\d{4}`."
   ]
  },
  {
   "cell_type": "code",
   "execution_count": 21,
   "metadata": {},
   "outputs": [
    {
     "data": {
      "text/plain": [
       "The Boys in the Boat: Nine Americans and Their Epic Quest for Gold at the 1936 Berlin Olympics                                                                                                                                                   77\n",
       "1984 (Unabridged)                                                                                                                                                                                                                                69\n",
       "Captain Underpants and the tyrannical retaliation of the Turbo Toilet 2000 / the eleventh epic novel by Dav Pilkey.                                                                                                                              62\n",
       "1984                                                                                                                                                                                                                                             60\n",
       "The Boys in the Boat: Nine Americans and Their Epic Quest for Gold at the 1936 Berlin Olympics (unabridged) (Unabridged)                                                                                                                         57\n",
       "                                                                                                                                                                                                                                                 ..\n",
       "The Only Plane in the Sky: An Oral History of September 11, 2001 (unabridged) (Unabridged)                                                                                                                                                        1\n",
       "2018 Award Nominees                                                                                                                                                                                                                               1\n",
       "Curious George 3. Back to the jungle [videorecording] / Universal 1440 Entertainment ; Imagine Entertainment ; a Universal Animation Studios production ; written by Chuck Tately ; directed by Phil Weinstein ; produced by Share Stallings.     1\n",
       "Pushing tin [videorecording] / Fox 2000 Pictures and Regency Enterprises ; a Linson Films production ; screenplay by Glen Charles and Les Charles ; produced by Art Linson ; directed by Mike Newell.                                             1\n",
       "Archie 1000 page comics festival.                                                                                                                                                                                                                 1\n",
       "Name: Title, Length: 380, dtype: int64"
      ]
     },
     "execution_count": 21,
     "metadata": {},
     "output_type": "execute_result"
    }
   ],
   "source": [
    "# Boolean vector\n",
    "title_filter = seattle_df['Title'].str.contains('\\d{4}',\n",
    "                                                na=False, case = False, regex=True)\n",
    "\n",
    "# Filter\n",
    "seattle_df[title_filter]['Title'].value_counts()"
   ]
  },
  {
   "cell_type": "markdown",
   "metadata": {},
   "source": [
    "## Applying Functions"
   ]
  },
  {
   "cell_type": "markdown",
   "metadata": {},
   "source": [
    "| **Pandas Method** | **Explanation**                                                                                   |\n",
    "|:-------------:|:---------------------------------------------------------------------------------------------------:|\n",
    "| df['column_name']`.apply(function_name)`         | Call function on every row in column                                                                                |\n",
    "| df`.apply(function_name, axis='columns')`         | Call function on every row in DataFrame                                                |"
   ]
  },
  {
   "cell_type": "markdown",
   "metadata": {},
   "source": [
    "Perhaps we want to create a Python function that will clean up our data in a more nuanced and comprehensive way.\n",
    "\n",
    "For example, our \"PublicationYear\" column has a lot of irregularity. Many of the values are surrounded by square brackets`[]`, begin with the letter `c`, end with a period, or include multiple years (presumably a copyright year and a reissue year)."
   ]
  },
  {
   "cell_type": "code",
   "execution_count": 22,
   "metadata": {},
   "outputs": [
    {
     "data": {
      "text/plain": [
       "[2015]            19447\n",
       "[2016]            18450\n",
       "2017              17659\n",
       "2016              17313\n",
       "[2017]            16256\n",
       "                  ...  \n",
       "[2011], c1975.        1\n",
       "[2007], 2005.         1\n",
       "2007, c1998.          1\n",
       "c1959.                1\n",
       "1958                  1\n",
       "Name: PublicationYear, Length: 608, dtype: int64"
      ]
     },
     "execution_count": 22,
     "metadata": {},
     "output_type": "execute_result"
    }
   ],
   "source": [
    "seattle_df['PublicationYear'].value_counts()"
   ]
  },
  {
   "cell_type": "markdown",
   "metadata": {},
   "source": [
    "Lucky for us, Pandas makes it easy to apply functions to DataFrame and Series objects."
   ]
  },
  {
   "cell_type": "markdown",
   "metadata": {},
   "source": [
    "<div class=\"admonition pythonreview\" name=\"html-admonition\" style=\"background: lightgreen; padding: 10px\">\n",
    "<p class=\"title\"><b/>Python Review 🐍 </b></p>\n",
    "\n",
    "Python functions enable you to bundle up code and call that code whenever you need it. There are a number of built-in Python functions, such as:\n",
    "- `print()`\n",
    "- `len()`\n",
    "- `type()`\n",
    "\n",
    "To create a Python function of your own, you need to begin with the keyword `def`, short for define. Then you give the function a name followed by parenthesis, and often you specify an argument that it will accept inside the parenthesis, followed by a colon.\n",
    "\n",
    "```\n",
    "def clean_year(year):\n",
    "    year = year.replace('[', '')\n",
    "    year = year.replace(']', '')\n",
    "    return year\n",
    "\n",
    "clean_year(\"[2012]\")  \n",
    "\"2012\"  \n",
    "```\n",
    "\n",
    "Then you move to the next line, indent, and include the code that you want to be run when you \"call\" the function.\n",
    "\n",
    "Finally, you typically end with a `return` statement that will return a certain value(s).  \n",
    "\n",
    "\n",
    "</div>"
   ]
  },
  {
   "cell_type": "markdown",
   "metadata": {},
   "source": [
    "To use a Python function on a DataFrame or Series object, you use `.apply()` and give the name of the desired function as an argument. This means the function will be called on every row in the DataFrame or every column.\n",
    "\n",
    "To make a useful Python function for your DataFrame/column, it can be useful to think about making a function that will work well on a single value, like \"c[2012]. \" or \"c2012 2020.  \" For these values, we want to remove characters like `[` or `c`, strip whitespace, and find a way to deal with multiple years. To make things simple, let's simply return \"Unknown\" if there is more than one year listed."
   ]
  },
  {
   "cell_type": "code",
   "execution_count": 23,
   "metadata": {},
   "outputs": [],
   "source": [
    "def clean_year(year):\n",
    "    \n",
    "    # Convert number to string\n",
    "    year = str(year)\n",
    "    # Replace characters\n",
    "    year = year.replace('[', '')\n",
    "    year = year.replace(']', '')\n",
    "    year = year.replace('-', '')\n",
    "    year = year.replace(',', '')\n",
    "    year = year.replace('.', '')\n",
    "    year = year.replace('©', '')\n",
    "    year = year.replace('c', '')\n",
    "    year = year.replace('?', '')\n",
    "    # Strip whitespace\n",
    "    year = year.strip()\n",
    "    \n",
    "    # If there are more than 4 characters, return Unknown \n",
    "    if len(year) > 4:\n",
    "        year = 'Unknown'\n",
    "        \n",
    "    return year"
   ]
  },
  {
   "cell_type": "markdown",
   "metadata": {},
   "source": [
    "Let's test out the function on single values."
   ]
  },
  {
   "cell_type": "code",
   "execution_count": 24,
   "metadata": {},
   "outputs": [
    {
     "data": {
      "text/plain": [
       "'2012'"
      ]
     },
     "execution_count": 24,
     "metadata": {},
     "output_type": "execute_result"
    }
   ],
   "source": [
    "clean_year(\"c[2012].  \")"
   ]
  },
  {
   "cell_type": "code",
   "execution_count": 25,
   "metadata": {},
   "outputs": [
    {
     "data": {
      "text/plain": [
       "'Unknown'"
      ]
     },
     "execution_count": 25,
     "metadata": {},
     "output_type": "execute_result"
    }
   ],
   "source": [
    "clean_year(\"c2012 2020.  \")"
   ]
  },
  {
   "cell_type": "markdown",
   "metadata": {},
   "source": [
    "Great! It works. Now let's apply the function to the entire column. Note that when we apply the function, we simply give the name and do not call it with parenthesis."
   ]
  },
  {
   "cell_type": "code",
   "execution_count": 26,
   "metadata": {},
   "outputs": [
    {
     "data": {
      "text/plain": [
       "0         1976\n",
       "1         2012\n",
       "2         2009\n",
       "3         2012\n",
       "4         2015\n",
       "          ... \n",
       "282282    2013\n",
       "282283    2019\n",
       "282284    2018\n",
       "282285    2012\n",
       "282286    2019\n",
       "Name: PublicationYear, Length: 282287, dtype: object"
      ]
     },
     "execution_count": 26,
     "metadata": {},
     "output_type": "execute_result"
    }
   ],
   "source": [
    "seattle_df['PublicationYear'].apply(clean_year)"
   ]
  },
  {
   "cell_type": "markdown",
   "metadata": {},
   "source": [
    "Once we clean up the \"PublicationYear\" column, it looks a lot better."
   ]
  },
  {
   "cell_type": "code",
   "execution_count": 27,
   "metadata": {
    "scrolled": true
   },
   "outputs": [
    {
     "data": {
      "text/plain": [
       "2016       36411\n",
       "2015       36215\n",
       "2017       34637\n",
       "2018       28444\n",
       "2014       27068\n",
       "2019       20161\n",
       "2013       18097\n",
       "2012       12365\n",
       "2020       10573\n",
       "2011        9090\n",
       "nan         7773\n",
       "2010        6751\n",
       "2009        5722\n",
       "2008        3696\n",
       "Unknown     3534\n",
       "2006        3083\n",
       "2007        3003\n",
       "2005        2127\n",
       "2021        1404\n",
       "2004        1081\n",
       "2003        1039\n",
       "2000         812\n",
       "2002         743\n",
       "1999         665\n",
       "1998         627\n",
       "2001         565\n",
       "1997         304\n",
       "1961         261\n",
       "1960         255\n",
       "1996         225\n",
       "1958         216\n",
       "1993         207\n",
       "1978         207\n",
       "1995         201\n",
       "1962         201\n",
       "1991         200\n",
       "1987         197\n",
       "1963         193\n",
       "1972         180\n",
       "1984         178\n",
       "1994         168\n",
       "1979         167\n",
       "1964         162\n",
       "1970         160\n",
       "1989         158\n",
       "1968         148\n",
       "1974         147\n",
       "1980         130\n",
       "1985         122\n",
       "1981         122\n",
       "1982         121\n",
       "1992         113\n",
       "1975         109\n",
       "1957         106\n",
       "1973         104\n",
       "1990          94\n",
       "1965          94\n",
       "1988          93\n",
       "1971          86\n",
       "1955          84\n",
       "1948          82\n",
       "1953          82\n",
       "1947          68\n",
       "1976          66\n",
       "1983          66\n",
       "1977          65\n",
       "1967          64\n",
       "1954          58\n",
       "1941          53\n",
       "1969          52\n",
       "1936          51\n",
       "1986          50\n",
       "1956          45\n",
       "1966          39\n",
       "1959          38\n",
       "1949          35\n",
       "1940          35\n",
       "1952          33\n",
       "1937          27\n",
       "1942          21\n",
       "1950          18\n",
       "1945          14\n",
       "1939          14\n",
       "1933           7\n",
       "1951           4\n",
       "200            1\n",
       "Name: PublicationYear, dtype: int64"
      ]
     },
     "execution_count": 27,
     "metadata": {},
     "output_type": "execute_result"
    }
   ],
   "source": [
    "seattle_df['PublicationYear'] = seattle_df['PublicationYear'].apply(clean_year)\n",
    "\n",
    "seattle_df['PublicationYear'].value_counts()"
   ]
  },
  {
   "cell_type": "markdown",
   "metadata": {},
   "source": [
    "You may have noticed that there are a lot of different variations of the titles, as well.\n",
    "\n",
    "Let's make a function that attempts to aggregate titles of the same name. Note that we're using more regular expressions here. Python functions allow you to get as fancy as you want!"
   ]
  },
  {
   "cell_type": "code",
   "execution_count": 28,
   "metadata": {},
   "outputs": [],
   "source": [
    "import re\n",
    "\n",
    "def clean_title(title):\n",
    "    \n",
    "    # Replace some words\n",
    "    title = title.lower().replace('(unabridged)', '')\n",
    "    title = title.lower().replace(': a novel', '')\n",
    "    \n",
    "    # Use regex expression to remove everything after / or :\n",
    "    # Test to see if there is a / character\n",
    "    if re.search('.+?(?=/)/', title):\n",
    "        # If so, pull out the text before the / character\n",
    "        title = re.search('.+?(?=/)/', title).group(0)\n",
    "    \n",
    "    # Test to see if there is a : character\n",
    "    if re.search('.+?(?=:)', title):\n",
    "        # If so, pull out the text before the / character\n",
    "        title = re.search('.+?(?=:)', title).group(0)\n",
    "    \n",
    "    # Strip character and whitespace\n",
    "    title = title.strip('/')\n",
    "    title = title.strip()\n",
    "    \n",
    "    title = title.title()\n",
    "    \n",
    "    return title"
   ]
  },
  {
   "cell_type": "markdown",
   "metadata": {},
   "source": [
    "Make sure to run this cell!"
   ]
  },
  {
   "cell_type": "code",
   "execution_count": 29,
   "metadata": {},
   "outputs": [],
   "source": [
    "seattle_df['Title'] = seattle_df['Title'].apply(clean_title)"
   ]
  },
  {
   "cell_type": "markdown",
   "metadata": {},
   "source": [
    "<div class=\"admonition note\" name=\"html-admonition\" style=\"background: lightyellow; padding: 10px\">\n",
    "<p class=\"Question\"><b/>❓ Question</b></p>\n",
    "\n",
    "How dominant are the \"Big 5\" Publishers — Penguin/Random House, Harper Collins, Hachette, Simon & Schuster, and Macmillan — in the Seattle Public Library system?\n",
    "\n",
    "To answer this question, we need to `.apply()` a function.\n",
    "</div>"
   ]
  },
  {
   "cell_type": "markdown",
   "metadata": {},
   "source": [
    "It's hard to get a sense of publishing trends in this dataset because there are a lot of different values for the same publisher — not only slight differences like \"Random House, Inc.\" and \"Random House\" but bigger differences, too, like the fact that \"Viking\" is *owned* by Penguin/Random House.\n",
    "\n",
    "Can we account for these nuances?"
   ]
  },
  {
   "cell_type": "code",
   "execution_count": 30,
   "metadata": {},
   "outputs": [
    {
     "data": {
      "text/plain": [
       "Random House, Inc.                               18922\n",
       "Books on Tape                                    13515\n",
       "Random House                                     12275\n",
       "Penguin Group (USA), Inc.                         9575\n",
       "HarperCollins Publishers Inc.                     8639\n",
       "Hachette Digital, Inc.                            6867\n",
       "Sony Pictures Home Entertainment                  5996\n",
       "Macmillan Publishers                              5220\n",
       "Blackstone Audio, Inc.                            5174\n",
       "[Publisher not identified]                        5148\n",
       "Simon & Schuster, Inc.                            3814\n",
       "20th Century Fox Home Entertainment               3724\n",
       "Lionsgate                                         3662\n",
       "Universal Pictures Home Entertainment             3581\n",
       "Warner Home Video                                 3470\n",
       "Harper, an imprint of HarperCollinsPublishers     3460\n",
       "Universal Studios Home Entertainment              3218\n",
       "Scholastic Inc.                                   3131\n",
       "Alfred A. Knopf                                   2884\n",
       "Macmillan Audio                                   2883\n",
       "Twentieth Century Fox Home Entertainment          2650\n",
       "Ballantine Books                                  2454\n",
       "Candlewick Press                                  2335\n",
       "Simon & Schuster - Audiobooks                     2285\n",
       "Harper                                            2199\n",
       "Little, Brown and Company                         2148\n",
       "Hyperion Books for Children                       2103\n",
       "Scholastic                                        2097\n",
       "Tantor Media, Inc                                 2042\n",
       "Anchor Bay Entertainment                          1726\n",
       "Houghton Mifflin Harcourt                         1471\n",
       "Paramount Home Entertainment                      1441\n",
       "Recorded Books, LLC                               1377\n",
       "Viking                                            1296\n",
       "Buena Vista Home Entertainment                    1223\n",
       "Name: Publisher, dtype: int64"
      ]
     },
     "execution_count": 30,
     "metadata": {},
     "output_type": "execute_result"
    }
   ],
   "source": [
    "seattle_df['Publisher'].value_counts()[:35]"
   ]
  },
  {
   "cell_type": "code",
   "execution_count": 32,
   "metadata": {},
   "outputs": [],
   "source": [
    "def big_5_checker(publisher):\n",
    "    \n",
    "    # Make lowercase to catch variations\n",
    "    publisher = publisher.lower()\n",
    "    \n",
    "    # Test to see if certain words are in the row, then return corresponding publisher\n",
    "    if \"random house\" in publisher or \"penguin\" in publisher or \"knopf\" in publisher or \"viking\" in publisher or \"ballantine\" in publisher:\n",
    "        return \"Penguin/Random House\"\n",
    "    elif \"harper\" in publisher:\n",
    "        return \"Harper Collins\"\n",
    "    elif \"simon\" in publisher:\n",
    "        return \"Simon & Schuster\"\n",
    "    elif \"hachette\" in publisher:\n",
    "        return \"Hachette\"\n",
    "    elif \"macmillan\" in publisher:\n",
    "            return \"Macmillan\"\n",
    "    else:\n",
    "        return \"Other\""
   ]
  },
  {
   "cell_type": "markdown",
   "metadata": {},
   "source": [
    "Let's test out the function on single values."
   ]
  },
  {
   "cell_type": "code",
   "execution_count": 33,
   "metadata": {},
   "outputs": [
    {
     "data": {
      "text/plain": [
       "'Simon & Schuster'"
      ]
     },
     "execution_count": 33,
     "metadata": {},
     "output_type": "execute_result"
    }
   ],
   "source": [
    "big_5_checker(\"Simon & Schuster - Audiobooks\")"
   ]
  },
  {
   "cell_type": "code",
   "execution_count": 34,
   "metadata": {},
   "outputs": [
    {
     "data": {
      "text/plain": [
       "'Penguin/Random House'"
      ]
     },
     "execution_count": 34,
     "metadata": {},
     "output_type": "execute_result"
    }
   ],
   "source": [
    "big_5_checker(\"Viking,\")"
   ]
  },
  {
   "cell_type": "markdown",
   "metadata": {},
   "source": [
    "Nice! It's working. Let's apply it to the column."
   ]
  },
  {
   "cell_type": "code",
   "execution_count": 35,
   "metadata": {},
   "outputs": [
    {
     "ename": "AttributeError",
     "evalue": "'float' object has no attribute 'lower'",
     "output_type": "error",
     "traceback": [
      "\u001b[0;31m---------------------------------------------------------------------------\u001b[0m",
      "\u001b[0;31mAttributeError\u001b[0m                            Traceback (most recent call last)",
      "\u001b[0;32m<ipython-input-35-218004ab1915>\u001b[0m in \u001b[0;36m<module>\u001b[0;34m\u001b[0m\n\u001b[0;32m----> 1\u001b[0;31m \u001b[0mseattle_df\u001b[0m\u001b[0;34m[\u001b[0m\u001b[0;34m'Big 5'\u001b[0m\u001b[0;34m]\u001b[0m \u001b[0;34m=\u001b[0m \u001b[0mseattle_df\u001b[0m\u001b[0;34m[\u001b[0m\u001b[0;34m'Publisher'\u001b[0m\u001b[0;34m]\u001b[0m\u001b[0;34m.\u001b[0m\u001b[0mapply\u001b[0m\u001b[0;34m(\u001b[0m\u001b[0mbig_5_checker\u001b[0m\u001b[0;34m)\u001b[0m\u001b[0;34m\u001b[0m\u001b[0;34m\u001b[0m\u001b[0m\n\u001b[0m",
      "\u001b[0;32m~/opt/anaconda3/lib/python3.7/site-packages/pandas/core/series.py\u001b[0m in \u001b[0;36mapply\u001b[0;34m(self, func, convert_dtype, args, **kwds)\u001b[0m\n\u001b[1;32m   4136\u001b[0m             \u001b[0;32melse\u001b[0m\u001b[0;34m:\u001b[0m\u001b[0;34m\u001b[0m\u001b[0;34m\u001b[0m\u001b[0m\n\u001b[1;32m   4137\u001b[0m                 \u001b[0mvalues\u001b[0m \u001b[0;34m=\u001b[0m \u001b[0mself\u001b[0m\u001b[0;34m.\u001b[0m\u001b[0mastype\u001b[0m\u001b[0;34m(\u001b[0m\u001b[0mobject\u001b[0m\u001b[0;34m)\u001b[0m\u001b[0;34m.\u001b[0m\u001b[0m_values\u001b[0m\u001b[0;34m\u001b[0m\u001b[0;34m\u001b[0m\u001b[0m\n\u001b[0;32m-> 4138\u001b[0;31m                 \u001b[0mmapped\u001b[0m \u001b[0;34m=\u001b[0m \u001b[0mlib\u001b[0m\u001b[0;34m.\u001b[0m\u001b[0mmap_infer\u001b[0m\u001b[0;34m(\u001b[0m\u001b[0mvalues\u001b[0m\u001b[0;34m,\u001b[0m \u001b[0mf\u001b[0m\u001b[0;34m,\u001b[0m \u001b[0mconvert\u001b[0m\u001b[0;34m=\u001b[0m\u001b[0mconvert_dtype\u001b[0m\u001b[0;34m)\u001b[0m\u001b[0;34m\u001b[0m\u001b[0;34m\u001b[0m\u001b[0m\n\u001b[0m\u001b[1;32m   4139\u001b[0m \u001b[0;34m\u001b[0m\u001b[0m\n\u001b[1;32m   4140\u001b[0m         \u001b[0;32mif\u001b[0m \u001b[0mlen\u001b[0m\u001b[0;34m(\u001b[0m\u001b[0mmapped\u001b[0m\u001b[0;34m)\u001b[0m \u001b[0;32mand\u001b[0m \u001b[0misinstance\u001b[0m\u001b[0;34m(\u001b[0m\u001b[0mmapped\u001b[0m\u001b[0;34m[\u001b[0m\u001b[0;36m0\u001b[0m\u001b[0;34m]\u001b[0m\u001b[0;34m,\u001b[0m \u001b[0mSeries\u001b[0m\u001b[0;34m)\u001b[0m\u001b[0;34m:\u001b[0m\u001b[0;34m\u001b[0m\u001b[0;34m\u001b[0m\u001b[0m\n",
      "\u001b[0;32mpandas/_libs/lib.pyx\u001b[0m in \u001b[0;36mpandas._libs.lib.map_infer\u001b[0;34m()\u001b[0m\n",
      "\u001b[0;32m<ipython-input-32-13f1b0ec1da3>\u001b[0m in \u001b[0;36mbig_5_checker\u001b[0;34m(publisher)\u001b[0m\n\u001b[1;32m      2\u001b[0m \u001b[0;34m\u001b[0m\u001b[0m\n\u001b[1;32m      3\u001b[0m     \u001b[0;31m# Make lowercase to catch variations\u001b[0m\u001b[0;34m\u001b[0m\u001b[0;34m\u001b[0m\u001b[0;34m\u001b[0m\u001b[0m\n\u001b[0;32m----> 4\u001b[0;31m     \u001b[0mpublisher\u001b[0m \u001b[0;34m=\u001b[0m \u001b[0mpublisher\u001b[0m\u001b[0;34m.\u001b[0m\u001b[0mlower\u001b[0m\u001b[0;34m(\u001b[0m\u001b[0;34m)\u001b[0m\u001b[0;34m\u001b[0m\u001b[0;34m\u001b[0m\u001b[0m\n\u001b[0m\u001b[1;32m      5\u001b[0m \u001b[0;34m\u001b[0m\u001b[0m\n\u001b[1;32m      6\u001b[0m     \u001b[0;31m# Test to see if certain words are in the row, then return corresponding publisher\u001b[0m\u001b[0;34m\u001b[0m\u001b[0;34m\u001b[0m\u001b[0;34m\u001b[0m\u001b[0m\n",
      "\u001b[0;31mAttributeError\u001b[0m: 'float' object has no attribute 'lower'"
     ]
    }
   ],
   "source": [
    "seattle_df['Big 5'] = seattle_df['Publisher'].apply(big_5_checker)"
   ]
  },
  {
   "cell_type": "markdown",
   "metadata": {},
   "source": [
    "Uh oh! We've gotten an error. The error reports that we can't use a string method, `.lower()`, on a `float` data type, which is likely a `NaN`.\n",
    "\n",
    "One way that we could handle this error is to simply drop `NaN` values before we apply the function with `.dropna()`."
   ]
  },
  {
   "cell_type": "code",
   "execution_count": 36,
   "metadata": {},
   "outputs": [],
   "source": [
    "seattle_df['Big 5'] = seattle_df['Publisher'].dropna().apply(big_5_checker)"
   ]
  },
  {
   "cell_type": "code",
   "execution_count": 37,
   "metadata": {},
   "outputs": [
    {
     "data": {
      "text/html": [
       "<div>\n",
       "<style scoped>\n",
       "    .dataframe tbody tr th:only-of-type {\n",
       "        vertical-align: middle;\n",
       "    }\n",
       "\n",
       "    .dataframe tbody tr th {\n",
       "        vertical-align: top;\n",
       "    }\n",
       "\n",
       "    .dataframe thead th {\n",
       "        text-align: right;\n",
       "    }\n",
       "</style>\n",
       "<table border=\"1\" class=\"dataframe\">\n",
       "  <thead>\n",
       "    <tr style=\"text-align: right;\">\n",
       "      <th></th>\n",
       "      <th>Title</th>\n",
       "      <th>MaterialType</th>\n",
       "      <th>Checkouts</th>\n",
       "      <th>Publisher</th>\n",
       "      <th>Big 5</th>\n",
       "    </tr>\n",
       "  </thead>\n",
       "  <tbody>\n",
       "    <tr>\n",
       "      <th>86948</th>\n",
       "      <td>We Are Still Here [Videorecording]</td>\n",
       "      <td>VIDEODISC</td>\n",
       "      <td>21</td>\n",
       "      <td>[Publisher not identified]</td>\n",
       "      <td>Other</td>\n",
       "    </tr>\n",
       "    <tr>\n",
       "      <th>228065</th>\n",
       "      <td>Little</td>\n",
       "      <td>VIDEODISC</td>\n",
       "      <td>97</td>\n",
       "      <td>Universal Studios</td>\n",
       "      <td>Other</td>\n",
       "    </tr>\n",
       "    <tr>\n",
       "      <th>81379</th>\n",
       "      <td>Listen Up Philip [Videorecording]</td>\n",
       "      <td>VIDEODISC</td>\n",
       "      <td>23</td>\n",
       "      <td>[Publisher not identified]</td>\n",
       "      <td>Other</td>\n",
       "    </tr>\n",
       "    <tr>\n",
       "      <th>53952</th>\n",
       "      <td>Orange Is The New Black. Season One [Videorecording]</td>\n",
       "      <td>VIDEODISC</td>\n",
       "      <td>112</td>\n",
       "      <td>Lions Gate Entertainment</td>\n",
       "      <td>Other</td>\n",
       "    </tr>\n",
       "    <tr>\n",
       "      <th>180110</th>\n",
       "      <td>Ariel Is Fearless</td>\n",
       "      <td>BOOK</td>\n",
       "      <td>26</td>\n",
       "      <td>Random House</td>\n",
       "      <td>Penguin/Random House</td>\n",
       "    </tr>\n",
       "    <tr>\n",
       "      <th>157107</th>\n",
       "      <td>Grant</td>\n",
       "      <td>BOOK</td>\n",
       "      <td>54</td>\n",
       "      <td>Penguin Press</td>\n",
       "      <td>Penguin/Random House</td>\n",
       "    </tr>\n",
       "    <tr>\n",
       "      <th>224327</th>\n",
       "      <td>Harry Potter And The Order Of The Phoenix</td>\n",
       "      <td>AUDIOBOOK</td>\n",
       "      <td>84</td>\n",
       "      <td>Pottermore</td>\n",
       "      <td>Other</td>\n",
       "    </tr>\n",
       "    <tr>\n",
       "      <th>160033</th>\n",
       "      <td>Garfield Feeds His Face</td>\n",
       "      <td>BOOK</td>\n",
       "      <td>59</td>\n",
       "      <td>Ballantine Books</td>\n",
       "      <td>Penguin/Random House</td>\n",
       "    </tr>\n",
       "    <tr>\n",
       "      <th>201857</th>\n",
       "      <td>The Legend Of Rock Paper Scissors</td>\n",
       "      <td>BOOK</td>\n",
       "      <td>25</td>\n",
       "      <td>Balzer + Bray</td>\n",
       "      <td>Other</td>\n",
       "    </tr>\n",
       "    <tr>\n",
       "      <th>77158</th>\n",
       "      <td>As Time Goes By</td>\n",
       "      <td>EBOOK</td>\n",
       "      <td>23</td>\n",
       "      <td>Simon &amp; Schuster, Inc.</td>\n",
       "      <td>Simon &amp; Schuster</td>\n",
       "    </tr>\n",
       "    <tr>\n",
       "      <th>140995</th>\n",
       "      <td>Pete The Cat And The Surprise Teacher</td>\n",
       "      <td>BOOK</td>\n",
       "      <td>35</td>\n",
       "      <td>Harper, an imprint of HarperCollinsPublishers</td>\n",
       "      <td>Harper Collins</td>\n",
       "    </tr>\n",
       "    <tr>\n",
       "      <th>10305</th>\n",
       "      <td>Live At The Hollywood Bowl</td>\n",
       "      <td>SOUNDDISC</td>\n",
       "      <td>36</td>\n",
       "      <td>Apple/Capitol</td>\n",
       "      <td>Other</td>\n",
       "    </tr>\n",
       "    <tr>\n",
       "      <th>205249</th>\n",
       "      <td>Convenience Store Woman</td>\n",
       "      <td>BOOK</td>\n",
       "      <td>34</td>\n",
       "      <td>Grove Press</td>\n",
       "      <td>Other</td>\n",
       "    </tr>\n",
       "    <tr>\n",
       "      <th>65919</th>\n",
       "      <td>Personal</td>\n",
       "      <td>AUDIOBOOK</td>\n",
       "      <td>33</td>\n",
       "      <td>Books on Tape</td>\n",
       "      <td>Other</td>\n",
       "    </tr>\n",
       "    <tr>\n",
       "      <th>258412</th>\n",
       "      <td>Twilight</td>\n",
       "      <td>AUDIOBOOK</td>\n",
       "      <td>24</td>\n",
       "      <td>Books on Tape</td>\n",
       "      <td>Other</td>\n",
       "    </tr>\n",
       "  </tbody>\n",
       "</table>\n",
       "</div>"
      ],
      "text/plain": [
       "                                                       Title MaterialType  \\\n",
       "86948                     We Are Still Here [Videorecording]    VIDEODISC   \n",
       "228065                                                Little    VIDEODISC   \n",
       "81379                      Listen Up Philip [Videorecording]    VIDEODISC   \n",
       "53952   Orange Is The New Black. Season One [Videorecording]    VIDEODISC   \n",
       "180110                                     Ariel Is Fearless         BOOK   \n",
       "157107                                                 Grant         BOOK   \n",
       "224327             Harry Potter And The Order Of The Phoenix    AUDIOBOOK   \n",
       "160033                               Garfield Feeds His Face         BOOK   \n",
       "201857                     The Legend Of Rock Paper Scissors         BOOK   \n",
       "77158                                        As Time Goes By        EBOOK   \n",
       "140995                 Pete The Cat And The Surprise Teacher         BOOK   \n",
       "10305                             Live At The Hollywood Bowl    SOUNDDISC   \n",
       "205249                               Convenience Store Woman         BOOK   \n",
       "65919                                               Personal    AUDIOBOOK   \n",
       "258412                                              Twilight    AUDIOBOOK   \n",
       "\n",
       "        Checkouts                                      Publisher  \\\n",
       "86948          21                     [Publisher not identified]   \n",
       "228065         97                              Universal Studios   \n",
       "81379          23                     [Publisher not identified]   \n",
       "53952         112                       Lions Gate Entertainment   \n",
       "180110         26                                   Random House   \n",
       "157107         54                                  Penguin Press   \n",
       "224327         84                                     Pottermore   \n",
       "160033         59                               Ballantine Books   \n",
       "201857         25                                  Balzer + Bray   \n",
       "77158          23                         Simon & Schuster, Inc.   \n",
       "140995         35  Harper, an imprint of HarperCollinsPublishers   \n",
       "10305          36                                  Apple/Capitol   \n",
       "205249         34                                    Grove Press   \n",
       "65919          33                                  Books on Tape   \n",
       "258412         24                                  Books on Tape   \n",
       "\n",
       "                       Big 5  \n",
       "86948                  Other  \n",
       "228065                 Other  \n",
       "81379                  Other  \n",
       "53952                  Other  \n",
       "180110  Penguin/Random House  \n",
       "157107  Penguin/Random House  \n",
       "224327                 Other  \n",
       "160033  Penguin/Random House  \n",
       "201857                 Other  \n",
       "77158       Simon & Schuster  \n",
       "140995        Harper Collins  \n",
       "10305                  Other  \n",
       "205249                 Other  \n",
       "65919                  Other  \n",
       "258412                 Other  "
      ]
     },
     "execution_count": 37,
     "metadata": {},
     "output_type": "execute_result"
    }
   ],
   "source": [
    "seattle_df[['Title', 'MaterialType', 'Checkouts', 'Publisher','Big 5']].sample(15)"
   ]
  },
  {
   "cell_type": "code",
   "execution_count": 38,
   "metadata": {},
   "outputs": [
    {
     "data": {
      "text/plain": [
       "Other                   174420\n",
       "Penguin/Random House     54317\n",
       "Harper Collins           20495\n",
       "Simon & Schuster         10458\n",
       "Macmillan                 8344\n",
       "Hachette                  7638\n",
       "Name: Big 5, dtype: int64"
      ]
     },
     "execution_count": 38,
     "metadata": {},
     "output_type": "execute_result"
    }
   ],
   "source": [
    "seattle_df['Big 5'].value_counts()"
   ]
  },
  {
   "cell_type": "markdown",
   "metadata": {},
   "source": [
    "<div class=\"admonition note\" name=\"html-admonition\" style=\"background: lightyellow; padding: 10px\">\n",
    "<p class=\"Question\"><b/>❓ Question</b></p>\n",
    "\n",
    "What are the most common \"Subjects\" in the Seattle Public Library circulation data between 2015-2021?\n",
    "</div>"
   ]
  },
  {
   "cell_type": "markdown",
   "metadata": {},
   "source": [
    "Another lingering issue with this data is that the \"Subjects\" column contains a list of different subjects in each row, making it difficult to understand overall subject borrowing patterns.\n",
    "\n",
    "This is a tricky probelm and a case where we might want to call a Python function on the entire column, not just apply a function to each row of the column."
   ]
  },
  {
   "cell_type": "code",
   "execution_count": 39,
   "metadata": {},
   "outputs": [
    {
     "data": {
      "text/plain": [
       "Fiction, Literature                              10302\n",
       "Fiction, Mystery, Suspense, Thriller              4347\n",
       "Fiction, Historical Fiction, Literature           2698\n",
       "Fiction, Suspense, Thriller                       2635\n",
       "Fiction, Mystery                                  2007\n",
       "Fiction, Literature, Suspense, Thriller           1987\n",
       "Fiction, Literature, Romance                      1932\n",
       "Fiction, Science Fiction                          1732\n",
       "Fantasy, Fiction                                  1688\n",
       "Fiction, Thriller                                 1395\n",
       "Fiction, Humor (Fiction), Literature              1093\n",
       "Fiction, Historical Fiction                       1084\n",
       "Fiction, Literature, Thriller                     1054\n",
       "Fiction, Humor (Fiction), Literature, Romance     1045\n",
       "Fiction, Mystery, Thriller                        1029\n",
       "Name: Subjects, dtype: int64"
      ]
     },
     "execution_count": 39,
     "metadata": {},
     "output_type": "execute_result"
    }
   ],
   "source": [
    "seattle_df['Subjects'].value_counts()[:15]"
   ]
  },
  {
   "cell_type": "markdown",
   "metadata": {},
   "source": [
    "Let's make a function that will accept an entire Pandas Series as an argument (\"Subjects\"), consider each row in the Series/column, split the row into a list based on comma separation, add each item to a list, and then make that list into its own Pandas Series object."
   ]
  },
  {
   "cell_type": "code",
   "execution_count": 40,
   "metadata": {},
   "outputs": [],
   "source": [
    "def count_upper_subjects(subjects_column):\n",
    "    \n",
    "    # Empty list\n",
    "    list_of_subjects = []\n",
    "    \n",
    "    # For each item's subjects in the entire column\n",
    "    for item_subjects in subjects_column:\n",
    "        \n",
    "        # Split on comma\n",
    "        item_subjects = item_subjects.split(',')\n",
    "        \n",
    "        for item_subject in item_subjects:\n",
    "\n",
    "            item_subject = item_subject.replace(',', '')\n",
    "            item_subject = item_subject.strip(',')\n",
    "            item_subject = item_subject.strip()\n",
    "\n",
    "            # Add to big list\n",
    "            list_of_subjects.append(item_subject)\n",
    "    \n",
    "    return pd.Series(list_of_subjects)"
   ]
  },
  {
   "cell_type": "markdown",
   "metadata": {},
   "source": [
    "If we call the function and give the \"Subjects\" column as an argument, we get a Series object of individual titles."
   ]
  },
  {
   "cell_type": "code",
   "execution_count": 41,
   "metadata": {},
   "outputs": [
    {
     "data": {
      "text/plain": [
       "0              Friendship Fiction\n",
       "1          Frogs Juvenile fiction\n",
       "2          Toads Juvenile fiction\n",
       "3              Friendship Fiction\n",
       "4            Naples Italy Fiction\n",
       "                    ...          \n",
       "1427602          Juvenile Fiction\n",
       "1427603       Juvenile Literature\n",
       "1427604                    Essays\n",
       "1427605                 Sociology\n",
       "1427606                Nonfiction\n",
       "Length: 1427607, dtype: object"
      ]
     },
     "execution_count": 41,
     "metadata": {},
     "output_type": "execute_result"
    }
   ],
   "source": [
    "count_upper_subjects(seattle_df['Subjects'].dropna())"
   ]
  },
  {
   "cell_type": "markdown",
   "metadata": {},
   "source": [
    "And because it is a Series, we can use `.value_counts()` to count them all up. It seems to look ok, but..."
   ]
  },
  {
   "cell_type": "code",
   "execution_count": 42,
   "metadata": {},
   "outputs": [
    {
     "data": {
      "text/plain": [
       "Video recordings for the hearing impaired               69160\n",
       "Fiction                                                 55956\n",
       "Feature films                                           54319\n",
       "Fiction films                                           49825\n",
       "Literature                                              28086\n",
       "Nonfiction                                              27225\n",
       "Video recordings for people with visual disabilities    21126\n",
       "Thriller                                                18317\n",
       "Fiction television programs                             17160\n",
       "Television series                                       13955\n",
       "Action and adventure films                              13338\n",
       "Fantasy                                                 12869\n",
       "Comedy films                                            12849\n",
       "Suspense                                                12111\n",
       "Mystery                                                 11289\n",
       "Cartoons and comics                                     10726\n",
       "Graphic novels                                          10503\n",
       "Romance                                                  9789\n",
       "Historical Fiction                                       9365\n",
       "Thrillers Motion pictures                                8722\n",
       "Biography & Autobiography                                8598\n",
       "Humorous stories                                         7726\n",
       "Childrens films                                          7562\n",
       "Man woman relationships Drama                            7426\n",
       "Science Fiction                                          6917\n",
       "Animated films                                           6406\n",
       "Sociology                                                6090\n",
       "Science fiction films                                    5812\n",
       "Historical films                                         5683\n",
       "Biographical films                                       5646\n",
       "Young Adult Fiction                                      5504\n",
       "Fantasy films                                            5338\n",
       "Friendship Fiction                                       5155\n",
       "History                                                  5047\n",
       "Self-Improvement                                         5012\n",
       "Business                                                 4400\n",
       "Humor (Fiction)                                          4394\n",
       "Comic books strips etc                                   4176\n",
       "Friendship Juvenile fiction                              3701\n",
       "Detective and mystery television programs                3687\n",
       "dtype: int64"
      ]
     },
     "execution_count": 42,
     "metadata": {},
     "output_type": "execute_result"
    }
   ],
   "source": [
    "count_upper_subjects(seattle_df['Subjects'].dropna()).value_counts()[:40]"
   ]
  },
  {
   "cell_type": "markdown",
   "metadata": {},
   "source": [
    "...if we examine the last items in the Series, we can see that this method certainly isn't perfect. "
   ]
  },
  {
   "cell_type": "code",
   "execution_count": null,
   "metadata": {},
   "outputs": [],
   "source": [
    "count_upper_subjects(seattle_df['Subjects'].dropna()).value_counts()[-40:]"
   ]
  },
  {
   "cell_type": "markdown",
   "metadata": {},
   "source": [
    "It appears that some subjects in this dataset, like \"Women immigrants Australia Drama\", are NOT separated by commas. If we were really interested in this information, we would need to spend more time creating a function that could capture all the contingencies."
   ]
  },
  {
   "cell_type": "markdown",
   "metadata": {},
   "source": [
    "## Converting Data Types"
   ]
  },
  {
   "cell_type": "markdown",
   "metadata": {},
   "source": [
    "| **Pandas Data Convert Method** | **Explanation**                                                                                   |\n",
    "|:-------------:|:---------------------------------------------------------------------------------------------------:|\n",
    "| `df['column_name'].astype(str/int/float)`         | Convert column to a different data type                                                                                |\n",
    "| `pd.to_numeric(df['column_name'], errors='coerce')`         | Convert column to numerical data, with option to convert errors to `NaN`                                              |\n",
    "| `pd.to_datetime(df['column_name'], format='&Y-%M')`         | Convert column to datetime, specify date input format                                               |"
   ]
  },
  {
   "cell_type": "markdown",
   "metadata": {},
   "source": [
    "In the last section, we cleaned up a lot of our \"PublicationYear\" column. So now we should be able to filter the data and only look at works that were published in the 1970s...right?"
   ]
  },
  {
   "cell_type": "code",
   "execution_count": 43,
   "metadata": {},
   "outputs": [
    {
     "ename": "TypeError",
     "evalue": "'>=' not supported between instances of 'str' and 'int'",
     "output_type": "error",
     "traceback": [
      "\u001b[0;31m---------------------------------------------------------------------------\u001b[0m",
      "\u001b[0;31mTypeError\u001b[0m                                 Traceback (most recent call last)",
      "\u001b[0;32m<ipython-input-43-84d20ab19c26>\u001b[0m in \u001b[0;36m<module>\u001b[0;34m\u001b[0m\n\u001b[0;32m----> 1\u001b[0;31m \u001b[0mseventies_filter\u001b[0m \u001b[0;34m=\u001b[0m \u001b[0;34m(\u001b[0m\u001b[0mseattle_df\u001b[0m\u001b[0;34m[\u001b[0m\u001b[0;34m'PublicationYear'\u001b[0m\u001b[0;34m]\u001b[0m \u001b[0;34m>=\u001b[0m \u001b[0;36m1970\u001b[0m\u001b[0;34m)\u001b[0m \u001b[0;34m&\u001b[0m \u001b[0;34m(\u001b[0m\u001b[0mseattle_df\u001b[0m\u001b[0;34m[\u001b[0m\u001b[0;34m'PublicationYear'\u001b[0m\u001b[0;34m]\u001b[0m \u001b[0;34m<\u001b[0m \u001b[0;36m1980\u001b[0m\u001b[0;34m)\u001b[0m\u001b[0;34m\u001b[0m\u001b[0;34m\u001b[0m\u001b[0m\n\u001b[0m\u001b[1;32m      2\u001b[0m \u001b[0;34m\u001b[0m\u001b[0m\n\u001b[1;32m      3\u001b[0m \u001b[0mseattle_df\u001b[0m\u001b[0;34m[\u001b[0m\u001b[0mseventies_filter\u001b[0m\u001b[0;34m]\u001b[0m\u001b[0;34m\u001b[0m\u001b[0;34m\u001b[0m\u001b[0m\n",
      "\u001b[0;32m~/opt/anaconda3/lib/python3.7/site-packages/pandas/core/ops/common.py\u001b[0m in \u001b[0;36mnew_method\u001b[0;34m(self, other)\u001b[0m\n\u001b[1;32m     63\u001b[0m         \u001b[0mother\u001b[0m \u001b[0;34m=\u001b[0m \u001b[0mitem_from_zerodim\u001b[0m\u001b[0;34m(\u001b[0m\u001b[0mother\u001b[0m\u001b[0;34m)\u001b[0m\u001b[0;34m\u001b[0m\u001b[0;34m\u001b[0m\u001b[0m\n\u001b[1;32m     64\u001b[0m \u001b[0;34m\u001b[0m\u001b[0m\n\u001b[0;32m---> 65\u001b[0;31m         \u001b[0;32mreturn\u001b[0m \u001b[0mmethod\u001b[0m\u001b[0;34m(\u001b[0m\u001b[0mself\u001b[0m\u001b[0;34m,\u001b[0m \u001b[0mother\u001b[0m\u001b[0;34m)\u001b[0m\u001b[0;34m\u001b[0m\u001b[0;34m\u001b[0m\u001b[0m\n\u001b[0m\u001b[1;32m     66\u001b[0m \u001b[0;34m\u001b[0m\u001b[0m\n\u001b[1;32m     67\u001b[0m     \u001b[0;32mreturn\u001b[0m \u001b[0mnew_method\u001b[0m\u001b[0;34m\u001b[0m\u001b[0;34m\u001b[0m\u001b[0m\n",
      "\u001b[0;32m~/opt/anaconda3/lib/python3.7/site-packages/pandas/core/arraylike.py\u001b[0m in \u001b[0;36m__ge__\u001b[0;34m(self, other)\u001b[0m\n\u001b[1;32m     47\u001b[0m     \u001b[0;34m@\u001b[0m\u001b[0munpack_zerodim_and_defer\u001b[0m\u001b[0;34m(\u001b[0m\u001b[0;34m\"__ge__\"\u001b[0m\u001b[0;34m)\u001b[0m\u001b[0;34m\u001b[0m\u001b[0;34m\u001b[0m\u001b[0m\n\u001b[1;32m     48\u001b[0m     \u001b[0;32mdef\u001b[0m \u001b[0m__ge__\u001b[0m\u001b[0;34m(\u001b[0m\u001b[0mself\u001b[0m\u001b[0;34m,\u001b[0m \u001b[0mother\u001b[0m\u001b[0;34m)\u001b[0m\u001b[0;34m:\u001b[0m\u001b[0;34m\u001b[0m\u001b[0;34m\u001b[0m\u001b[0m\n\u001b[0;32m---> 49\u001b[0;31m         \u001b[0;32mreturn\u001b[0m \u001b[0mself\u001b[0m\u001b[0;34m.\u001b[0m\u001b[0m_cmp_method\u001b[0m\u001b[0;34m(\u001b[0m\u001b[0mother\u001b[0m\u001b[0;34m,\u001b[0m \u001b[0moperator\u001b[0m\u001b[0;34m.\u001b[0m\u001b[0mge\u001b[0m\u001b[0;34m)\u001b[0m\u001b[0;34m\u001b[0m\u001b[0;34m\u001b[0m\u001b[0m\n\u001b[0m\u001b[1;32m     50\u001b[0m \u001b[0;34m\u001b[0m\u001b[0m\n\u001b[1;32m     51\u001b[0m     \u001b[0;31m# -------------------------------------------------------------\u001b[0m\u001b[0;34m\u001b[0m\u001b[0;34m\u001b[0m\u001b[0;34m\u001b[0m\u001b[0m\n",
      "\u001b[0;32m~/opt/anaconda3/lib/python3.7/site-packages/pandas/core/series.py\u001b[0m in \u001b[0;36m_cmp_method\u001b[0;34m(self, other, op)\u001b[0m\n\u001b[1;32m   4976\u001b[0m         \u001b[0mrvalues\u001b[0m \u001b[0;34m=\u001b[0m \u001b[0mextract_array\u001b[0m\u001b[0;34m(\u001b[0m\u001b[0mother\u001b[0m\u001b[0;34m,\u001b[0m \u001b[0mextract_numpy\u001b[0m\u001b[0;34m=\u001b[0m\u001b[0;32mTrue\u001b[0m\u001b[0;34m)\u001b[0m\u001b[0;34m\u001b[0m\u001b[0;34m\u001b[0m\u001b[0m\n\u001b[1;32m   4977\u001b[0m \u001b[0;34m\u001b[0m\u001b[0m\n\u001b[0;32m-> 4978\u001b[0;31m         \u001b[0mres_values\u001b[0m \u001b[0;34m=\u001b[0m \u001b[0mops\u001b[0m\u001b[0;34m.\u001b[0m\u001b[0mcomparison_op\u001b[0m\u001b[0;34m(\u001b[0m\u001b[0mlvalues\u001b[0m\u001b[0;34m,\u001b[0m \u001b[0mrvalues\u001b[0m\u001b[0;34m,\u001b[0m \u001b[0mop\u001b[0m\u001b[0;34m)\u001b[0m\u001b[0;34m\u001b[0m\u001b[0;34m\u001b[0m\u001b[0m\n\u001b[0m\u001b[1;32m   4979\u001b[0m \u001b[0;34m\u001b[0m\u001b[0m\n\u001b[1;32m   4980\u001b[0m         \u001b[0;32mreturn\u001b[0m \u001b[0mself\u001b[0m\u001b[0;34m.\u001b[0m\u001b[0m_construct_result\u001b[0m\u001b[0;34m(\u001b[0m\u001b[0mres_values\u001b[0m\u001b[0;34m,\u001b[0m \u001b[0mname\u001b[0m\u001b[0;34m=\u001b[0m\u001b[0mres_name\u001b[0m\u001b[0;34m)\u001b[0m\u001b[0;34m\u001b[0m\u001b[0;34m\u001b[0m\u001b[0m\n",
      "\u001b[0;32m~/opt/anaconda3/lib/python3.7/site-packages/pandas/core/ops/array_ops.py\u001b[0m in \u001b[0;36mcomparison_op\u001b[0;34m(left, right, op)\u001b[0m\n\u001b[1;32m    241\u001b[0m \u001b[0;34m\u001b[0m\u001b[0m\n\u001b[1;32m    242\u001b[0m     \u001b[0;32melif\u001b[0m \u001b[0mis_object_dtype\u001b[0m\u001b[0;34m(\u001b[0m\u001b[0mlvalues\u001b[0m\u001b[0;34m.\u001b[0m\u001b[0mdtype\u001b[0m\u001b[0;34m)\u001b[0m\u001b[0;34m:\u001b[0m\u001b[0;34m\u001b[0m\u001b[0;34m\u001b[0m\u001b[0m\n\u001b[0;32m--> 243\u001b[0;31m         \u001b[0mres_values\u001b[0m \u001b[0;34m=\u001b[0m \u001b[0mcomp_method_OBJECT_ARRAY\u001b[0m\u001b[0;34m(\u001b[0m\u001b[0mop\u001b[0m\u001b[0;34m,\u001b[0m \u001b[0mlvalues\u001b[0m\u001b[0;34m,\u001b[0m \u001b[0mrvalues\u001b[0m\u001b[0;34m)\u001b[0m\u001b[0;34m\u001b[0m\u001b[0;34m\u001b[0m\u001b[0m\n\u001b[0m\u001b[1;32m    244\u001b[0m \u001b[0;34m\u001b[0m\u001b[0m\n\u001b[1;32m    245\u001b[0m     \u001b[0;32melse\u001b[0m\u001b[0;34m:\u001b[0m\u001b[0;34m\u001b[0m\u001b[0;34m\u001b[0m\u001b[0m\n",
      "\u001b[0;32m~/opt/anaconda3/lib/python3.7/site-packages/pandas/core/ops/array_ops.py\u001b[0m in \u001b[0;36mcomp_method_OBJECT_ARRAY\u001b[0;34m(op, x, y)\u001b[0m\n\u001b[1;32m     53\u001b[0m         \u001b[0mresult\u001b[0m \u001b[0;34m=\u001b[0m \u001b[0mlibops\u001b[0m\u001b[0;34m.\u001b[0m\u001b[0mvec_compare\u001b[0m\u001b[0;34m(\u001b[0m\u001b[0mx\u001b[0m\u001b[0;34m.\u001b[0m\u001b[0mravel\u001b[0m\u001b[0;34m(\u001b[0m\u001b[0;34m)\u001b[0m\u001b[0;34m,\u001b[0m \u001b[0my\u001b[0m\u001b[0;34m.\u001b[0m\u001b[0mravel\u001b[0m\u001b[0;34m(\u001b[0m\u001b[0;34m)\u001b[0m\u001b[0;34m,\u001b[0m \u001b[0mop\u001b[0m\u001b[0;34m)\u001b[0m\u001b[0;34m\u001b[0m\u001b[0;34m\u001b[0m\u001b[0m\n\u001b[1;32m     54\u001b[0m     \u001b[0;32melse\u001b[0m\u001b[0;34m:\u001b[0m\u001b[0;34m\u001b[0m\u001b[0;34m\u001b[0m\u001b[0m\n\u001b[0;32m---> 55\u001b[0;31m         \u001b[0mresult\u001b[0m \u001b[0;34m=\u001b[0m \u001b[0mlibops\u001b[0m\u001b[0;34m.\u001b[0m\u001b[0mscalar_compare\u001b[0m\u001b[0;34m(\u001b[0m\u001b[0mx\u001b[0m\u001b[0;34m.\u001b[0m\u001b[0mravel\u001b[0m\u001b[0;34m(\u001b[0m\u001b[0;34m)\u001b[0m\u001b[0;34m,\u001b[0m \u001b[0my\u001b[0m\u001b[0;34m,\u001b[0m \u001b[0mop\u001b[0m\u001b[0;34m)\u001b[0m\u001b[0;34m\u001b[0m\u001b[0;34m\u001b[0m\u001b[0m\n\u001b[0m\u001b[1;32m     56\u001b[0m     \u001b[0;32mreturn\u001b[0m \u001b[0mresult\u001b[0m\u001b[0;34m.\u001b[0m\u001b[0mreshape\u001b[0m\u001b[0;34m(\u001b[0m\u001b[0mx\u001b[0m\u001b[0;34m.\u001b[0m\u001b[0mshape\u001b[0m\u001b[0;34m)\u001b[0m\u001b[0;34m\u001b[0m\u001b[0;34m\u001b[0m\u001b[0m\n\u001b[1;32m     57\u001b[0m \u001b[0;34m\u001b[0m\u001b[0m\n",
      "\u001b[0;32mpandas/_libs/ops.pyx\u001b[0m in \u001b[0;36mpandas._libs.ops.scalar_compare\u001b[0;34m()\u001b[0m\n",
      "\u001b[0;31mTypeError\u001b[0m: '>=' not supported between instances of 'str' and 'int'"
     ]
    }
   ],
   "source": [
    "seventies_filter = (seattle_df['PublicationYear'] >= 1970) & (seattle_df['PublicationYear'] < 1980)\n",
    "\n",
    "seattle_df[seventies_filter]"
   ]
  },
  {
   "cell_type": "markdown",
   "metadata": {},
   "source": [
    "Drat! We're getting an error message that says we can't use `>=` on a string object. If we remember, we do have string values in this column: \"Unknown.\""
   ]
  },
  {
   "cell_type": "code",
   "execution_count": 44,
   "metadata": {},
   "outputs": [
    {
     "data": {
      "text/plain": [
       "0         1976\n",
       "1         2012\n",
       "2         2009\n",
       "3         2012\n",
       "4         2015\n",
       "          ... \n",
       "282282    2013\n",
       "282283    2019\n",
       "282284    2018\n",
       "282285    2012\n",
       "282286    2019\n",
       "Name: PublicationYear, Length: 282287, dtype: object"
      ]
     },
     "execution_count": 44,
     "metadata": {},
     "output_type": "execute_result"
    }
   ],
   "source": [
    "seattle_df['PublicationYear']"
   ]
  },
  {
   "cell_type": "markdown",
   "metadata": {},
   "source": [
    "One way to convert between Pandas data types is to use `.astype()`. "
   ]
  },
  {
   "cell_type": "markdown",
   "metadata": {},
   "source": [
    "For example, the column \"CheckoutYear\" is an integer."
   ]
  },
  {
   "cell_type": "code",
   "execution_count": 45,
   "metadata": {},
   "outputs": [
    {
     "data": {
      "text/plain": [
       "0         2016\n",
       "1         2016\n",
       "2         2016\n",
       "3         2016\n",
       "4         2016\n",
       "          ... \n",
       "282282    2021\n",
       "282283    2021\n",
       "282284    2021\n",
       "282285    2021\n",
       "282286    2021\n",
       "Name: CheckoutYear, Length: 282287, dtype: int64"
      ]
     },
     "execution_count": 45,
     "metadata": {},
     "output_type": "execute_result"
    }
   ],
   "source": [
    "seattle_df['CheckoutYear']"
   ]
  },
  {
   "cell_type": "markdown",
   "metadata": {},
   "source": [
    "But if we wanted to make it an object instead, we could use `.astype()`."
   ]
  },
  {
   "cell_type": "code",
   "execution_count": 46,
   "metadata": {},
   "outputs": [
    {
     "data": {
      "text/plain": [
       "0         2016\n",
       "1         2016\n",
       "2         2016\n",
       "3         2016\n",
       "4         2016\n",
       "          ... \n",
       "282282    2021\n",
       "282283    2021\n",
       "282284    2021\n",
       "282285    2021\n",
       "282286    2021\n",
       "Name: CheckoutYear, Length: 282287, dtype: object"
      ]
     },
     "execution_count": 46,
     "metadata": {},
     "output_type": "execute_result"
    }
   ],
   "source": [
    "seattle_df['CheckoutYear'].astype(str)"
   ]
  },
  {
   "cell_type": "markdown",
   "metadata": {},
   "source": [
    "So let's try it out on \"PublicationYear\"..."
   ]
  },
  {
   "cell_type": "code",
   "execution_count": 47,
   "metadata": {},
   "outputs": [
    {
     "ename": "ValueError",
     "evalue": "invalid literal for int() with base 10: 'nan'",
     "output_type": "error",
     "traceback": [
      "\u001b[0;31m---------------------------------------------------------------------------\u001b[0m",
      "\u001b[0;31mValueError\u001b[0m                                Traceback (most recent call last)",
      "\u001b[0;32m<ipython-input-47-4f4d2912d833>\u001b[0m in \u001b[0;36m<module>\u001b[0;34m\u001b[0m\n\u001b[0;32m----> 1\u001b[0;31m \u001b[0mseattle_df\u001b[0m\u001b[0;34m[\u001b[0m\u001b[0;34m'PublicationYear'\u001b[0m\u001b[0;34m]\u001b[0m\u001b[0;34m.\u001b[0m\u001b[0mastype\u001b[0m\u001b[0;34m(\u001b[0m\u001b[0mint\u001b[0m\u001b[0;34m)\u001b[0m\u001b[0;34m\u001b[0m\u001b[0;34m\u001b[0m\u001b[0m\n\u001b[0m",
      "\u001b[0;32m~/opt/anaconda3/lib/python3.7/site-packages/pandas/core/generic.py\u001b[0m in \u001b[0;36mastype\u001b[0;34m(self, dtype, copy, errors)\u001b[0m\n\u001b[1;32m   5875\u001b[0m         \u001b[0;32melse\u001b[0m\u001b[0;34m:\u001b[0m\u001b[0;34m\u001b[0m\u001b[0;34m\u001b[0m\u001b[0m\n\u001b[1;32m   5876\u001b[0m             \u001b[0;31m# else, only a single dtype is given\u001b[0m\u001b[0;34m\u001b[0m\u001b[0;34m\u001b[0m\u001b[0;34m\u001b[0m\u001b[0m\n\u001b[0;32m-> 5877\u001b[0;31m             \u001b[0mnew_data\u001b[0m \u001b[0;34m=\u001b[0m \u001b[0mself\u001b[0m\u001b[0;34m.\u001b[0m\u001b[0m_mgr\u001b[0m\u001b[0;34m.\u001b[0m\u001b[0mastype\u001b[0m\u001b[0;34m(\u001b[0m\u001b[0mdtype\u001b[0m\u001b[0;34m=\u001b[0m\u001b[0mdtype\u001b[0m\u001b[0;34m,\u001b[0m \u001b[0mcopy\u001b[0m\u001b[0;34m=\u001b[0m\u001b[0mcopy\u001b[0m\u001b[0;34m,\u001b[0m \u001b[0merrors\u001b[0m\u001b[0;34m=\u001b[0m\u001b[0merrors\u001b[0m\u001b[0;34m)\u001b[0m\u001b[0;34m\u001b[0m\u001b[0;34m\u001b[0m\u001b[0m\n\u001b[0m\u001b[1;32m   5878\u001b[0m             \u001b[0;32mreturn\u001b[0m \u001b[0mself\u001b[0m\u001b[0;34m.\u001b[0m\u001b[0m_constructor\u001b[0m\u001b[0;34m(\u001b[0m\u001b[0mnew_data\u001b[0m\u001b[0;34m)\u001b[0m\u001b[0;34m.\u001b[0m\u001b[0m__finalize__\u001b[0m\u001b[0;34m(\u001b[0m\u001b[0mself\u001b[0m\u001b[0;34m,\u001b[0m \u001b[0mmethod\u001b[0m\u001b[0;34m=\u001b[0m\u001b[0;34m\"astype\"\u001b[0m\u001b[0;34m)\u001b[0m\u001b[0;34m\u001b[0m\u001b[0;34m\u001b[0m\u001b[0m\n\u001b[1;32m   5879\u001b[0m \u001b[0;34m\u001b[0m\u001b[0m\n",
      "\u001b[0;32m~/opt/anaconda3/lib/python3.7/site-packages/pandas/core/internals/managers.py\u001b[0m in \u001b[0;36mastype\u001b[0;34m(self, dtype, copy, errors)\u001b[0m\n\u001b[1;32m    629\u001b[0m         \u001b[0mself\u001b[0m\u001b[0;34m,\u001b[0m \u001b[0mdtype\u001b[0m\u001b[0;34m,\u001b[0m \u001b[0mcopy\u001b[0m\u001b[0;34m:\u001b[0m \u001b[0mbool\u001b[0m \u001b[0;34m=\u001b[0m \u001b[0;32mFalse\u001b[0m\u001b[0;34m,\u001b[0m \u001b[0merrors\u001b[0m\u001b[0;34m:\u001b[0m \u001b[0mstr\u001b[0m \u001b[0;34m=\u001b[0m \u001b[0;34m\"raise\"\u001b[0m\u001b[0;34m\u001b[0m\u001b[0;34m\u001b[0m\u001b[0m\n\u001b[1;32m    630\u001b[0m     ) -> \"BlockManager\":\n\u001b[0;32m--> 631\u001b[0;31m         \u001b[0;32mreturn\u001b[0m \u001b[0mself\u001b[0m\u001b[0;34m.\u001b[0m\u001b[0mapply\u001b[0m\u001b[0;34m(\u001b[0m\u001b[0;34m\"astype\"\u001b[0m\u001b[0;34m,\u001b[0m \u001b[0mdtype\u001b[0m\u001b[0;34m=\u001b[0m\u001b[0mdtype\u001b[0m\u001b[0;34m,\u001b[0m \u001b[0mcopy\u001b[0m\u001b[0;34m=\u001b[0m\u001b[0mcopy\u001b[0m\u001b[0;34m,\u001b[0m \u001b[0merrors\u001b[0m\u001b[0;34m=\u001b[0m\u001b[0merrors\u001b[0m\u001b[0;34m)\u001b[0m\u001b[0;34m\u001b[0m\u001b[0;34m\u001b[0m\u001b[0m\n\u001b[0m\u001b[1;32m    632\u001b[0m \u001b[0;34m\u001b[0m\u001b[0m\n\u001b[1;32m    633\u001b[0m     def convert(\n",
      "\u001b[0;32m~/opt/anaconda3/lib/python3.7/site-packages/pandas/core/internals/managers.py\u001b[0m in \u001b[0;36mapply\u001b[0;34m(self, f, align_keys, ignore_failures, **kwargs)\u001b[0m\n\u001b[1;32m    425\u001b[0m                     \u001b[0mapplied\u001b[0m \u001b[0;34m=\u001b[0m \u001b[0mb\u001b[0m\u001b[0;34m.\u001b[0m\u001b[0mapply\u001b[0m\u001b[0;34m(\u001b[0m\u001b[0mf\u001b[0m\u001b[0;34m,\u001b[0m \u001b[0;34m**\u001b[0m\u001b[0mkwargs\u001b[0m\u001b[0;34m)\u001b[0m\u001b[0;34m\u001b[0m\u001b[0;34m\u001b[0m\u001b[0m\n\u001b[1;32m    426\u001b[0m                 \u001b[0;32melse\u001b[0m\u001b[0;34m:\u001b[0m\u001b[0;34m\u001b[0m\u001b[0;34m\u001b[0m\u001b[0m\n\u001b[0;32m--> 427\u001b[0;31m                     \u001b[0mapplied\u001b[0m \u001b[0;34m=\u001b[0m \u001b[0mgetattr\u001b[0m\u001b[0;34m(\u001b[0m\u001b[0mb\u001b[0m\u001b[0;34m,\u001b[0m \u001b[0mf\u001b[0m\u001b[0;34m)\u001b[0m\u001b[0;34m(\u001b[0m\u001b[0;34m**\u001b[0m\u001b[0mkwargs\u001b[0m\u001b[0;34m)\u001b[0m\u001b[0;34m\u001b[0m\u001b[0;34m\u001b[0m\u001b[0m\n\u001b[0m\u001b[1;32m    428\u001b[0m             \u001b[0;32mexcept\u001b[0m \u001b[0;34m(\u001b[0m\u001b[0mTypeError\u001b[0m\u001b[0;34m,\u001b[0m \u001b[0mNotImplementedError\u001b[0m\u001b[0;34m)\u001b[0m\u001b[0;34m:\u001b[0m\u001b[0;34m\u001b[0m\u001b[0;34m\u001b[0m\u001b[0m\n\u001b[1;32m    429\u001b[0m                 \u001b[0;32mif\u001b[0m \u001b[0;32mnot\u001b[0m \u001b[0mignore_failures\u001b[0m\u001b[0;34m:\u001b[0m\u001b[0;34m\u001b[0m\u001b[0;34m\u001b[0m\u001b[0m\n",
      "\u001b[0;32m~/opt/anaconda3/lib/python3.7/site-packages/pandas/core/internals/blocks.py\u001b[0m in \u001b[0;36mastype\u001b[0;34m(self, dtype, copy, errors)\u001b[0m\n\u001b[1;32m    671\u001b[0m             \u001b[0mvals1d\u001b[0m \u001b[0;34m=\u001b[0m \u001b[0mvalues\u001b[0m\u001b[0;34m.\u001b[0m\u001b[0mravel\u001b[0m\u001b[0;34m(\u001b[0m\u001b[0;34m)\u001b[0m\u001b[0;34m\u001b[0m\u001b[0;34m\u001b[0m\u001b[0m\n\u001b[1;32m    672\u001b[0m             \u001b[0;32mtry\u001b[0m\u001b[0;34m:\u001b[0m\u001b[0;34m\u001b[0m\u001b[0;34m\u001b[0m\u001b[0m\n\u001b[0;32m--> 673\u001b[0;31m                 \u001b[0mvalues\u001b[0m \u001b[0;34m=\u001b[0m \u001b[0mastype_nansafe\u001b[0m\u001b[0;34m(\u001b[0m\u001b[0mvals1d\u001b[0m\u001b[0;34m,\u001b[0m \u001b[0mdtype\u001b[0m\u001b[0;34m,\u001b[0m \u001b[0mcopy\u001b[0m\u001b[0;34m=\u001b[0m\u001b[0;32mTrue\u001b[0m\u001b[0;34m)\u001b[0m\u001b[0;34m\u001b[0m\u001b[0;34m\u001b[0m\u001b[0m\n\u001b[0m\u001b[1;32m    674\u001b[0m             \u001b[0;32mexcept\u001b[0m \u001b[0;34m(\u001b[0m\u001b[0mValueError\u001b[0m\u001b[0;34m,\u001b[0m \u001b[0mTypeError\u001b[0m\u001b[0;34m)\u001b[0m\u001b[0;34m:\u001b[0m\u001b[0;34m\u001b[0m\u001b[0;34m\u001b[0m\u001b[0m\n\u001b[1;32m    675\u001b[0m                 \u001b[0;31m# e.g. astype_nansafe can fail on object-dtype of strings\u001b[0m\u001b[0;34m\u001b[0m\u001b[0;34m\u001b[0m\u001b[0;34m\u001b[0m\u001b[0m\n",
      "\u001b[0;32m~/opt/anaconda3/lib/python3.7/site-packages/pandas/core/dtypes/cast.py\u001b[0m in \u001b[0;36mastype_nansafe\u001b[0;34m(arr, dtype, copy, skipna)\u001b[0m\n\u001b[1;32m   1072\u001b[0m         \u001b[0;31m# work around NumPy brokenness, #1987\u001b[0m\u001b[0;34m\u001b[0m\u001b[0;34m\u001b[0m\u001b[0;34m\u001b[0m\u001b[0m\n\u001b[1;32m   1073\u001b[0m         \u001b[0;32mif\u001b[0m \u001b[0mnp\u001b[0m\u001b[0;34m.\u001b[0m\u001b[0missubdtype\u001b[0m\u001b[0;34m(\u001b[0m\u001b[0mdtype\u001b[0m\u001b[0;34m.\u001b[0m\u001b[0mtype\u001b[0m\u001b[0;34m,\u001b[0m \u001b[0mnp\u001b[0m\u001b[0;34m.\u001b[0m\u001b[0minteger\u001b[0m\u001b[0;34m)\u001b[0m\u001b[0;34m:\u001b[0m\u001b[0;34m\u001b[0m\u001b[0;34m\u001b[0m\u001b[0m\n\u001b[0;32m-> 1074\u001b[0;31m             \u001b[0;32mreturn\u001b[0m \u001b[0mlib\u001b[0m\u001b[0;34m.\u001b[0m\u001b[0mastype_intsafe\u001b[0m\u001b[0;34m(\u001b[0m\u001b[0marr\u001b[0m\u001b[0;34m.\u001b[0m\u001b[0mravel\u001b[0m\u001b[0;34m(\u001b[0m\u001b[0;34m)\u001b[0m\u001b[0;34m,\u001b[0m \u001b[0mdtype\u001b[0m\u001b[0;34m)\u001b[0m\u001b[0;34m.\u001b[0m\u001b[0mreshape\u001b[0m\u001b[0;34m(\u001b[0m\u001b[0marr\u001b[0m\u001b[0;34m.\u001b[0m\u001b[0mshape\u001b[0m\u001b[0;34m)\u001b[0m\u001b[0;34m\u001b[0m\u001b[0;34m\u001b[0m\u001b[0m\n\u001b[0m\u001b[1;32m   1075\u001b[0m \u001b[0;34m\u001b[0m\u001b[0m\n\u001b[1;32m   1076\u001b[0m         \u001b[0;31m# if we have a datetime/timedelta array of objects\u001b[0m\u001b[0;34m\u001b[0m\u001b[0;34m\u001b[0m\u001b[0;34m\u001b[0m\u001b[0m\n",
      "\u001b[0;32mpandas/_libs/lib.pyx\u001b[0m in \u001b[0;36mpandas._libs.lib.astype_intsafe\u001b[0;34m()\u001b[0m\n",
      "\u001b[0;31mValueError\u001b[0m: invalid literal for int() with base 10: 'nan'"
     ]
    }
   ],
   "source": [
    "seattle_df['PublicationYear'].astype(int)"
   ]
  },
  {
   "cell_type": "markdown",
   "metadata": {},
   "source": [
    "Double drat! We can't convert a `NaN` into an integer because it's a `float`."
   ]
  },
  {
   "cell_type": "markdown",
   "metadata": {},
   "source": [
    "So instead we'll need to use a different way of converting to numeric data — specficially, `pd.to_numeric()`, which includes an option for converting any problematic data into a `NaN`."
   ]
  },
  {
   "cell_type": "code",
   "execution_count": 48,
   "metadata": {},
   "outputs": [
    {
     "data": {
      "text/plain": [
       "0         1976.0\n",
       "1         2012.0\n",
       "2         2009.0\n",
       "3         2012.0\n",
       "4         2015.0\n",
       "           ...  \n",
       "282282    2013.0\n",
       "282283    2019.0\n",
       "282284    2018.0\n",
       "282285    2012.0\n",
       "282286    2019.0\n",
       "Name: PublicationYear, Length: 282287, dtype: float64"
      ]
     },
     "execution_count": 48,
     "metadata": {},
     "output_type": "execute_result"
    }
   ],
   "source": [
    "pd.to_numeric(seattle_df['PublicationYear'], errors='coerce')"
   ]
  },
  {
   "cell_type": "code",
   "execution_count": 49,
   "metadata": {},
   "outputs": [],
   "source": [
    "seattle_df['PublicationYear'] = pd.to_numeric(seattle_df['PublicationYear'], errors='coerce')"
   ]
  },
  {
   "cell_type": "code",
   "execution_count": 50,
   "metadata": {},
   "outputs": [
    {
     "data": {
      "text/html": [
       "<div>\n",
       "<style scoped>\n",
       "    .dataframe tbody tr th:only-of-type {\n",
       "        vertical-align: middle;\n",
       "    }\n",
       "\n",
       "    .dataframe tbody tr th {\n",
       "        vertical-align: top;\n",
       "    }\n",
       "\n",
       "    .dataframe thead th {\n",
       "        text-align: right;\n",
       "    }\n",
       "</style>\n",
       "<table border=\"1\" class=\"dataframe\">\n",
       "  <thead>\n",
       "    <tr style=\"text-align: right;\">\n",
       "      <th></th>\n",
       "      <th>Title</th>\n",
       "      <th>Creator</th>\n",
       "      <th>MaterialType</th>\n",
       "      <th>Checkouts</th>\n",
       "      <th>CheckoutYear</th>\n",
       "      <th>CheckoutMonth</th>\n",
       "      <th>Publisher</th>\n",
       "      <th>PublicationYear</th>\n",
       "      <th>Subjects</th>\n",
       "      <th>UsageClass</th>\n",
       "      <th>CheckoutType</th>\n",
       "      <th>Big 5</th>\n",
       "    </tr>\n",
       "  </thead>\n",
       "  <tbody>\n",
       "    <tr>\n",
       "      <th>51324</th>\n",
       "      <td>The Best American Short Stories.</td>\n",
       "      <td>NaN</td>\n",
       "      <td>CR</td>\n",
       "      <td>30</td>\n",
       "      <td>2015</td>\n",
       "      <td>10</td>\n",
       "      <td>Houghton Mifflin</td>\n",
       "      <td>1978.0</td>\n",
       "      <td>Short stories American Periodicals</td>\n",
       "      <td>Physical</td>\n",
       "      <td>Horizon</td>\n",
       "      <td>Other</td>\n",
       "    </tr>\n",
       "    <tr>\n",
       "      <th>135133</th>\n",
       "      <td>I Can Read With My Eyes Shut</td>\n",
       "      <td>Seuss, Dr.</td>\n",
       "      <td>BOOK</td>\n",
       "      <td>32</td>\n",
       "      <td>2017</td>\n",
       "      <td>11</td>\n",
       "      <td>Beginner Books</td>\n",
       "      <td>1978.0</td>\n",
       "      <td>Reading Juvenile fiction, Stories in rhyme</td>\n",
       "      <td>Physical</td>\n",
       "      <td>Horizon</td>\n",
       "      <td>Other</td>\n",
       "    </tr>\n",
       "    <tr>\n",
       "      <th>171293</th>\n",
       "      <td>Frog And Toad Are Friends</td>\n",
       "      <td>Lobel, Arnold</td>\n",
       "      <td>BOOK</td>\n",
       "      <td>32</td>\n",
       "      <td>2018</td>\n",
       "      <td>8</td>\n",
       "      <td>Harper &amp; Row, Publishers</td>\n",
       "      <td>1970.0</td>\n",
       "      <td>Friendship Juvenile fiction, Frogs Juvenile fiction, Toads Juvenile fiction</td>\n",
       "      <td>Physical</td>\n",
       "      <td>Horizon</td>\n",
       "      <td>Harper Collins</td>\n",
       "    </tr>\n",
       "    <tr>\n",
       "      <th>56248</th>\n",
       "      <td>Great Day For Up! Pictures By Quentin Blake.</td>\n",
       "      <td>Seuss, Dr.</td>\n",
       "      <td>BOOK</td>\n",
       "      <td>39</td>\n",
       "      <td>2015</td>\n",
       "      <td>11</td>\n",
       "      <td>Beginner Books</td>\n",
       "      <td>1974.0</td>\n",
       "      <td>Stories in rhyme</td>\n",
       "      <td>Physical</td>\n",
       "      <td>Horizon</td>\n",
       "      <td>Other</td>\n",
       "    </tr>\n",
       "    <tr>\n",
       "      <th>140407</th>\n",
       "      <td>Frog And Toad Are Friends</td>\n",
       "      <td>Lobel, Arnold</td>\n",
       "      <td>BOOK</td>\n",
       "      <td>35</td>\n",
       "      <td>2017</td>\n",
       "      <td>12</td>\n",
       "      <td>Harper &amp; Row, Publishers</td>\n",
       "      <td>1970.0</td>\n",
       "      <td>Friendship Juvenile fiction, Frogs Juvenile fiction, Toads Juvenile fiction</td>\n",
       "      <td>Physical</td>\n",
       "      <td>Horizon</td>\n",
       "      <td>Harper Collins</td>\n",
       "    </tr>\n",
       "    <tr>\n",
       "      <th>75511</th>\n",
       "      <td>The Berenstain Bears And The Spooky Old Tree</td>\n",
       "      <td>Berenstain, Stan, 1923-2005</td>\n",
       "      <td>BOOK</td>\n",
       "      <td>21</td>\n",
       "      <td>2016</td>\n",
       "      <td>4</td>\n",
       "      <td>Beginner Books</td>\n",
       "      <td>1978.0</td>\n",
       "      <td>Bears Juvenile fiction</td>\n",
       "      <td>Physical</td>\n",
       "      <td>Horizon</td>\n",
       "      <td>Other</td>\n",
       "    </tr>\n",
       "    <tr>\n",
       "      <th>47455</th>\n",
       "      <td>Frog And Toad Are Friends</td>\n",
       "      <td>Lobel, Arnold</td>\n",
       "      <td>BOOK</td>\n",
       "      <td>40</td>\n",
       "      <td>2015</td>\n",
       "      <td>9</td>\n",
       "      <td>Harper &amp; Row, Publishers</td>\n",
       "      <td>1970.0</td>\n",
       "      <td>Friendship Juvenile fiction, Frogs Juvenile fiction, Toads Juvenile fiction</td>\n",
       "      <td>Physical</td>\n",
       "      <td>Horizon</td>\n",
       "      <td>Harper Collins</td>\n",
       "    </tr>\n",
       "    <tr>\n",
       "      <th>69856</th>\n",
       "      <td>Richard Scarry'S What Do People Do All Day?</td>\n",
       "      <td>Scarry, Richard</td>\n",
       "      <td>BOOK</td>\n",
       "      <td>22</td>\n",
       "      <td>2016</td>\n",
       "      <td>3</td>\n",
       "      <td>Random House</td>\n",
       "      <td>1979.0</td>\n",
       "      <td>Occupations Juvenile literature</td>\n",
       "      <td>Physical</td>\n",
       "      <td>Horizon</td>\n",
       "      <td>Penguin/Random House</td>\n",
       "    </tr>\n",
       "    <tr>\n",
       "      <th>6939</th>\n",
       "      <td>Marvin K. Mooney, Will You Please Go Now!</td>\n",
       "      <td>Seuss, Dr.</td>\n",
       "      <td>BOOK</td>\n",
       "      <td>23</td>\n",
       "      <td>2016</td>\n",
       "      <td>11</td>\n",
       "      <td>Random House</td>\n",
       "      <td>1972.0</td>\n",
       "      <td>Stories in rhyme</td>\n",
       "      <td>Physical</td>\n",
       "      <td>Horizon</td>\n",
       "      <td>Penguin/Random House</td>\n",
       "    </tr>\n",
       "    <tr>\n",
       "      <th>39119</th>\n",
       "      <td>Mouse Tales.</td>\n",
       "      <td>Lobel, Arnold</td>\n",
       "      <td>BOOK</td>\n",
       "      <td>20</td>\n",
       "      <td>2015</td>\n",
       "      <td>7</td>\n",
       "      <td>Harper &amp; Row</td>\n",
       "      <td>1972.0</td>\n",
       "      <td>Short stories</td>\n",
       "      <td>Physical</td>\n",
       "      <td>Horizon</td>\n",
       "      <td>Harper Collins</td>\n",
       "    </tr>\n",
       "  </tbody>\n",
       "</table>\n",
       "</div>"
      ],
      "text/plain": [
       "                                               Title  \\\n",
       "51324               The Best American Short Stories.   \n",
       "135133                  I Can Read With My Eyes Shut   \n",
       "171293                     Frog And Toad Are Friends   \n",
       "56248   Great Day For Up! Pictures By Quentin Blake.   \n",
       "140407                     Frog And Toad Are Friends   \n",
       "75511   The Berenstain Bears And The Spooky Old Tree   \n",
       "47455                      Frog And Toad Are Friends   \n",
       "69856    Richard Scarry'S What Do People Do All Day?   \n",
       "6939       Marvin K. Mooney, Will You Please Go Now!   \n",
       "39119                                   Mouse Tales.   \n",
       "\n",
       "                            Creator MaterialType  Checkouts  CheckoutYear  \\\n",
       "51324                           NaN           CR         30          2015   \n",
       "135133                   Seuss, Dr.         BOOK         32          2017   \n",
       "171293                Lobel, Arnold         BOOK         32          2018   \n",
       "56248                    Seuss, Dr.         BOOK         39          2015   \n",
       "140407                Lobel, Arnold         BOOK         35          2017   \n",
       "75511   Berenstain, Stan, 1923-2005         BOOK         21          2016   \n",
       "47455                 Lobel, Arnold         BOOK         40          2015   \n",
       "69856               Scarry, Richard         BOOK         22          2016   \n",
       "6939                     Seuss, Dr.         BOOK         23          2016   \n",
       "39119                 Lobel, Arnold         BOOK         20          2015   \n",
       "\n",
       "        CheckoutMonth                 Publisher  PublicationYear  \\\n",
       "51324              10          Houghton Mifflin           1978.0   \n",
       "135133             11            Beginner Books           1978.0   \n",
       "171293              8  Harper & Row, Publishers           1970.0   \n",
       "56248              11            Beginner Books           1974.0   \n",
       "140407             12  Harper & Row, Publishers           1970.0   \n",
       "75511               4            Beginner Books           1978.0   \n",
       "47455               9  Harper & Row, Publishers           1970.0   \n",
       "69856               3              Random House           1979.0   \n",
       "6939               11              Random House           1972.0   \n",
       "39119               7              Harper & Row           1972.0   \n",
       "\n",
       "                                                                           Subjects  \\\n",
       "51324                                            Short stories American Periodicals   \n",
       "135133                                   Reading Juvenile fiction, Stories in rhyme   \n",
       "171293  Friendship Juvenile fiction, Frogs Juvenile fiction, Toads Juvenile fiction   \n",
       "56248                                                              Stories in rhyme   \n",
       "140407  Friendship Juvenile fiction, Frogs Juvenile fiction, Toads Juvenile fiction   \n",
       "75511                                                        Bears Juvenile fiction   \n",
       "47455   Friendship Juvenile fiction, Frogs Juvenile fiction, Toads Juvenile fiction   \n",
       "69856                                               Occupations Juvenile literature   \n",
       "6939                                                               Stories in rhyme   \n",
       "39119                                                                 Short stories   \n",
       "\n",
       "       UsageClass CheckoutType                 Big 5  \n",
       "51324    Physical      Horizon                 Other  \n",
       "135133   Physical      Horizon                 Other  \n",
       "171293   Physical      Horizon        Harper Collins  \n",
       "56248    Physical      Horizon                 Other  \n",
       "140407   Physical      Horizon        Harper Collins  \n",
       "75511    Physical      Horizon                 Other  \n",
       "47455    Physical      Horizon        Harper Collins  \n",
       "69856    Physical      Horizon  Penguin/Random House  \n",
       "6939     Physical      Horizon  Penguin/Random House  \n",
       "39119    Physical      Horizon        Harper Collins  "
      ]
     },
     "execution_count": 50,
     "metadata": {},
     "output_type": "execute_result"
    }
   ],
   "source": [
    "seventies_filter = (seattle_df['PublicationYear'] >= 1970) & (seattle_df['PublicationYear'] < 1980)\n",
    "\n",
    "seattle_df[seventies_filter].sample(10)"
   ]
  },
  {
   "cell_type": "code",
   "execution_count": 51,
   "metadata": {},
   "outputs": [
    {
     "data": {
      "text/html": [
       "<div>\n",
       "<style scoped>\n",
       "    .dataframe tbody tr th:only-of-type {\n",
       "        vertical-align: middle;\n",
       "    }\n",
       "\n",
       "    .dataframe tbody tr th {\n",
       "        vertical-align: top;\n",
       "    }\n",
       "\n",
       "    .dataframe thead th {\n",
       "        text-align: right;\n",
       "    }\n",
       "</style>\n",
       "<table border=\"1\" class=\"dataframe\">\n",
       "  <thead>\n",
       "    <tr style=\"text-align: right;\">\n",
       "      <th></th>\n",
       "      <th>Title</th>\n",
       "      <th>Creator</th>\n",
       "      <th>MaterialType</th>\n",
       "      <th>Checkouts</th>\n",
       "      <th>CheckoutYear</th>\n",
       "      <th>CheckoutMonth</th>\n",
       "      <th>Publisher</th>\n",
       "      <th>PublicationYear</th>\n",
       "      <th>Subjects</th>\n",
       "      <th>UsageClass</th>\n",
       "      <th>CheckoutType</th>\n",
       "      <th>Big 5</th>\n",
       "    </tr>\n",
       "  </thead>\n",
       "  <tbody>\n",
       "    <tr>\n",
       "      <th>157983</th>\n",
       "      <td>Car And Driver</td>\n",
       "      <td>NaN</td>\n",
       "      <td>MAGAZINE</td>\n",
       "      <td>38</td>\n",
       "      <td>2018</td>\n",
       "      <td>5</td>\n",
       "      <td>NaN</td>\n",
       "      <td>NaN</td>\n",
       "      <td>NaN</td>\n",
       "      <td>Digital</td>\n",
       "      <td>Zinio</td>\n",
       "      <td>NaN</td>\n",
       "    </tr>\n",
       "    <tr>\n",
       "      <th>156001</th>\n",
       "      <td>Reader'S Digest</td>\n",
       "      <td>NaN</td>\n",
       "      <td>MAGAZINE</td>\n",
       "      <td>39</td>\n",
       "      <td>2018</td>\n",
       "      <td>4</td>\n",
       "      <td>NaN</td>\n",
       "      <td>NaN</td>\n",
       "      <td>NaN</td>\n",
       "      <td>Digital</td>\n",
       "      <td>Zinio</td>\n",
       "      <td>NaN</td>\n",
       "    </tr>\n",
       "    <tr>\n",
       "      <th>76299</th>\n",
       "      <td>Country Living</td>\n",
       "      <td>NaN</td>\n",
       "      <td>MAGAZINE</td>\n",
       "      <td>48</td>\n",
       "      <td>2016</td>\n",
       "      <td>4</td>\n",
       "      <td>NaN</td>\n",
       "      <td>NaN</td>\n",
       "      <td>NaN</td>\n",
       "      <td>Digital</td>\n",
       "      <td>Zinio</td>\n",
       "      <td>NaN</td>\n",
       "    </tr>\n",
       "  </tbody>\n",
       "</table>\n",
       "</div>"
      ],
      "text/plain": [
       "                  Title Creator MaterialType  Checkouts  CheckoutYear  \\\n",
       "157983   Car And Driver     NaN     MAGAZINE         38          2018   \n",
       "156001  Reader'S Digest     NaN     MAGAZINE         39          2018   \n",
       "76299    Country Living     NaN     MAGAZINE         48          2016   \n",
       "\n",
       "        CheckoutMonth Publisher  PublicationYear Subjects UsageClass  \\\n",
       "157983              5       NaN              NaN      NaN    Digital   \n",
       "156001              4       NaN              NaN      NaN    Digital   \n",
       "76299               4       NaN              NaN      NaN    Digital   \n",
       "\n",
       "       CheckoutType Big 5  \n",
       "157983        Zinio   NaN  \n",
       "156001        Zinio   NaN  \n",
       "76299         Zinio   NaN  "
      ]
     },
     "execution_count": 51,
     "metadata": {},
     "output_type": "execute_result"
    }
   ],
   "source": [
    "null_filter = seattle_df['PublicationYear'].isna()\n",
    "\n",
    "seattle_df[null_filter].sample(3)"
   ]
  },
  {
   "cell_type": "markdown",
   "metadata": {},
   "source": [
    "## Converting to Datetime"
   ]
  },
  {
   "cell_type": "markdown",
   "metadata": {},
   "source": [
    "| **Pandas Data Convert Method** | **Explanation**                                                                                   |\n",
    "|:-------------:|:---------------------------------------------------------------------------------------------------:|\n",
    "| `pd.to_datetime(df['column_name'], format='&Y-%M')`         | Convert column to datetime, specify date input format                                               |"
   ]
  },
  {
   "cell_type": "markdown",
   "metadata": {},
   "source": [
    "<div class=\"admonition note\" name=\"html-admonition\" style=\"background: lightyellow; padding: 10px\">\n",
    "<p class=\"Question\"><b/>❓ Question</b></p>\n",
    "\n",
    "How do Seattle Public Library checkouts between 2015-2021 fluctuate *month by month*?\n",
    "</div>"
   ]
  },
  {
   "cell_type": "markdown",
   "metadata": {},
   "source": [
    "In the last notebook, we were able to create a pretty basic plot of checkouts between 2015-2021 by year."
   ]
  },
  {
   "cell_type": "code",
   "execution_count": 52,
   "metadata": {},
   "outputs": [
    {
     "data": {
      "text/plain": [
       "<matplotlib.legend.Legend at 0x7fbfdb6713d0>"
      ]
     },
     "execution_count": 52,
     "metadata": {},
     "output_type": "execute_result"
    },
    {
     "data": {
      "image/png": "[encoded data removed]",
      "text/plain": [
       "<Figure size 432x288 with 1 Axes>"
      ]
     },
     "metadata": {
      "needs_background": "light"
     },
     "output_type": "display_data"
    }
   ],
   "source": [
    "import seaborn as sns\n",
    "import matplotlib.pyplot as plt\n",
    "\n",
    "materialtype_checkouts_byyear = seattle_df.groupby(['MaterialType', 'CheckoutYear'])\\\n",
    "                                [['Checkouts']].sum().reset_index()\n",
    "\n",
    "# Use Seaborn to make a line plot\n",
    "sns.lineplot(data=materialtype_checkouts_byyear,\n",
    "             x='CheckoutYear', y='Checkouts', hue='MaterialType')\n",
    "\n",
    "# Put legend to the right\n",
    "plt.legend(bbox_to_anchor=(1.05, 1))"
   ]
  },
  {
   "cell_type": "markdown",
   "metadata": {},
   "source": [
    "But we couldn't get more granular than that, because we don't currently have a column with more granular date information.\n",
    "\n",
    "However, we do have a column with the check out year and the check out month, so let's try to combine that information together!"
   ]
  },
  {
   "cell_type": "code",
   "execution_count": 53,
   "metadata": {},
   "outputs": [
    {
     "data": {
      "text/html": [
       "<div>\n",
       "<style scoped>\n",
       "    .dataframe tbody tr th:only-of-type {\n",
       "        vertical-align: middle;\n",
       "    }\n",
       "\n",
       "    .dataframe tbody tr th {\n",
       "        vertical-align: top;\n",
       "    }\n",
       "\n",
       "    .dataframe thead th {\n",
       "        text-align: right;\n",
       "    }\n",
       "</style>\n",
       "<table border=\"1\" class=\"dataframe\">\n",
       "  <thead>\n",
       "    <tr style=\"text-align: right;\">\n",
       "      <th></th>\n",
       "      <th>Title</th>\n",
       "      <th>Checkouts</th>\n",
       "      <th>CheckoutYear</th>\n",
       "      <th>CheckoutMonth</th>\n",
       "    </tr>\n",
       "  </thead>\n",
       "  <tbody>\n",
       "    <tr>\n",
       "      <th>0</th>\n",
       "      <td>Frog And Toad All Year</td>\n",
       "      <td>34</td>\n",
       "      <td>2016</td>\n",
       "      <td>10</td>\n",
       "    </tr>\n",
       "    <tr>\n",
       "      <th>1</th>\n",
       "      <td>My Brilliant Friend</td>\n",
       "      <td>110</td>\n",
       "      <td>2016</td>\n",
       "      <td>10</td>\n",
       "    </tr>\n",
       "    <tr>\n",
       "      <th>2</th>\n",
       "      <td>Star Trek [Videorecording]</td>\n",
       "      <td>36</td>\n",
       "      <td>2016</td>\n",
       "      <td>10</td>\n",
       "    </tr>\n",
       "    <tr>\n",
       "      <th>3</th>\n",
       "      <td>The Man In The High Castle</td>\n",
       "      <td>63</td>\n",
       "      <td>2016</td>\n",
       "      <td>10</td>\n",
       "    </tr>\n",
       "    <tr>\n",
       "      <th>4</th>\n",
       "      <td>The Fifth Season</td>\n",
       "      <td>44</td>\n",
       "      <td>2016</td>\n",
       "      <td>10</td>\n",
       "    </tr>\n",
       "    <tr>\n",
       "      <th>...</th>\n",
       "      <td>...</td>\n",
       "      <td>...</td>\n",
       "      <td>...</td>\n",
       "      <td>...</td>\n",
       "    </tr>\n",
       "    <tr>\n",
       "      <th>282282</th>\n",
       "      <td>The Fire Next Time</td>\n",
       "      <td>23</td>\n",
       "      <td>2021</td>\n",
       "      <td>5</td>\n",
       "    </tr>\n",
       "    <tr>\n",
       "      <th>282283</th>\n",
       "      <td>Girl, Woman, Other</td>\n",
       "      <td>22</td>\n",
       "      <td>2021</td>\n",
       "      <td>5</td>\n",
       "    </tr>\n",
       "    <tr>\n",
       "      <th>282284</th>\n",
       "      <td>Your Money Or Your Life</td>\n",
       "      <td>30</td>\n",
       "      <td>2021</td>\n",
       "      <td>5</td>\n",
       "    </tr>\n",
       "    <tr>\n",
       "      <th>282285</th>\n",
       "      <td>Harry Potter And The Order Of The Phoenix</td>\n",
       "      <td>32</td>\n",
       "      <td>2021</td>\n",
       "      <td>5</td>\n",
       "    </tr>\n",
       "    <tr>\n",
       "      <th>282286</th>\n",
       "      <td>Thick</td>\n",
       "      <td>22</td>\n",
       "      <td>2021</td>\n",
       "      <td>5</td>\n",
       "    </tr>\n",
       "  </tbody>\n",
       "</table>\n",
       "<p>282287 rows × 4 columns</p>\n",
       "</div>"
      ],
      "text/plain": [
       "                                            Title  Checkouts  CheckoutYear  \\\n",
       "0                          Frog And Toad All Year         34          2016   \n",
       "1                             My Brilliant Friend        110          2016   \n",
       "2                      Star Trek [Videorecording]         36          2016   \n",
       "3                      The Man In The High Castle         63          2016   \n",
       "4                                The Fifth Season         44          2016   \n",
       "...                                           ...        ...           ...   \n",
       "282282                         The Fire Next Time         23          2021   \n",
       "282283                         Girl, Woman, Other         22          2021   \n",
       "282284                    Your Money Or Your Life         30          2021   \n",
       "282285  Harry Potter And The Order Of The Phoenix         32          2021   \n",
       "282286                                      Thick         22          2021   \n",
       "\n",
       "        CheckoutMonth  \n",
       "0                  10  \n",
       "1                  10  \n",
       "2                  10  \n",
       "3                  10  \n",
       "4                  10  \n",
       "...               ...  \n",
       "282282              5  \n",
       "282283              5  \n",
       "282284              5  \n",
       "282285              5  \n",
       "282286              5  \n",
       "\n",
       "[282287 rows x 4 columns]"
      ]
     },
     "execution_count": 53,
     "metadata": {},
     "output_type": "execute_result"
    }
   ],
   "source": [
    "seattle_df[['Title', 'Checkouts', 'CheckoutYear', 'CheckoutMonth']]"
   ]
  },
  {
   "cell_type": "markdown",
   "metadata": {},
   "source": [
    "One option for combining this data together is to simply concatenate the columns together."
   ]
  },
  {
   "cell_type": "code",
   "execution_count": 54,
   "metadata": {},
   "outputs": [
    {
     "data": {
      "text/plain": [
       "0         2026\n",
       "1         2026\n",
       "2         2026\n",
       "3         2026\n",
       "4         2026\n",
       "          ... \n",
       "282282    2026\n",
       "282283    2026\n",
       "282284    2026\n",
       "282285    2026\n",
       "282286    2026\n",
       "Length: 282287, dtype: int64"
      ]
     },
     "execution_count": 54,
     "metadata": {},
     "output_type": "execute_result"
    }
   ],
   "source": [
    "seattle_df['CheckoutYear'] + seattle_df['CheckoutMonth']"
   ]
  },
  {
   "cell_type": "markdown",
   "metadata": {},
   "source": [
    "Oops! Since these are integers, when we try to concatenate them together, we're just adding them together. To concatenate them, we need to convert them to string objects."
   ]
  },
  {
   "cell_type": "code",
   "execution_count": 55,
   "metadata": {},
   "outputs": [
    {
     "data": {
      "text/plain": [
       "0         2016-10\n",
       "1         2016-10\n",
       "2         2016-10\n",
       "3         2016-10\n",
       "4         2016-10\n",
       "           ...   \n",
       "282282     2021-5\n",
       "282283     2021-5\n",
       "282284     2021-5\n",
       "282285     2021-5\n",
       "282286     2021-5\n",
       "Length: 282287, dtype: object"
      ]
     },
     "execution_count": 55,
     "metadata": {},
     "output_type": "execute_result"
    }
   ],
   "source": [
    "seattle_df['CheckoutYear'].astype(str) + '-' + seattle_df['CheckoutMonth'].astype(str)"
   ]
  },
  {
   "cell_type": "markdown",
   "metadata": {},
   "source": [
    "That's better! Let's make a new column with the check out year and month combined."
   ]
  },
  {
   "cell_type": "code",
   "execution_count": 56,
   "metadata": {},
   "outputs": [],
   "source": [
    "seattle_df['CheckoutYearMonth'] = seattle_df['CheckoutYear'].astype(str) + '-' + seattle_df['CheckoutMonth'].astype(str)"
   ]
  },
  {
   "cell_type": "markdown",
   "metadata": {},
   "source": [
    "To explicitly make this column into datetime data, we need to use `pd.to_datetime(format=%Y-%m)` and specify the date format of our inputs (here are the [codes for datetime formatting](https://docs.python.org/3/library/datetime.html#strftime-and-strptime-format-codes))."
   ]
  },
  {
   "cell_type": "code",
   "execution_count": 57,
   "metadata": {},
   "outputs": [
    {
     "data": {
      "text/plain": [
       "0        2016-10-01\n",
       "1        2016-10-01\n",
       "2        2016-10-01\n",
       "3        2016-10-01\n",
       "4        2016-10-01\n",
       "            ...    \n",
       "282282   2021-05-01\n",
       "282283   2021-05-01\n",
       "282284   2021-05-01\n",
       "282285   2021-05-01\n",
       "282286   2021-05-01\n",
       "Name: CheckoutYearMonth, Length: 282287, dtype: datetime64[ns]"
      ]
     },
     "execution_count": 57,
     "metadata": {},
     "output_type": "execute_result"
    }
   ],
   "source": [
    "pd.to_datetime(seattle_df['CheckoutYearMonth'], format='%Y-%m')"
   ]
  },
  {
   "cell_type": "markdown",
   "metadata": {},
   "source": [
    "If we specificed that this information was year and day `format=%Y-%d`, rather than month, then it would interpret the second numerical value as day information."
   ]
  },
  {
   "cell_type": "code",
   "execution_count": 58,
   "metadata": {},
   "outputs": [
    {
     "data": {
      "text/plain": [
       "0        2016-01-10\n",
       "1        2016-01-10\n",
       "2        2016-01-10\n",
       "3        2016-01-10\n",
       "4        2016-01-10\n",
       "            ...    \n",
       "282282   2021-01-05\n",
       "282283   2021-01-05\n",
       "282284   2021-01-05\n",
       "282285   2021-01-05\n",
       "282286   2021-01-05\n",
       "Name: CheckoutYearMonth, Length: 282287, dtype: datetime64[ns]"
      ]
     },
     "execution_count": 58,
     "metadata": {},
     "output_type": "execute_result"
    }
   ],
   "source": [
    "pd.to_datetime(seattle_df['CheckoutYearMonth'], format='%Y-%d')"
   ]
  },
  {
   "cell_type": "code",
   "execution_count": 59,
   "metadata": {},
   "outputs": [],
   "source": [
    "seattle_df['Date'] = pd.to_datetime(seattle_df['CheckoutYearMonth'], format='%Y-%m')"
   ]
  },
  {
   "cell_type": "code",
   "execution_count": 60,
   "metadata": {},
   "outputs": [
    {
     "data": {
      "text/plain": [
       "0        2016-10-01\n",
       "1        2016-10-01\n",
       "2        2016-10-01\n",
       "3        2016-10-01\n",
       "4        2016-10-01\n",
       "            ...    \n",
       "282282   2021-05-01\n",
       "282283   2021-05-01\n",
       "282284   2021-05-01\n",
       "282285   2021-05-01\n",
       "282286   2021-05-01\n",
       "Name: Date, Length: 282287, dtype: datetime64[ns]"
      ]
     },
     "execution_count": 60,
     "metadata": {},
     "output_type": "execute_result"
    }
   ],
   "source": [
    "seattle_df['Date']"
   ]
  },
  {
   "cell_type": "markdown",
   "metadata": {},
   "source": [
    "<div class=\"admonition warning\" name=\"html-admonition\" style=\"background: pink; padding: 10px\">\n",
    "<p class=\"title\"><b/>Note</b></p>\n",
    "\n",
    "\n",
    "Note that if you have three columns in your DataFrame that have the titles \"year,\" \"month,\" and \"day,\" you can also make them a single datetime object in one fell swoop.\n",
    "</div>"
   ]
  },
  {
   "cell_type": "code",
   "execution_count": 61,
   "metadata": {},
   "outputs": [],
   "source": [
    "seattle_df['CheckoutDay'] = 1\n",
    "seattle_df[['Year', 'Month', 'Day']] = seattle_df[['CheckoutYear','CheckoutMonth', 'CheckoutDay']]"
   ]
  },
  {
   "cell_type": "code",
   "execution_count": 62,
   "metadata": {},
   "outputs": [
    {
     "data": {
      "text/plain": [
       "0        2016-10-01\n",
       "1        2016-10-01\n",
       "2        2016-10-01\n",
       "3        2016-10-01\n",
       "4        2016-10-01\n",
       "            ...    \n",
       "282282   2021-05-01\n",
       "282283   2021-05-01\n",
       "282284   2021-05-01\n",
       "282285   2021-05-01\n",
       "282286   2021-05-01\n",
       "Length: 282287, dtype: datetime64[ns]"
      ]
     },
     "execution_count": 62,
     "metadata": {},
     "output_type": "execute_result"
    }
   ],
   "source": [
    "pd.to_datetime(seattle_df[['Year', 'Month', 'Day']], format='%Y-%M-%D', errors='coerce')"
   ]
  },
  {
   "cell_type": "code",
   "execution_count": 63,
   "metadata": {},
   "outputs": [],
   "source": [
    "seattle_df = seattle_df.drop(['Year', 'Month', 'Day'], axis='columns')"
   ]
  },
  {
   "cell_type": "markdown",
   "metadata": {},
   "source": [
    "## Time Series Data"
   ]
  },
  {
   "cell_type": "markdown",
   "metadata": {},
   "source": [
    "Now that we have actual datetime data, we can do more sophisticated time series analyses. For example, we can group by \"Date\" and calculate the total checkouts for each month."
   ]
  },
  {
   "cell_type": "code",
   "execution_count": 64,
   "metadata": {
    "scrolled": true
   },
   "outputs": [
    {
     "data": {
      "text/plain": [
       "Date\n",
       "2015-01-01    172662\n",
       "2015-02-01    144206\n",
       "2015-03-01    180649\n",
       "2015-04-01    165382\n",
       "2015-05-01    157863\n",
       "2015-06-01    129004\n",
       "2015-07-01    171320\n",
       "2015-08-01    174945\n",
       "2015-09-01    156380\n",
       "2015-10-01    161670\n",
       "2015-11-01    157489\n",
       "2015-12-01    154114\n",
       "2016-01-01    171179\n",
       "2016-02-01    148795\n",
       "2016-03-01    170688\n",
       "2016-04-01    151035\n",
       "2016-05-01    151934\n",
       "2016-06-01    153943\n",
       "2016-07-01    157394\n",
       "2016-08-01    156763\n",
       "2016-09-01    148336\n",
       "2016-10-01    188674\n",
       "2016-11-01    174425\n",
       "2016-12-01    172756\n",
       "2017-01-01    178430\n",
       "2017-02-01    147131\n",
       "2017-03-01    180208\n",
       "2017-04-01    166939\n",
       "2017-05-01    162890\n",
       "2017-06-01    172652\n",
       "2017-07-01    186658\n",
       "2017-08-01    190824\n",
       "2017-09-01    166930\n",
       "2017-10-01    177313\n",
       "2017-11-01    178079\n",
       "2017-12-01    181136\n",
       "2018-01-01    199587\n",
       "2018-02-01    158923\n",
       "2018-03-01    188776\n",
       "2018-04-01    177827\n",
       "2018-05-01    169680\n",
       "2018-06-01    184300\n",
       "2018-07-01    192108\n",
       "2018-08-01    199110\n",
       "2018-09-01    170450\n",
       "2018-10-01    189773\n",
       "2018-11-01    184465\n",
       "2018-12-01    184463\n",
       "2019-01-01    214496\n",
       "2019-02-01    168832\n",
       "2019-03-01    181671\n",
       "2019-04-01    178457\n",
       "2019-05-01    180414\n",
       "2019-06-01    186995\n",
       "2019-07-01    202489\n",
       "2019-08-01    197110\n",
       "2019-09-01    182639\n",
       "2019-10-01    193155\n",
       "2019-11-01    186607\n",
       "2019-12-01    193091\n",
       "2020-01-01    215029\n",
       "2020-02-01    184655\n",
       "2020-03-01    117972\n",
       "2020-04-01     95742\n",
       "2020-05-01    109447\n",
       "2020-06-01    117696\n",
       "2020-07-01    111820\n",
       "2020-08-01    113734\n",
       "2020-09-01    110631\n",
       "2020-10-01    115407\n",
       "2020-11-01    118713\n",
       "2020-12-01    139699\n",
       "2021-01-01    147984\n",
       "2021-02-01    122527\n",
       "2021-03-01    139993\n",
       "2021-04-01    122409\n",
       "2021-05-01    125414\n",
       "Name: Checkouts, dtype: int64"
      ]
     },
     "execution_count": 64,
     "metadata": {},
     "output_type": "execute_result"
    }
   ],
   "source": [
    "seattle_df.groupby('Date')['Checkouts'].sum()"
   ]
  },
  {
   "cell_type": "code",
   "execution_count": 65,
   "metadata": {},
   "outputs": [
    {
     "data": {
      "text/plain": [
       "<matplotlib.axes._subplots.AxesSubplot at 0x7fbfc206fe10>"
      ]
     },
     "execution_count": 65,
     "metadata": {},
     "output_type": "execute_result"
    },
    {
     "data": {
      "image/png": "[encoded data removed]",
      "text/plain": [
       "<Figure size 432x288 with 1 Axes>"
      ]
     },
     "metadata": {
      "needs_background": "light"
     },
     "output_type": "display_data"
    }
   ],
   "source": [
    "seattle_df.groupby('Date')['Checkouts'].sum().plot()"
   ]
  },
  {
   "cell_type": "markdown",
   "metadata": {},
   "source": [
    "This is a lot more informative than year alone!"
   ]
  },
  {
   "cell_type": "code",
   "execution_count": 66,
   "metadata": {},
   "outputs": [
    {
     "data": {
      "text/plain": [
       "<matplotlib.axes._subplots.AxesSubplot at 0x7fbfdd2c7910>"
      ]
     },
     "execution_count": 66,
     "metadata": {},
     "output_type": "execute_result"
    },
    {
     "data": {
      "image/png": "[encoded data removed]",
      "text/plain": [
       "<Figure size 432x288 with 1 Axes>"
      ]
     },
     "metadata": {
      "needs_background": "light"
     },
     "output_type": "display_data"
    }
   ],
   "source": [
    "seattle_df.groupby('CheckoutYear')['Checkouts'].sum().plot()"
   ]
  },
  {
   "cell_type": "markdown",
   "metadata": {},
   "source": [
    "We can do the same thing with our previous plot of material type checkouts over time."
   ]
  },
  {
   "cell_type": "code",
   "execution_count": 67,
   "metadata": {},
   "outputs": [
    {
     "data": {
      "text/plain": [
       "<matplotlib.legend.Legend at 0x7fbfe9441550>"
      ]
     },
     "execution_count": 67,
     "metadata": {},
     "output_type": "execute_result"
    },
    {
     "data": {
      "image/png": "[encoded data removed]",
      "text/plain": [
       "<Figure size 432x288 with 1 Axes>"
      ]
     },
     "metadata": {
      "needs_background": "light"
     },
     "output_type": "display_data"
    }
   ],
   "source": [
    "import seaborn as sns\n",
    "import matplotlib.pyplot as plt\n",
    "\n",
    "materialtype_checkouts_byyear = seattle_df.groupby(['MaterialType', 'Date'])\\\n",
    "                                            [['Checkouts']].sum().reset_index()\n",
    "\n",
    "top_material_filter = materialtype_checkouts_byyear['MaterialType']\\\n",
    "                        .isin(['BOOK', 'EBOOK', 'AUDIOBOOK', 'VIDEODISC'])\n",
    "\n",
    "# Use Seaborn to make a line plot\n",
    "sns.lineplot(data=materialtype_checkouts_byyear[top_material_filter],\n",
    "             x='Date', y='Checkouts', hue='MaterialType')\n",
    "\n",
    "# Put legend to the right\n",
    "plt.legend(bbox_to_anchor=(1.05, 1))"
   ]
  },
  {
   "cell_type": "markdown",
   "metadata": {},
   "source": [
    "## Datetime Index"
   ]
  },
  {
   "cell_type": "markdown",
   "metadata": {},
   "source": [
    "| **Pandas Datetime Index Methods** | **Explanation**                                                                                   |\n",
    "|:-------------:|:---------------------------------------------------------------------------------------------------:|\n",
    "| `df.resample('M')`         | Resample, or essentially group by, different spans of time, e.g., `Y`, `M`, `D`, `17min`                                                |\n",
    "| `df.loc['2018':'2019']`         | Index by label and slice DataFrame between the years 2018 and 2019                             |"
   ]
  },
  {
   "cell_type": "markdown",
   "metadata": {},
   "source": [
    "Another common approach to working with time series infromation is to make the datetime column into our Pandas index. There are some special things we can do with a datetime index, such as slice the data by dates more efficiently."
   ]
  },
  {
   "cell_type": "markdown",
   "metadata": {},
   "source": [
    "Let's make the \"Date\" column our index."
   ]
  },
  {
   "cell_type": "code",
   "execution_count": 68,
   "metadata": {},
   "outputs": [],
   "source": [
    "seattle_df = seattle_df.set_index('Date')"
   ]
  },
  {
   "cell_type": "code",
   "execution_count": 69,
   "metadata": {},
   "outputs": [
    {
     "data": {
      "text/plain": [
       "DatetimeIndex(['2016-10-01', '2016-10-01', '2016-10-01', '2016-10-01',\n",
       "               '2016-10-01', '2016-10-01', '2016-10-01', '2016-10-01',\n",
       "               '2016-10-01', '2016-10-01',\n",
       "               ...\n",
       "               '2021-05-01', '2021-05-01', '2021-05-01', '2021-05-01',\n",
       "               '2021-05-01', '2021-05-01', '2021-05-01', '2021-05-01',\n",
       "               '2021-05-01', '2021-05-01'],\n",
       "              dtype='datetime64[ns]', name='Date', length=282287, freq=None)"
      ]
     },
     "execution_count": 69,
     "metadata": {},
     "output_type": "execute_result"
    }
   ],
   "source": [
    "seattle_df.index"
   ]
  },
  {
   "cell_type": "code",
   "execution_count": 70,
   "metadata": {},
   "outputs": [
    {
     "data": {
      "text/plain": [
       "pandas.core.indexes.datetimes.DatetimeIndex"
      ]
     },
     "execution_count": 70,
     "metadata": {},
     "output_type": "execute_result"
    }
   ],
   "source": [
    "type(seattle_df.index)"
   ]
  },
  {
   "cell_type": "markdown",
   "metadata": {},
   "source": [
    "Another thing we can do with a Datetime Index is to `.resample()`, or essentailly group by, different time period spans."
   ]
  },
  {
   "cell_type": "code",
   "execution_count": 71,
   "metadata": {},
   "outputs": [
    {
     "data": {
      "text/plain": [
       "<matplotlib.axes._subplots.AxesSubplot at 0x7fbfdd14a590>"
      ]
     },
     "execution_count": 71,
     "metadata": {},
     "output_type": "execute_result"
    },
    {
     "data": {
      "image/png": "[encoded data removed]",
      "text/plain": [
       "<Figure size 432x288 with 1 Axes>"
      ]
     },
     "metadata": {
      "needs_background": "light"
     },
     "output_type": "display_data"
    }
   ],
   "source": [
    "seattle_df.resample('M')['Checkouts'].sum().plot()"
   ]
  },
  {
   "cell_type": "code",
   "execution_count": 72,
   "metadata": {},
   "outputs": [
    {
     "data": {
      "text/plain": [
       "<matplotlib.axes._subplots.AxesSubplot at 0x7fbfdd0b5590>"
      ]
     },
     "execution_count": 72,
     "metadata": {},
     "output_type": "execute_result"
    },
    {
     "data": {
      "image/png": "[encoded data removed]",
      "text/plain": [
       "<Figure size 432x288 with 1 Axes>"
      ]
     },
     "metadata": {
      "needs_background": "light"
     },
     "output_type": "display_data"
    }
   ],
   "source": [
    "seattle_df.resample('Y')['Checkouts'].sum().plot()"
   ]
  },
  {
   "cell_type": "code",
   "execution_count": 73,
   "metadata": {},
   "outputs": [
    {
     "data": {
      "text/plain": [
       "<matplotlib.axes._subplots.AxesSubplot at 0x7fbfdc8fae50>"
      ]
     },
     "execution_count": 73,
     "metadata": {},
     "output_type": "execute_result"
    },
    {
     "data": {
      "image/png": "[encoded data removed]",
      "text/plain": [
       "<Figure size 432x288 with 1 Axes>"
      ]
     },
     "metadata": {
      "needs_background": "light"
     },
     "output_type": "display_data"
    }
   ],
   "source": [
    "seattle_df.resample('Q')['Checkouts'].sum().plot()"
   ]
  },
  {
   "cell_type": "markdown",
   "metadata": {},
   "source": [
    "Additionally, because we can use `.loc` to index by date label, we can easily slice the DataFrame between 2019 and 2020."
   ]
  },
  {
   "cell_type": "code",
   "execution_count": 74,
   "metadata": {},
   "outputs": [
    {
     "data": {
      "text/html": [
       "<div>\n",
       "<style scoped>\n",
       "    .dataframe tbody tr th:only-of-type {\n",
       "        vertical-align: middle;\n",
       "    }\n",
       "\n",
       "    .dataframe tbody tr th {\n",
       "        vertical-align: top;\n",
       "    }\n",
       "\n",
       "    .dataframe thead th {\n",
       "        text-align: right;\n",
       "    }\n",
       "</style>\n",
       "<table border=\"1\" class=\"dataframe\">\n",
       "  <thead>\n",
       "    <tr style=\"text-align: right;\">\n",
       "      <th></th>\n",
       "      <th>Title</th>\n",
       "      <th>Creator</th>\n",
       "      <th>MaterialType</th>\n",
       "      <th>Checkouts</th>\n",
       "      <th>CheckoutYear</th>\n",
       "      <th>CheckoutMonth</th>\n",
       "      <th>Publisher</th>\n",
       "      <th>PublicationYear</th>\n",
       "      <th>Subjects</th>\n",
       "      <th>UsageClass</th>\n",
       "      <th>CheckoutType</th>\n",
       "      <th>Big 5</th>\n",
       "      <th>CheckoutYearMonth</th>\n",
       "      <th>CheckoutDay</th>\n",
       "    </tr>\n",
       "    <tr>\n",
       "      <th>Date</th>\n",
       "      <th></th>\n",
       "      <th></th>\n",
       "      <th></th>\n",
       "      <th></th>\n",
       "      <th></th>\n",
       "      <th></th>\n",
       "      <th></th>\n",
       "      <th></th>\n",
       "      <th></th>\n",
       "      <th></th>\n",
       "      <th></th>\n",
       "      <th></th>\n",
       "      <th></th>\n",
       "      <th></th>\n",
       "    </tr>\n",
       "  </thead>\n",
       "  <tbody>\n",
       "    <tr>\n",
       "      <th>2019-01-01</th>\n",
       "      <td>Anything Is Possible</td>\n",
       "      <td>Elizabeth Strout</td>\n",
       "      <td>EBOOK</td>\n",
       "      <td>79</td>\n",
       "      <td>2019</td>\n",
       "      <td>1</td>\n",
       "      <td>Random House, Inc.</td>\n",
       "      <td>2017.0</td>\n",
       "      <td>Fiction, Literature</td>\n",
       "      <td>Digital</td>\n",
       "      <td>OverDrive</td>\n",
       "      <td>Penguin/Random House</td>\n",
       "      <td>2019-1</td>\n",
       "      <td>1</td>\n",
       "    </tr>\n",
       "    <tr>\n",
       "      <th>2019-01-01</th>\n",
       "      <td>Freshwater</td>\n",
       "      <td>Akwaeke Emezi</td>\n",
       "      <td>EBOOK</td>\n",
       "      <td>28</td>\n",
       "      <td>2019</td>\n",
       "      <td>1</td>\n",
       "      <td>Lightning Source Inc</td>\n",
       "      <td>2018.0</td>\n",
       "      <td>Fiction, Literature</td>\n",
       "      <td>Digital</td>\n",
       "      <td>OverDrive</td>\n",
       "      <td>Other</td>\n",
       "      <td>2019-1</td>\n",
       "      <td>1</td>\n",
       "    </tr>\n",
       "    <tr>\n",
       "      <th>2019-01-01</th>\n",
       "      <td>Sometimes I Lie</td>\n",
       "      <td>Alice Feeney</td>\n",
       "      <td>EBOOK</td>\n",
       "      <td>43</td>\n",
       "      <td>2019</td>\n",
       "      <td>1</td>\n",
       "      <td>Macmillan Publishers</td>\n",
       "      <td>2018.0</td>\n",
       "      <td>Fiction, Thriller</td>\n",
       "      <td>Digital</td>\n",
       "      <td>OverDrive</td>\n",
       "      <td>Macmillan</td>\n",
       "      <td>2019-1</td>\n",
       "      <td>1</td>\n",
       "    </tr>\n",
       "    <tr>\n",
       "      <th>2019-01-01</th>\n",
       "      <td>The Affair</td>\n",
       "      <td>Lee Child</td>\n",
       "      <td>EBOOK</td>\n",
       "      <td>20</td>\n",
       "      <td>2019</td>\n",
       "      <td>1</td>\n",
       "      <td>Random House, Inc.</td>\n",
       "      <td>2011.0</td>\n",
       "      <td>Fiction, Thriller</td>\n",
       "      <td>Digital</td>\n",
       "      <td>OverDrive</td>\n",
       "      <td>Penguin/Random House</td>\n",
       "      <td>2019-1</td>\n",
       "      <td>1</td>\n",
       "    </tr>\n",
       "    <tr>\n",
       "      <th>2019-01-01</th>\n",
       "      <td>Life Of The Party</td>\n",
       "      <td>NaN</td>\n",
       "      <td>VIDEODISC</td>\n",
       "      <td>123</td>\n",
       "      <td>2019</td>\n",
       "      <td>1</td>\n",
       "      <td>Warner Bros.</td>\n",
       "      <td>2018.0</td>\n",
       "      <td>Mothers and daughters Drama, College students Drama, Adult college students Drama, Feature films...</td>\n",
       "      <td>Physical</td>\n",
       "      <td>Horizon</td>\n",
       "      <td>Other</td>\n",
       "      <td>2019-1</td>\n",
       "      <td>1</td>\n",
       "    </tr>\n",
       "    <tr>\n",
       "      <th>...</th>\n",
       "      <td>...</td>\n",
       "      <td>...</td>\n",
       "      <td>...</td>\n",
       "      <td>...</td>\n",
       "      <td>...</td>\n",
       "      <td>...</td>\n",
       "      <td>...</td>\n",
       "      <td>...</td>\n",
       "      <td>...</td>\n",
       "      <td>...</td>\n",
       "      <td>...</td>\n",
       "      <td>...</td>\n",
       "      <td>...</td>\n",
       "      <td>...</td>\n",
       "    </tr>\n",
       "    <tr>\n",
       "      <th>2020-12-01</th>\n",
       "      <td>The Cuckoo'S Calling</td>\n",
       "      <td>Robert Galbraith</td>\n",
       "      <td>AUDIOBOOK</td>\n",
       "      <td>48</td>\n",
       "      <td>2020</td>\n",
       "      <td>12</td>\n",
       "      <td>Blackstone Audio, Inc.</td>\n",
       "      <td>2013.0</td>\n",
       "      <td>Fiction, Mystery</td>\n",
       "      <td>Digital</td>\n",
       "      <td>OverDrive</td>\n",
       "      <td>Other</td>\n",
       "      <td>2020-12</td>\n",
       "      <td>1</td>\n",
       "    </tr>\n",
       "    <tr>\n",
       "      <th>2020-12-01</th>\n",
       "      <td>The Chain</td>\n",
       "      <td>Adrian McKinty</td>\n",
       "      <td>EBOOK</td>\n",
       "      <td>30</td>\n",
       "      <td>2020</td>\n",
       "      <td>12</td>\n",
       "      <td>Hachette Digital, Inc.</td>\n",
       "      <td>2019.0</td>\n",
       "      <td>Fiction, Suspense, Thriller</td>\n",
       "      <td>Digital</td>\n",
       "      <td>OverDrive</td>\n",
       "      <td>Hachette</td>\n",
       "      <td>2020-12</td>\n",
       "      <td>1</td>\n",
       "    </tr>\n",
       "    <tr>\n",
       "      <th>2020-12-01</th>\n",
       "      <td>The Handmaid'S Tale</td>\n",
       "      <td>Margaret Atwood</td>\n",
       "      <td>EBOOK</td>\n",
       "      <td>137</td>\n",
       "      <td>2020</td>\n",
       "      <td>12</td>\n",
       "      <td>Houghton Mifflin Harcourt Trade and Reference</td>\n",
       "      <td>2011.0</td>\n",
       "      <td>Fiction, Literature</td>\n",
       "      <td>Digital</td>\n",
       "      <td>OverDrive</td>\n",
       "      <td>Other</td>\n",
       "      <td>2020-12</td>\n",
       "      <td>1</td>\n",
       "    </tr>\n",
       "    <tr>\n",
       "      <th>2020-12-01</th>\n",
       "      <td>Maybe You Should Talk To Someone</td>\n",
       "      <td>Lori Gottlieb</td>\n",
       "      <td>EBOOK</td>\n",
       "      <td>256</td>\n",
       "      <td>2020</td>\n",
       "      <td>12</td>\n",
       "      <td>Houghton Mifflin Harcourt Trade and Reference</td>\n",
       "      <td>2019.0</td>\n",
       "      <td>Biography &amp; Autobiography, Nonfiction</td>\n",
       "      <td>Digital</td>\n",
       "      <td>OverDrive</td>\n",
       "      <td>Other</td>\n",
       "      <td>2020-12</td>\n",
       "      <td>1</td>\n",
       "    </tr>\n",
       "    <tr>\n",
       "      <th>2020-12-01</th>\n",
       "      <td>The Ninjabread Man</td>\n",
       "      <td>Katrina Charman</td>\n",
       "      <td>EBOOK</td>\n",
       "      <td>64</td>\n",
       "      <td>2020</td>\n",
       "      <td>12</td>\n",
       "      <td>Triangle Interactive</td>\n",
       "      <td>2020.0</td>\n",
       "      <td>Folklore, Juvenile Fiction</td>\n",
       "      <td>Digital</td>\n",
       "      <td>OverDrive</td>\n",
       "      <td>Other</td>\n",
       "      <td>2020-12</td>\n",
       "      <td>1</td>\n",
       "    </tr>\n",
       "  </tbody>\n",
       "</table>\n",
       "<p>79415 rows × 14 columns</p>\n",
       "</div>"
      ],
      "text/plain": [
       "                                       Title           Creator MaterialType  \\\n",
       "Date                                                                          \n",
       "2019-01-01              Anything Is Possible  Elizabeth Strout        EBOOK   \n",
       "2019-01-01                        Freshwater     Akwaeke Emezi        EBOOK   \n",
       "2019-01-01                   Sometimes I Lie      Alice Feeney        EBOOK   \n",
       "2019-01-01                        The Affair         Lee Child        EBOOK   \n",
       "2019-01-01                 Life Of The Party               NaN    VIDEODISC   \n",
       "...                                      ...               ...          ...   \n",
       "2020-12-01              The Cuckoo'S Calling  Robert Galbraith    AUDIOBOOK   \n",
       "2020-12-01                         The Chain    Adrian McKinty        EBOOK   \n",
       "2020-12-01               The Handmaid'S Tale   Margaret Atwood        EBOOK   \n",
       "2020-12-01  Maybe You Should Talk To Someone     Lori Gottlieb        EBOOK   \n",
       "2020-12-01                The Ninjabread Man   Katrina Charman        EBOOK   \n",
       "\n",
       "            Checkouts  CheckoutYear  CheckoutMonth  \\\n",
       "Date                                                 \n",
       "2019-01-01         79          2019              1   \n",
       "2019-01-01         28          2019              1   \n",
       "2019-01-01         43          2019              1   \n",
       "2019-01-01         20          2019              1   \n",
       "2019-01-01        123          2019              1   \n",
       "...               ...           ...            ...   \n",
       "2020-12-01         48          2020             12   \n",
       "2020-12-01         30          2020             12   \n",
       "2020-12-01        137          2020             12   \n",
       "2020-12-01        256          2020             12   \n",
       "2020-12-01         64          2020             12   \n",
       "\n",
       "                                                Publisher  PublicationYear  \\\n",
       "Date                                                                         \n",
       "2019-01-01                             Random House, Inc.           2017.0   \n",
       "2019-01-01                           Lightning Source Inc           2018.0   \n",
       "2019-01-01                           Macmillan Publishers           2018.0   \n",
       "2019-01-01                             Random House, Inc.           2011.0   \n",
       "2019-01-01                                   Warner Bros.           2018.0   \n",
       "...                                                   ...              ...   \n",
       "2020-12-01                         Blackstone Audio, Inc.           2013.0   \n",
       "2020-12-01                         Hachette Digital, Inc.           2019.0   \n",
       "2020-12-01  Houghton Mifflin Harcourt Trade and Reference           2011.0   \n",
       "2020-12-01  Houghton Mifflin Harcourt Trade and Reference           2019.0   \n",
       "2020-12-01                           Triangle Interactive           2020.0   \n",
       "\n",
       "                                                                                                       Subjects  \\\n",
       "Date                                                                                                              \n",
       "2019-01-01                                                                                  Fiction, Literature   \n",
       "2019-01-01                                                                                  Fiction, Literature   \n",
       "2019-01-01                                                                                    Fiction, Thriller   \n",
       "2019-01-01                                                                                    Fiction, Thriller   \n",
       "2019-01-01  Mothers and daughters Drama, College students Drama, Adult college students Drama, Feature films...   \n",
       "...                                                                                                         ...   \n",
       "2020-12-01                                                                                     Fiction, Mystery   \n",
       "2020-12-01                                                                          Fiction, Suspense, Thriller   \n",
       "2020-12-01                                                                                  Fiction, Literature   \n",
       "2020-12-01                                                                Biography & Autobiography, Nonfiction   \n",
       "2020-12-01                                                                           Folklore, Juvenile Fiction   \n",
       "\n",
       "           UsageClass CheckoutType                 Big 5 CheckoutYearMonth  \\\n",
       "Date                                                                         \n",
       "2019-01-01    Digital    OverDrive  Penguin/Random House            2019-1   \n",
       "2019-01-01    Digital    OverDrive                 Other            2019-1   \n",
       "2019-01-01    Digital    OverDrive             Macmillan            2019-1   \n",
       "2019-01-01    Digital    OverDrive  Penguin/Random House            2019-1   \n",
       "2019-01-01   Physical      Horizon                 Other            2019-1   \n",
       "...               ...          ...                   ...               ...   \n",
       "2020-12-01    Digital    OverDrive                 Other           2020-12   \n",
       "2020-12-01    Digital    OverDrive              Hachette           2020-12   \n",
       "2020-12-01    Digital    OverDrive                 Other           2020-12   \n",
       "2020-12-01    Digital    OverDrive                 Other           2020-12   \n",
       "2020-12-01    Digital    OverDrive                 Other           2020-12   \n",
       "\n",
       "            CheckoutDay  \n",
       "Date                     \n",
       "2019-01-01            1  \n",
       "2019-01-01            1  \n",
       "2019-01-01            1  \n",
       "2019-01-01            1  \n",
       "2019-01-01            1  \n",
       "...                 ...  \n",
       "2020-12-01            1  \n",
       "2020-12-01            1  \n",
       "2020-12-01            1  \n",
       "2020-12-01            1  \n",
       "2020-12-01            1  \n",
       "\n",
       "[79415 rows x 14 columns]"
      ]
     },
     "execution_count": 74,
     "metadata": {},
     "output_type": "execute_result"
    }
   ],
   "source": [
    "seattle_df.loc['2019':'2020']"
   ]
  },
  {
   "cell_type": "code",
   "execution_count": 75,
   "metadata": {},
   "outputs": [
    {
     "data": {
      "text/plain": [
       "<matplotlib.axes._subplots.AxesSubplot at 0x7fbfda93c850>"
      ]
     },
     "execution_count": 75,
     "metadata": {},
     "output_type": "execute_result"
    },
    {
     "data": {
      "image/png": "[encoded data removed]",
      "text/plain": [
       "<Figure size 432x288 with 1 Axes>"
      ]
     },
     "metadata": {
      "needs_background": "light"
     },
     "output_type": "display_data"
    }
   ],
   "source": [
    "seattle_df.loc['2019':'2020'].resample('M')['Checkouts'].sum().plot()"
   ]
  },
  {
   "cell_type": "markdown",
   "metadata": {},
   "source": [
    "Or we could slice based on an even more granular dates."
   ]
  },
  {
   "cell_type": "code",
   "execution_count": 76,
   "metadata": {},
   "outputs": [
    {
     "data": {
      "text/plain": [
       "<matplotlib.axes._subplots.AxesSubplot at 0x7fbfda809650>"
      ]
     },
     "execution_count": 76,
     "metadata": {},
     "output_type": "execute_result"
    },
    {
     "data": {
      "image/png": "[encoded data removed]",
      "text/plain": [
       "<Figure size 432x288 with 1 Axes>"
      ]
     },
     "metadata": {
      "needs_background": "light"
     },
     "output_type": "display_data"
    }
   ],
   "source": [
    "seattle_df.loc['2020-04':'2020-10'].resample('M')['Checkouts'].sum().plot()"
   ]
  },
  {
   "cell_type": "markdown",
   "metadata": {},
   "source": [
    "## Putting It All Together:\n",
    "## Plot Checkouts of Specific Titles and Creators Over Time"
   ]
  },
  {
   "cell_type": "code",
   "execution_count": 77,
   "metadata": {},
   "outputs": [
    {
     "data": {
      "text/plain": [
       "<matplotlib.axes._subplots.AxesSubplot at 0x7fbfda6ca810>"
      ]
     },
     "execution_count": 77,
     "metadata": {},
     "output_type": "execute_result"
    },
    {
     "data": {
      "image/png": "[encoded data removed]",
      "text/plain": [
       "<Figure size 432x288 with 1 Axes>"
      ]
     },
     "metadata": {
      "needs_background": "light"
     },
     "output_type": "display_data"
    }
   ],
   "source": [
    "title_filter = seattle_df['Title'].str.contains('So You Want To Talk About Race', na=False, case=False)\n",
    "\n",
    "seattle_df[title_filter].resample('M')['Checkouts'].sum().plot()"
   ]
  },
  {
   "cell_type": "code",
   "execution_count": 78,
   "metadata": {},
   "outputs": [
    {
     "data": {
      "text/plain": [
       "<matplotlib.axes._subplots.AxesSubplot at 0x7fbfd8f9c750>"
      ]
     },
     "execution_count": 78,
     "metadata": {},
     "output_type": "execute_result"
    },
    {
     "data": {
      "image/png": "[encoded data removed]",
      "text/plain": [
       "<Figure size 432x288 with 1 Axes>"
      ]
     },
     "metadata": {
      "needs_background": "light"
     },
     "output_type": "display_data"
    }
   ],
   "source": [
    "seattle_df[title_filter].loc['2019-10':'2021-01'].resample('M')['Checkouts'].sum().plot()"
   ]
  },
  {
   "cell_type": "code",
   "execution_count": 79,
   "metadata": {},
   "outputs": [
    {
     "data": {
      "text/html": [
       "<div>\n",
       "<style scoped>\n",
       "    .dataframe tbody tr th:only-of-type {\n",
       "        vertical-align: middle;\n",
       "    }\n",
       "\n",
       "    .dataframe tbody tr th {\n",
       "        vertical-align: top;\n",
       "    }\n",
       "\n",
       "    .dataframe thead th {\n",
       "        text-align: right;\n",
       "    }\n",
       "</style>\n",
       "<table border=\"1\" class=\"dataframe\">\n",
       "  <thead>\n",
       "    <tr style=\"text-align: right;\">\n",
       "      <th></th>\n",
       "      <th>Title</th>\n",
       "      <th>Creator</th>\n",
       "      <th>Date</th>\n",
       "      <th>MaterialType</th>\n",
       "      <th>Checkouts</th>\n",
       "    </tr>\n",
       "  </thead>\n",
       "  <tbody>\n",
       "    <tr>\n",
       "      <th>0</th>\n",
       "      <td>\"A\" Is For Alibi</td>\n",
       "      <td>Sue Grafton</td>\n",
       "      <td>2017-08-01</td>\n",
       "      <td>EBOOK</td>\n",
       "      <td>20</td>\n",
       "    </tr>\n",
       "    <tr>\n",
       "      <th>1</th>\n",
       "      <td>\"A\" Is For Alibi</td>\n",
       "      <td>Sue Grafton</td>\n",
       "      <td>2018-01-01</td>\n",
       "      <td>EBOOK</td>\n",
       "      <td>33</td>\n",
       "    </tr>\n",
       "    <tr>\n",
       "      <th>2</th>\n",
       "      <td>\"A\" Is For Alibi</td>\n",
       "      <td>Sue Grafton</td>\n",
       "      <td>2018-02-01</td>\n",
       "      <td>EBOOK</td>\n",
       "      <td>27</td>\n",
       "    </tr>\n",
       "    <tr>\n",
       "      <th>3</th>\n",
       "      <td>\"A\" Is For Alibi</td>\n",
       "      <td>Sue Grafton</td>\n",
       "      <td>2018-03-01</td>\n",
       "      <td>EBOOK</td>\n",
       "      <td>27</td>\n",
       "    </tr>\n",
       "    <tr>\n",
       "      <th>4</th>\n",
       "      <td>\"A\" Is For Alibi</td>\n",
       "      <td>Sue Grafton</td>\n",
       "      <td>2018-04-01</td>\n",
       "      <td>EBOOK</td>\n",
       "      <td>32</td>\n",
       "    </tr>\n",
       "    <tr>\n",
       "      <th>...</th>\n",
       "      <td>...</td>\n",
       "      <td>...</td>\n",
       "      <td>...</td>\n",
       "      <td>...</td>\n",
       "      <td>...</td>\n",
       "    </tr>\n",
       "    <tr>\n",
       "      <th>195818</th>\n",
       "      <td>[Olympians. 9], Artemis</td>\n",
       "      <td>O'Connor, George</td>\n",
       "      <td>2017-07-01</td>\n",
       "      <td>BOOK</td>\n",
       "      <td>21</td>\n",
       "    </tr>\n",
       "    <tr>\n",
       "      <th>195819</th>\n",
       "      <td>[Planet Earth</td>\n",
       "      <td>Prince</td>\n",
       "      <td>2019-03-01</td>\n",
       "      <td>SOUNDDISC</td>\n",
       "      <td>20</td>\n",
       "    </tr>\n",
       "    <tr>\n",
       "      <th>195820</th>\n",
       "      <td>[Plus] [Sound Recording]</td>\n",
       "      <td>Sheeran, Ed, 1991-</td>\n",
       "      <td>2015-01-01</td>\n",
       "      <td>SOUNDDISC</td>\n",
       "      <td>23</td>\n",
       "    </tr>\n",
       "    <tr>\n",
       "      <th>195821</th>\n",
       "      <td>[Plus] [Sound Recording]</td>\n",
       "      <td>Sheeran, Ed, 1991-</td>\n",
       "      <td>2015-03-01</td>\n",
       "      <td>SOUNDDISC</td>\n",
       "      <td>25</td>\n",
       "    </tr>\n",
       "    <tr>\n",
       "      <th>195822</th>\n",
       "      <td>¡Vamos! Let'S Go To The Market</td>\n",
       "      <td>Raúl the Third, 1976-</td>\n",
       "      <td>2020-02-01</td>\n",
       "      <td>BOOK</td>\n",
       "      <td>22</td>\n",
       "    </tr>\n",
       "  </tbody>\n",
       "</table>\n",
       "<p>195823 rows × 5 columns</p>\n",
       "</div>"
      ],
      "text/plain": [
       "                                 Title                Creator       Date  \\\n",
       "0                     \"A\" Is For Alibi            Sue Grafton 2017-08-01   \n",
       "1                     \"A\" Is For Alibi            Sue Grafton 2018-01-01   \n",
       "2                     \"A\" Is For Alibi            Sue Grafton 2018-02-01   \n",
       "3                     \"A\" Is For Alibi            Sue Grafton 2018-03-01   \n",
       "4                     \"A\" Is For Alibi            Sue Grafton 2018-04-01   \n",
       "...                                ...                    ...        ...   \n",
       "195818         [Olympians. 9], Artemis       O'Connor, George 2017-07-01   \n",
       "195819                   [Planet Earth                 Prince 2019-03-01   \n",
       "195820        [Plus] [Sound Recording]     Sheeran, Ed, 1991- 2015-01-01   \n",
       "195821        [Plus] [Sound Recording]     Sheeran, Ed, 1991- 2015-03-01   \n",
       "195822  ¡Vamos! Let'S Go To The Market  Raúl the Third, 1976- 2020-02-01   \n",
       "\n",
       "       MaterialType  Checkouts  \n",
       "0             EBOOK         20  \n",
       "1             EBOOK         33  \n",
       "2             EBOOK         27  \n",
       "3             EBOOK         27  \n",
       "4             EBOOK         32  \n",
       "...             ...        ...  \n",
       "195818         BOOK         21  \n",
       "195819    SOUNDDISC         20  \n",
       "195820    SOUNDDISC         23  \n",
       "195821    SOUNDDISC         25  \n",
       "195822         BOOK         22  \n",
       "\n",
       "[195823 rows x 5 columns]"
      ]
     },
     "execution_count": 79,
     "metadata": {},
     "output_type": "execute_result"
    }
   ],
   "source": [
    "checkouts_byyear = seattle_df.groupby(['Title','Creator', 'Date', 'MaterialType'])[['Checkouts']].sum().reset_index()\n",
    "checkouts_byyear"
   ]
  },
  {
   "cell_type": "code",
   "execution_count": 81,
   "metadata": {},
   "outputs": [
    {
     "data": {
      "text/plain": [
       "<matplotlib.legend.Legend at 0x7fbfd8b0bad0>"
      ]
     },
     "execution_count": 81,
     "metadata": {},
     "output_type": "execute_result"
    },
    {
     "data": {
      "image/png": "[encoded data removed]",
      "text/plain": [
       "<Figure size 1080x504 with 1 Axes>"
      ]
     },
     "metadata": {
      "needs_background": "light"
     },
     "output_type": "display_data"
    }
   ],
   "source": [
    "import seaborn as sns\n",
    "import matplotlib.pyplot as plt\n",
    "\n",
    "plt.figure(figsize=(15,7))\n",
    "\n",
    "creator_filter = checkouts_byyear['Creator'].str.contains('Ferrante')\n",
    "\n",
    "# Use Seaborn to make a line plot\n",
    "sns.lineplot(data= checkouts_byyear[creator_filter],\n",
    "             x='Date', y='Checkouts', hue='Title', lw=3, ci=None)\n",
    "\n",
    "# Put legend to the right\n",
    "plt.legend(bbox_to_anchor=(.3, .8),  loc='center')"
   ]
  },
  {
   "cell_type": "markdown",
   "metadata": {},
   "source": [
    "## Your Turn!"
   ]
  },
  {
   "cell_type": "markdown",
   "metadata": {},
   "source": [
    "Fill in the code with a Title or Creator of your choice."
   ]
  },
  {
   "cell_type": "code",
   "execution_count": null,
   "metadata": {},
   "outputs": [],
   "source": [
    "title_filter = seattle_df['Title'].str.contains('Title Of Your Choice', na=False, case=False)\n",
    "\n",
    "seattle_df[title_filter].resample('M')['Checkouts'].sum().plot()"
   ]
  },
  {
   "cell_type": "code",
   "execution_count": null,
   "metadata": {},
   "outputs": [],
   "source": [
    "plt.figure(figsize=(15,7))\n",
    "\n",
    "creator_filter = checkouts_byyear['Creator'].str.contains('Creator of Your Choice')\n",
    "\n",
    "# Use Seaborn to make a line plot\n",
    "sns.lineplot(data= checkouts_byyear[creator_filter],\n",
    "             x='Date', y='Checkouts', hue='Title', lw=3, ci=None)\n",
    "\n",
    "# Put legend to the right\n",
    "plt.legend(bbox_to_anchor=(.3, .8),  loc='center')"
   ]
  },
  {
   "cell_type": "markdown",
   "metadata": {},
   "source": [
    "If you're getting a lot of variations of titles, make sure you've applied the `clean_title()` function..."
   ]
  },
  {
   "cell_type": "code",
   "execution_count": null,
   "metadata": {},
   "outputs": [],
   "source": [
    "import re\n",
    "\n",
    "def clean_title(title):\n",
    "    \n",
    "    # Replace some words\n",
    "    title = title.lower().replace('(unabridged)', '')\n",
    "    title = title.lower().replace(': a novel', '')\n",
    "    \n",
    "    # Use regex expression to remove everything after / or :\n",
    "    # Test to see if there is a / character\n",
    "    if re.search('.+?(?=/)/', title):\n",
    "        # If so, pull out the text before the / character\n",
    "        title = re.search('.+?(?=/)/', title).group(0)\n",
    "    \n",
    "    # Test to see if there is a : character\n",
    "    if re.search('.+?(?=:)', title):\n",
    "        # If so, pull out the text before the / character\n",
    "        title = re.search('.+?(?=:)', title).group(0)\n",
    "    \n",
    "    # Strip character and whitespace\n",
    "    title = title.strip('/')\n",
    "    title = title.strip()\n",
    "    \n",
    "    title = title.title()\n",
    "    \n",
    "    return title"
   ]
  },
  {
   "cell_type": "code",
   "execution_count": null,
   "metadata": {},
   "outputs": [],
   "source": [
    "seattle_df['Title'] = seattle_df['Title'].apply(clean_title)"
   ]
  }
 ],
 "metadata": {
  "kernelspec": {
   "display_name": "Python 3",
   "language": "python",
   "name": "python3"
  },
  "language_info": {
   "codemirror_mode": {
    "name": "ipython",
    "version": 3
   },
   "file_extension": ".py",
   "mimetype": "text/x-python",
   "name": "python",
   "nbconvert_exporter": "python",
   "pygments_lexer": "ipython3",
   "version": "3.7.6"
  }
 },
 "nbformat": 4,
 "nbformat_minor": 4
}

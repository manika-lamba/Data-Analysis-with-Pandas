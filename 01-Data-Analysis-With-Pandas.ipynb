{
 "cells": [
  {
   "cell_type": "markdown",
   "metadata": {},
   "source": [
    "# Pandas Basics Part 1 — Workbook"
   ]
  },
  {
   "cell_type": "markdown",
   "metadata": {},
   "source": [
    "*If you want to save your work from this notebook, you should be sure to make a copy of it on your own computer.*"
   ]
  },
  {
   "cell_type": "markdown",
   "metadata": {},
   "source": [
    "In this workbook, we're going to explore the basics of the Python library Pandas.\n",
    "\n",
    "## Import Pandas\n",
    "\n",
    "To use the Pandas library, we first need to `import` it."
   ]
  },
  {
   "cell_type": "code",
   "execution_count": 1,
   "metadata": {},
   "outputs": [],
   "source": [
    "import pandas as pd"
   ]
  },
  {
   "cell_type": "markdown",
   "metadata": {},
   "source": [
    "## Change Display Settings"
   ]
  },
  {
   "cell_type": "markdown",
   "metadata": {},
   "source": [
    "By default, Pandas will display 60 rows and 20 columns. I often change [Pandas' default display settings](https://pandas.pydata.org/pandas-docs/stable/user_guide/options.html) to show more rows or columns."
   ]
  },
  {
   "cell_type": "code",
   "execution_count": 2,
   "metadata": {},
   "outputs": [],
   "source": [
    "pd.options.display.max_rows = 200"
   ]
  },
  {
   "cell_type": "markdown",
   "metadata": {},
   "source": [
    "## Get Data"
   ]
  },
  {
   "cell_type": "markdown",
   "metadata": {},
   "source": [
    "To read in a CSV file, we will use the method `pd.read_csv()` and insert the name of our desired file path. "
   ]
  },
  {
   "cell_type": "code",
   "execution_count": 3,
   "metadata": {},
   "outputs": [
    {
     "data": {
      "text/html": [
       "<div>\n",
       "<style scoped>\n",
       "    .dataframe tbody tr th:only-of-type {\n",
       "        vertical-align: middle;\n",
       "    }\n",
       "\n",
       "    .dataframe tbody tr th {\n",
       "        vertical-align: top;\n",
       "    }\n",
       "\n",
       "    .dataframe thead th {\n",
       "        text-align: right;\n",
       "    }\n",
       "</style>\n",
       "<table border=\"1\" class=\"dataframe\">\n",
       "  <thead>\n",
       "    <tr style=\"text-align: right;\">\n",
       "      <th></th>\n",
       "      <th>UsageClass</th>\n",
       "      <th>CheckoutType</th>\n",
       "      <th>MaterialType</th>\n",
       "      <th>CheckoutYear</th>\n",
       "      <th>CheckoutMonth</th>\n",
       "      <th>Checkouts</th>\n",
       "      <th>Title</th>\n",
       "      <th>Creator</th>\n",
       "      <th>Subjects</th>\n",
       "      <th>Publisher</th>\n",
       "      <th>PublicationYear</th>\n",
       "      <th>CheckoutMonthYear</th>\n",
       "    </tr>\n",
       "  </thead>\n",
       "  <tbody>\n",
       "    <tr>\n",
       "      <th>0</th>\n",
       "      <td>Digital</td>\n",
       "      <td>OverDrive</td>\n",
       "      <td>EBOOK</td>\n",
       "      <td>2020</td>\n",
       "      <td>4</td>\n",
       "      <td>23</td>\n",
       "      <td>Eileen: A Novel</td>\n",
       "      <td>Ottessa Moshfegh</td>\n",
       "      <td>Fiction, Literature, Thriller</td>\n",
       "      <td>Penguin Group (USA), Inc.</td>\n",
       "      <td>2015</td>\n",
       "      <td>2020-04</td>\n",
       "    </tr>\n",
       "    <tr>\n",
       "      <th>1</th>\n",
       "      <td>Digital</td>\n",
       "      <td>OverDrive</td>\n",
       "      <td>EBOOK</td>\n",
       "      <td>2020</td>\n",
       "      <td>5</td>\n",
       "      <td>40</td>\n",
       "      <td>The Grammarians: A Novel</td>\n",
       "      <td>Cathleen Schine</td>\n",
       "      <td>Fiction, Literature</td>\n",
       "      <td>Macmillan Publishers</td>\n",
       "      <td>2019</td>\n",
       "      <td>2020-05</td>\n",
       "    </tr>\n",
       "    <tr>\n",
       "      <th>2</th>\n",
       "      <td>Digital</td>\n",
       "      <td>OverDrive</td>\n",
       "      <td>EBOOK</td>\n",
       "      <td>2020</td>\n",
       "      <td>5</td>\n",
       "      <td>50</td>\n",
       "      <td>The Scent Keeper: A Novel</td>\n",
       "      <td>Erica Bauermeister</td>\n",
       "      <td>Fiction, Literature</td>\n",
       "      <td>Macmillan Publishers</td>\n",
       "      <td>2019</td>\n",
       "      <td>2020-05</td>\n",
       "    </tr>\n",
       "    <tr>\n",
       "      <th>3</th>\n",
       "      <td>Physical</td>\n",
       "      <td>Horizon</td>\n",
       "      <td>BOOK</td>\n",
       "      <td>2020</td>\n",
       "      <td>1</td>\n",
       "      <td>355</td>\n",
       "      <td>Exhalation / Ted Chiang.</td>\n",
       "      <td>Chiang, Ted</td>\n",
       "      <td>Science fiction, Short stories</td>\n",
       "      <td>Alfred A. Knopf,</td>\n",
       "      <td>2019.</td>\n",
       "      <td>2020-01</td>\n",
       "    </tr>\n",
       "    <tr>\n",
       "      <th>4</th>\n",
       "      <td>Digital</td>\n",
       "      <td>OverDrive</td>\n",
       "      <td>EBOOK</td>\n",
       "      <td>2020</td>\n",
       "      <td>1</td>\n",
       "      <td>34</td>\n",
       "      <td>Vacationland: True Stories from Painful Beaches</td>\n",
       "      <td>John Hodgman</td>\n",
       "      <td>Biography &amp; Autobiography, Nonfiction, Perform...</td>\n",
       "      <td>Penguin Group (USA), Inc.</td>\n",
       "      <td>2017</td>\n",
       "      <td>2020-01</td>\n",
       "    </tr>\n",
       "    <tr>\n",
       "      <th>...</th>\n",
       "      <td>...</td>\n",
       "      <td>...</td>\n",
       "      <td>...</td>\n",
       "      <td>...</td>\n",
       "      <td>...</td>\n",
       "      <td>...</td>\n",
       "      <td>...</td>\n",
       "      <td>...</td>\n",
       "      <td>...</td>\n",
       "      <td>...</td>\n",
       "      <td>...</td>\n",
       "      <td>...</td>\n",
       "    </tr>\n",
       "    <tr>\n",
       "      <th>34228</th>\n",
       "      <td>Digital</td>\n",
       "      <td>OverDrive</td>\n",
       "      <td>EBOOK</td>\n",
       "      <td>2021</td>\n",
       "      <td>2</td>\n",
       "      <td>111</td>\n",
       "      <td>Why We Sleep: Unlocking the Power of Sleep and...</td>\n",
       "      <td>Matthew Walker</td>\n",
       "      <td>Health &amp; Fitness, Nonfiction, Psychology, Science</td>\n",
       "      <td>Simon &amp; Schuster, Inc.</td>\n",
       "      <td>2017</td>\n",
       "      <td>2021-02</td>\n",
       "    </tr>\n",
       "    <tr>\n",
       "      <th>34229</th>\n",
       "      <td>Digital</td>\n",
       "      <td>OverDrive</td>\n",
       "      <td>EBOOK</td>\n",
       "      <td>2021</td>\n",
       "      <td>2</td>\n",
       "      <td>45</td>\n",
       "      <td>The Topeka School: A Novel</td>\n",
       "      <td>Ben Lerner</td>\n",
       "      <td>Fiction, Literature</td>\n",
       "      <td>Macmillan Publishers</td>\n",
       "      <td>2019</td>\n",
       "      <td>2021-02</td>\n",
       "    </tr>\n",
       "    <tr>\n",
       "      <th>34230</th>\n",
       "      <td>Digital</td>\n",
       "      <td>OverDrive</td>\n",
       "      <td>EBOOK</td>\n",
       "      <td>2021</td>\n",
       "      <td>2</td>\n",
       "      <td>26</td>\n",
       "      <td>Eddie's Boy: The Butcher's Boy Novels, Book 4</td>\n",
       "      <td>Thomas Perry</td>\n",
       "      <td>Fiction, Mystery, Suspense, Thriller</td>\n",
       "      <td>Open Road Integrated Media</td>\n",
       "      <td>2020</td>\n",
       "      <td>2021-02</td>\n",
       "    </tr>\n",
       "    <tr>\n",
       "      <th>34231</th>\n",
       "      <td>Digital</td>\n",
       "      <td>OverDrive</td>\n",
       "      <td>EBOOK</td>\n",
       "      <td>2021</td>\n",
       "      <td>2</td>\n",
       "      <td>21</td>\n",
       "      <td>How to Win Friends and Influence People</td>\n",
       "      <td>Dale Carnegie</td>\n",
       "      <td>Business, Nonfiction, Psychology, Self Help</td>\n",
       "      <td>Simon &amp; Schuster, Inc.</td>\n",
       "      <td>2014</td>\n",
       "      <td>2021-02</td>\n",
       "    </tr>\n",
       "    <tr>\n",
       "      <th>34232</th>\n",
       "      <td>Digital</td>\n",
       "      <td>OverDrive</td>\n",
       "      <td>EBOOK</td>\n",
       "      <td>2021</td>\n",
       "      <td>2</td>\n",
       "      <td>34</td>\n",
       "      <td>Lab Girl</td>\n",
       "      <td>Hope Jahren</td>\n",
       "      <td>Biography &amp; Autobiography, Nature, Nonfiction,...</td>\n",
       "      <td>Random House, Inc.</td>\n",
       "      <td>2016</td>\n",
       "      <td>2021-02</td>\n",
       "    </tr>\n",
       "  </tbody>\n",
       "</table>\n",
       "<p>34233 rows × 12 columns</p>\n",
       "</div>"
      ],
      "text/plain": [
       "      UsageClass CheckoutType MaterialType  CheckoutYear  CheckoutMonth  \\\n",
       "0        Digital    OverDrive        EBOOK          2020              4   \n",
       "1        Digital    OverDrive        EBOOK          2020              5   \n",
       "2        Digital    OverDrive        EBOOK          2020              5   \n",
       "3       Physical      Horizon         BOOK          2020              1   \n",
       "4        Digital    OverDrive        EBOOK          2020              1   \n",
       "...          ...          ...          ...           ...            ...   \n",
       "34228    Digital    OverDrive        EBOOK          2021              2   \n",
       "34229    Digital    OverDrive        EBOOK          2021              2   \n",
       "34230    Digital    OverDrive        EBOOK          2021              2   \n",
       "34231    Digital    OverDrive        EBOOK          2021              2   \n",
       "34232    Digital    OverDrive        EBOOK          2021              2   \n",
       "\n",
       "       Checkouts                                              Title  \\\n",
       "0             23                                    Eileen: A Novel   \n",
       "1             40                           The Grammarians: A Novel   \n",
       "2             50                          The Scent Keeper: A Novel   \n",
       "3            355                           Exhalation / Ted Chiang.   \n",
       "4             34    Vacationland: True Stories from Painful Beaches   \n",
       "...          ...                                                ...   \n",
       "34228        111  Why We Sleep: Unlocking the Power of Sleep and...   \n",
       "34229         45                         The Topeka School: A Novel   \n",
       "34230         26      Eddie's Boy: The Butcher's Boy Novels, Book 4   \n",
       "34231         21            How to Win Friends and Influence People   \n",
       "34232         34                                           Lab Girl   \n",
       "\n",
       "                  Creator                                           Subjects  \\\n",
       "0        Ottessa Moshfegh                      Fiction, Literature, Thriller   \n",
       "1         Cathleen Schine                                Fiction, Literature   \n",
       "2      Erica Bauermeister                                Fiction, Literature   \n",
       "3             Chiang, Ted                     Science fiction, Short stories   \n",
       "4            John Hodgman  Biography & Autobiography, Nonfiction, Perform...   \n",
       "...                   ...                                                ...   \n",
       "34228      Matthew Walker  Health & Fitness, Nonfiction, Psychology, Science   \n",
       "34229          Ben Lerner                                Fiction, Literature   \n",
       "34230        Thomas Perry               Fiction, Mystery, Suspense, Thriller   \n",
       "34231       Dale Carnegie        Business, Nonfiction, Psychology, Self Help   \n",
       "34232         Hope Jahren  Biography & Autobiography, Nature, Nonfiction,...   \n",
       "\n",
       "                        Publisher PublicationYear CheckoutMonthYear  \n",
       "0       Penguin Group (USA), Inc.            2015           2020-04  \n",
       "1            Macmillan Publishers            2019           2020-05  \n",
       "2            Macmillan Publishers            2019           2020-05  \n",
       "3                Alfred A. Knopf,           2019.           2020-01  \n",
       "4       Penguin Group (USA), Inc.            2017           2020-01  \n",
       "...                           ...             ...               ...  \n",
       "34228      Simon & Schuster, Inc.            2017           2021-02  \n",
       "34229        Macmillan Publishers            2019           2021-02  \n",
       "34230  Open Road Integrated Media            2020           2021-02  \n",
       "34231      Simon & Schuster, Inc.            2014           2021-02  \n",
       "34232          Random House, Inc.            2016           2021-02  \n",
       "\n",
       "[34233 rows x 12 columns]"
      ]
     },
     "execution_count": 3,
     "metadata": {},
     "output_type": "execute_result"
    }
   ],
   "source": [
    "pd.read_csv('Seattle-Library_2020-2021.csv')"
   ]
  },
  {
   "cell_type": "code",
   "execution_count": 4,
   "metadata": {},
   "outputs": [
    {
     "data": {
      "text/plain": [
       "pandas.core.frame.DataFrame"
      ]
     },
     "execution_count": 4,
     "metadata": {},
     "output_type": "execute_result"
    }
   ],
   "source": [
    "type(pd.read_csv('Seattle-Library_2020-2021.csv'))"
   ]
  },
  {
   "cell_type": "markdown",
   "metadata": {},
   "source": [
    "This creates a Pandas [DataFrame object](https://pandas.pydata.org/pandas-docs/stable/user_guide/dsintro.html#dataframe), one of the two main data structures in Pandas. A DataFrame looks and acts a lot like a spreadsheet, but it has special powers and functions that we will discuss below and in the next few lessons.\n",
    "\n",
    "| Pandas objects | Explanation                         |\n",
    "|----------|-------------------------------------|\n",
    "| `DataFrame`    | Like a spreadsheet, 2-dimensional    |\n",
    "| `Series`      | Like a column, 1-dimensional                     |\n",
    "\n",
    "We assign the DataFrame to a variable called `seattle_df`. It is common convention to name DataFrame variables `df`, but we want to be a bit more specific. "
   ]
  },
  {
   "cell_type": "code",
   "execution_count": 5,
   "metadata": {},
   "outputs": [],
   "source": [
    "seattle_df = pd.read_csv('Seattle-Library_2020-2021.csv')"
   ]
  },
  {
   "cell_type": "markdown",
   "metadata": {},
   "source": [
    "## Begin to Examine Patterns"
   ]
  },
  {
   "cell_type": "markdown",
   "metadata": {},
   "source": [
    "### Select Columns as Series Objects `[]`"
   ]
  },
  {
   "cell_type": "markdown",
   "metadata": {},
   "source": [
    "To select a column from the DataFrame, we will type the name of the DataFrame followed by square brackets and a column name in quotations marks."
   ]
  },
  {
   "cell_type": "code",
   "execution_count": 6,
   "metadata": {},
   "outputs": [
    {
     "data": {
      "text/plain": [
       "0                                          Eileen: A Novel\n",
       "1                                 The Grammarians: A Novel\n",
       "2                                The Scent Keeper: A Novel\n",
       "3                                 Exhalation / Ted Chiang.\n",
       "4          Vacationland: True Stories from Painful Beaches\n",
       "                               ...                        \n",
       "34228    Why We Sleep: Unlocking the Power of Sleep and...\n",
       "34229                           The Topeka School: A Novel\n",
       "34230        Eddie's Boy: The Butcher's Boy Novels, Book 4\n",
       "34231              How to Win Friends and Influence People\n",
       "34232                                             Lab Girl\n",
       "Name: Title, Length: 34233, dtype: object"
      ]
     },
     "execution_count": 6,
     "metadata": {},
     "output_type": "execute_result"
    }
   ],
   "source": [
    "seattle_df['Title']"
   ]
  },
  {
   "cell_type": "markdown",
   "metadata": {},
   "source": [
    "Technically, a single column in a DataFrame is a [*Series* object](https://pandas.pydata.org/pandas-docs/stable/user_guide/dsintro.html#dsintro)."
   ]
  },
  {
   "cell_type": "code",
   "execution_count": 7,
   "metadata": {},
   "outputs": [
    {
     "data": {
      "text/plain": [
       "pandas.core.series.Series"
      ]
     },
     "execution_count": 7,
     "metadata": {},
     "output_type": "execute_result"
    }
   ],
   "source": [
    "type(seattle_df['Title'])"
   ]
  },
  {
   "cell_type": "markdown",
   "metadata": {},
   "source": [
    "## Pandas Methods"
   ]
  },
  {
   "cell_type": "markdown",
   "metadata": {},
   "source": [
    "| Pandas method | Explanation                         |\n",
    "|----------|-------------------------------------|\n",
    "| `.sum()`      | Sum of values                       |\n",
    "| `.mean()`     | Mean of values                      |\n",
    "| `.median()`   | Median of values         |\n",
    "| `.min()`      | Minimum                             |\n",
    "| `.max()`      | Maximum                             |\n",
    "| `.mode()`     | Mode                                |\n",
    "| `.std()`      | Unbiased standard deviation         |\n",
    "| `.count()`    | Total number of non-blank values    |\n",
    "| `.value_counts()` | Frequency of unique values |"
   ]
  },
  {
   "cell_type": "markdown",
   "metadata": {},
   "source": [
    "### ❓  How many check outs per month on average?"
   ]
  },
  {
   "cell_type": "code",
   "execution_count": 9,
   "metadata": {},
   "outputs": [
    {
     "data": {
      "text/plain": [
       "51.66698799404084"
      ]
     },
     "execution_count": 9,
     "metadata": {},
     "output_type": "execute_result"
    }
   ],
   "source": [
    "seattle_df['Checkouts'].mean()"
   ]
  },
  {
   "cell_type": "markdown",
   "metadata": {},
   "source": [
    "### ❓  What is the maximum number of checkouts per month?"
   ]
  },
  {
   "cell_type": "code",
   "execution_count": 10,
   "metadata": {},
   "outputs": [
    {
     "data": {
      "text/plain": [
       "4903"
      ]
     },
     "execution_count": 10,
     "metadata": {},
     "output_type": "execute_result"
    }
   ],
   "source": [
    "seattle_df['Checkouts'].max()"
   ]
  },
  {
   "cell_type": "markdown",
   "metadata": {},
   "source": [
    "### ❓  What is the minimum number of checkouts per month?"
   ]
  },
  {
   "cell_type": "code",
   "execution_count": 11,
   "metadata": {},
   "outputs": [
    {
     "data": {
      "text/plain": [
       "21"
      ]
     },
     "execution_count": 11,
     "metadata": {},
     "output_type": "execute_result"
    }
   ],
   "source": [
    "seattle_df['Checkouts'].min()"
   ]
  },
  {
   "cell_type": "markdown",
   "metadata": {},
   "source": [
    "### ❓ What are the most common Material Types?"
   ]
  },
  {
   "cell_type": "markdown",
   "metadata": {},
   "source": [
    "To count the values in a column, we can use the `.value_counts()` method.\n",
    "\n",
    "What patterns do you notice in this list?"
   ]
  },
  {
   "cell_type": "code",
   "execution_count": 15,
   "metadata": {},
   "outputs": [
    {
     "data": {
      "text/plain": [
       "EBOOK            16174\n",
       "AUDIOBOOK        11174\n",
       "BOOK              4340\n",
       "VIDEODISC         2384\n",
       "SOUNDDISC           97\n",
       "REGPRINT            35\n",
       "MIXED               21\n",
       "CR                   4\n",
       "ER                   2\n",
       "LARGEPRINT           1\n",
       "ER, VIDEODISC        1\n",
       "Name: MaterialType, dtype: int64"
      ]
     },
     "execution_count": 15,
     "metadata": {},
     "output_type": "execute_result"
    }
   ],
   "source": [
    "seattle_df['MaterialType'].value_counts()"
   ]
  },
  {
   "cell_type": "markdown",
   "metadata": {},
   "source": [
    "## Examine Subsets"
   ]
  },
  {
   "cell_type": "markdown",
   "metadata": {},
   "source": [
    "### ❓  Why were people being sent to Hostpital Ward 38?"
   ]
  },
  {
   "cell_type": "markdown",
   "metadata": {},
   "source": [
    "To explore this question, we can filter rows with a condition."
   ]
  },
  {
   "cell_type": "code",
   "execution_count": 16,
   "metadata": {},
   "outputs": [
    {
     "data": {
      "text/plain": [
       "0        False\n",
       "1        False\n",
       "2        False\n",
       "3         True\n",
       "4        False\n",
       "         ...  \n",
       "34228     True\n",
       "34229    False\n",
       "34230    False\n",
       "34231    False\n",
       "34232    False\n",
       "Name: Checkouts, Length: 34233, dtype: bool"
      ]
     },
     "execution_count": 16,
     "metadata": {},
     "output_type": "execute_result"
    }
   ],
   "source": [
    "seattle_df['Checkouts'] > 100"
   ]
  },
  {
   "cell_type": "code",
   "execution_count": 17,
   "metadata": {},
   "outputs": [
    {
     "data": {
      "text/html": [
       "<div>\n",
       "<style scoped>\n",
       "    .dataframe tbody tr th:only-of-type {\n",
       "        vertical-align: middle;\n",
       "    }\n",
       "\n",
       "    .dataframe tbody tr th {\n",
       "        vertical-align: top;\n",
       "    }\n",
       "\n",
       "    .dataframe thead th {\n",
       "        text-align: right;\n",
       "    }\n",
       "</style>\n",
       "<table border=\"1\" class=\"dataframe\">\n",
       "  <thead>\n",
       "    <tr style=\"text-align: right;\">\n",
       "      <th></th>\n",
       "      <th>UsageClass</th>\n",
       "      <th>CheckoutType</th>\n",
       "      <th>MaterialType</th>\n",
       "      <th>CheckoutYear</th>\n",
       "      <th>CheckoutMonth</th>\n",
       "      <th>Checkouts</th>\n",
       "      <th>Title</th>\n",
       "      <th>Creator</th>\n",
       "      <th>Subjects</th>\n",
       "      <th>Publisher</th>\n",
       "      <th>PublicationYear</th>\n",
       "      <th>CheckoutMonthYear</th>\n",
       "    </tr>\n",
       "  </thead>\n",
       "  <tbody>\n",
       "    <tr>\n",
       "      <th>3</th>\n",
       "      <td>Physical</td>\n",
       "      <td>Horizon</td>\n",
       "      <td>BOOK</td>\n",
       "      <td>2020</td>\n",
       "      <td>1</td>\n",
       "      <td>355</td>\n",
       "      <td>Exhalation / Ted Chiang.</td>\n",
       "      <td>Chiang, Ted</td>\n",
       "      <td>Science fiction, Short stories</td>\n",
       "      <td>Alfred A. Knopf,</td>\n",
       "      <td>2019.</td>\n",
       "      <td>2020-01</td>\n",
       "    </tr>\n",
       "    <tr>\n",
       "      <th>8</th>\n",
       "      <td>Digital</td>\n",
       "      <td>OverDrive</td>\n",
       "      <td>EBOOK</td>\n",
       "      <td>2020</td>\n",
       "      <td>1</td>\n",
       "      <td>218</td>\n",
       "      <td>Between the World and Me</td>\n",
       "      <td>Ta-Nehisi Coates</td>\n",
       "      <td>African American Nonfiction, Biography &amp; Autob...</td>\n",
       "      <td>Random House, Inc.</td>\n",
       "      <td>2015</td>\n",
       "      <td>2020-01</td>\n",
       "    </tr>\n",
       "    <tr>\n",
       "      <th>41</th>\n",
       "      <td>Digital</td>\n",
       "      <td>OverDrive</td>\n",
       "      <td>AUDIOBOOK</td>\n",
       "      <td>2020</td>\n",
       "      <td>1</td>\n",
       "      <td>101</td>\n",
       "      <td>Gone Girl: A Novel (unabridged) (Unabridged)</td>\n",
       "      <td>Gillian Flynn</td>\n",
       "      <td>Fiction, Mystery, Suspense, Thriller</td>\n",
       "      <td>Books on Tape</td>\n",
       "      <td>2012</td>\n",
       "      <td>2020-01</td>\n",
       "    </tr>\n",
       "    <tr>\n",
       "      <th>46</th>\n",
       "      <td>Digital</td>\n",
       "      <td>OverDrive</td>\n",
       "      <td>EBOOK</td>\n",
       "      <td>2020</td>\n",
       "      <td>1</td>\n",
       "      <td>103</td>\n",
       "      <td>Sharp Objects: A Novel</td>\n",
       "      <td>Gillian Flynn</td>\n",
       "      <td>Fiction, Mystery, Suspense, Thriller</td>\n",
       "      <td>Random House, Inc.</td>\n",
       "      <td>2009</td>\n",
       "      <td>2020-01</td>\n",
       "    </tr>\n",
       "    <tr>\n",
       "      <th>59</th>\n",
       "      <td>Digital</td>\n",
       "      <td>OverDrive</td>\n",
       "      <td>EBOOK</td>\n",
       "      <td>2020</td>\n",
       "      <td>1</td>\n",
       "      <td>162</td>\n",
       "      <td>The Guardians: A Novel</td>\n",
       "      <td>John Grisham</td>\n",
       "      <td>Fiction, Literature, Suspense, Thriller</td>\n",
       "      <td>Random House, Inc.</td>\n",
       "      <td>2019</td>\n",
       "      <td>2020-01</td>\n",
       "    </tr>\n",
       "    <tr>\n",
       "      <th>...</th>\n",
       "      <td>...</td>\n",
       "      <td>...</td>\n",
       "      <td>...</td>\n",
       "      <td>...</td>\n",
       "      <td>...</td>\n",
       "      <td>...</td>\n",
       "      <td>...</td>\n",
       "      <td>...</td>\n",
       "      <td>...</td>\n",
       "      <td>...</td>\n",
       "      <td>...</td>\n",
       "      <td>...</td>\n",
       "    </tr>\n",
       "    <tr>\n",
       "      <th>34167</th>\n",
       "      <td>Digital</td>\n",
       "      <td>OverDrive</td>\n",
       "      <td>AUDIOBOOK</td>\n",
       "      <td>2021</td>\n",
       "      <td>2</td>\n",
       "      <td>122</td>\n",
       "      <td>Dear Girls: Intimate Tales, Untold Secrets &amp; A...</td>\n",
       "      <td>Ali Wong</td>\n",
       "      <td>Biography &amp; Autobiography, Essays, Humor (Nonf...</td>\n",
       "      <td>Books on Tape</td>\n",
       "      <td>2019</td>\n",
       "      <td>2021-02</td>\n",
       "    </tr>\n",
       "    <tr>\n",
       "      <th>34181</th>\n",
       "      <td>Digital</td>\n",
       "      <td>OverDrive</td>\n",
       "      <td>EBOOK</td>\n",
       "      <td>2021</td>\n",
       "      <td>2</td>\n",
       "      <td>111</td>\n",
       "      <td>The Great Influenza: The Epic Story of the Dea...</td>\n",
       "      <td>John M. Barry</td>\n",
       "      <td>History, Medical, Nonfiction</td>\n",
       "      <td>Penguin Group (USA), Inc.</td>\n",
       "      <td>2008</td>\n",
       "      <td>2021-02</td>\n",
       "    </tr>\n",
       "    <tr>\n",
       "      <th>34188</th>\n",
       "      <td>Digital</td>\n",
       "      <td>OverDrive</td>\n",
       "      <td>AUDIOBOOK</td>\n",
       "      <td>2021</td>\n",
       "      <td>2</td>\n",
       "      <td>316</td>\n",
       "      <td>Caste (Oprah's Book Club): The Origins of Our ...</td>\n",
       "      <td>Isabel Wilkerson</td>\n",
       "      <td>History, Nonfiction, Sociology</td>\n",
       "      <td>Books on Tape</td>\n",
       "      <td>2020</td>\n",
       "      <td>2021-02</td>\n",
       "    </tr>\n",
       "    <tr>\n",
       "      <th>34190</th>\n",
       "      <td>Digital</td>\n",
       "      <td>OverDrive</td>\n",
       "      <td>EBOOK</td>\n",
       "      <td>2021</td>\n",
       "      <td>2</td>\n",
       "      <td>278</td>\n",
       "      <td>Bridgerton Collection, Volume 1: Bridgerton Se...</td>\n",
       "      <td>Julia Quinn</td>\n",
       "      <td>Fiction, Historical Fiction, Romance</td>\n",
       "      <td>HarperCollins Publishers Inc.</td>\n",
       "      <td>2020</td>\n",
       "      <td>2021-02</td>\n",
       "    </tr>\n",
       "    <tr>\n",
       "      <th>34228</th>\n",
       "      <td>Digital</td>\n",
       "      <td>OverDrive</td>\n",
       "      <td>EBOOK</td>\n",
       "      <td>2021</td>\n",
       "      <td>2</td>\n",
       "      <td>111</td>\n",
       "      <td>Why We Sleep: Unlocking the Power of Sleep and...</td>\n",
       "      <td>Matthew Walker</td>\n",
       "      <td>Health &amp; Fitness, Nonfiction, Psychology, Science</td>\n",
       "      <td>Simon &amp; Schuster, Inc.</td>\n",
       "      <td>2017</td>\n",
       "      <td>2021-02</td>\n",
       "    </tr>\n",
       "  </tbody>\n",
       "</table>\n",
       "<p>3148 rows × 12 columns</p>\n",
       "</div>"
      ],
      "text/plain": [
       "      UsageClass CheckoutType MaterialType  CheckoutYear  CheckoutMonth  \\\n",
       "3       Physical      Horizon         BOOK          2020              1   \n",
       "8        Digital    OverDrive        EBOOK          2020              1   \n",
       "41       Digital    OverDrive    AUDIOBOOK          2020              1   \n",
       "46       Digital    OverDrive        EBOOK          2020              1   \n",
       "59       Digital    OverDrive        EBOOK          2020              1   \n",
       "...          ...          ...          ...           ...            ...   \n",
       "34167    Digital    OverDrive    AUDIOBOOK          2021              2   \n",
       "34181    Digital    OverDrive        EBOOK          2021              2   \n",
       "34188    Digital    OverDrive    AUDIOBOOK          2021              2   \n",
       "34190    Digital    OverDrive        EBOOK          2021              2   \n",
       "34228    Digital    OverDrive        EBOOK          2021              2   \n",
       "\n",
       "       Checkouts                                              Title  \\\n",
       "3            355                           Exhalation / Ted Chiang.   \n",
       "8            218                           Between the World and Me   \n",
       "41           101       Gone Girl: A Novel (unabridged) (Unabridged)   \n",
       "46           103                             Sharp Objects: A Novel   \n",
       "59           162                             The Guardians: A Novel   \n",
       "...          ...                                                ...   \n",
       "34167        122  Dear Girls: Intimate Tales, Untold Secrets & A...   \n",
       "34181        111  The Great Influenza: The Epic Story of the Dea...   \n",
       "34188        316  Caste (Oprah's Book Club): The Origins of Our ...   \n",
       "34190        278  Bridgerton Collection, Volume 1: Bridgerton Se...   \n",
       "34228        111  Why We Sleep: Unlocking the Power of Sleep and...   \n",
       "\n",
       "                Creator                                           Subjects  \\\n",
       "3           Chiang, Ted                     Science fiction, Short stories   \n",
       "8      Ta-Nehisi Coates  African American Nonfiction, Biography & Autob...   \n",
       "41        Gillian Flynn               Fiction, Mystery, Suspense, Thriller   \n",
       "46        Gillian Flynn               Fiction, Mystery, Suspense, Thriller   \n",
       "59         John Grisham            Fiction, Literature, Suspense, Thriller   \n",
       "...                 ...                                                ...   \n",
       "34167          Ali Wong  Biography & Autobiography, Essays, Humor (Nonf...   \n",
       "34181     John M. Barry                       History, Medical, Nonfiction   \n",
       "34188  Isabel Wilkerson                     History, Nonfiction, Sociology   \n",
       "34190       Julia Quinn               Fiction, Historical Fiction, Romance   \n",
       "34228    Matthew Walker  Health & Fitness, Nonfiction, Psychology, Science   \n",
       "\n",
       "                           Publisher PublicationYear CheckoutMonthYear  \n",
       "3                   Alfred A. Knopf,           2019.           2020-01  \n",
       "8                 Random House, Inc.            2015           2020-01  \n",
       "41                     Books on Tape            2012           2020-01  \n",
       "46                Random House, Inc.            2009           2020-01  \n",
       "59                Random House, Inc.            2019           2020-01  \n",
       "...                              ...             ...               ...  \n",
       "34167                  Books on Tape            2019           2021-02  \n",
       "34181      Penguin Group (USA), Inc.            2008           2021-02  \n",
       "34188                  Books on Tape            2020           2021-02  \n",
       "34190  HarperCollins Publishers Inc.            2020           2021-02  \n",
       "34228         Simon & Schuster, Inc.            2017           2021-02  \n",
       "\n",
       "[3148 rows x 12 columns]"
      ]
     },
     "execution_count": 17,
     "metadata": {},
     "output_type": "execute_result"
    }
   ],
   "source": [
    "seattle_df[seattle_df['Checkouts'] > 100]"
   ]
  },
  {
   "cell_type": "markdown",
   "metadata": {},
   "source": [
    "## ❓  What data is missing? What data do you wish we had?"
   ]
  },
  {
   "cell_type": "markdown",
   "metadata": {},
   "source": [
    "## Overview"
   ]
  },
  {
   "cell_type": "markdown",
   "metadata": {},
   "source": [
    "Generate descriptive statistics for all the columns in the data "
   ]
  },
  {
   "cell_type": "code",
   "execution_count": 18,
   "metadata": {},
   "outputs": [
    {
     "data": {
      "text/html": [
       "<div>\n",
       "<style scoped>\n",
       "    .dataframe tbody tr th:only-of-type {\n",
       "        vertical-align: middle;\n",
       "    }\n",
       "\n",
       "    .dataframe tbody tr th {\n",
       "        vertical-align: top;\n",
       "    }\n",
       "\n",
       "    .dataframe thead th {\n",
       "        text-align: right;\n",
       "    }\n",
       "</style>\n",
       "<table border=\"1\" class=\"dataframe\">\n",
       "  <thead>\n",
       "    <tr style=\"text-align: right;\">\n",
       "      <th></th>\n",
       "      <th>CheckoutYear</th>\n",
       "      <th>CheckoutMonth</th>\n",
       "      <th>Checkouts</th>\n",
       "    </tr>\n",
       "  </thead>\n",
       "  <tbody>\n",
       "    <tr>\n",
       "      <th>count</th>\n",
       "      <td>34233.000000</td>\n",
       "      <td>34233.000000</td>\n",
       "      <td>34233.000000</td>\n",
       "    </tr>\n",
       "    <tr>\n",
       "      <th>mean</th>\n",
       "      <td>2020.148629</td>\n",
       "      <td>5.350831</td>\n",
       "      <td>51.666988</td>\n",
       "    </tr>\n",
       "    <tr>\n",
       "      <th>std</th>\n",
       "      <td>0.355727</td>\n",
       "      <td>3.819019</td>\n",
       "      <td>67.480043</td>\n",
       "    </tr>\n",
       "    <tr>\n",
       "      <th>min</th>\n",
       "      <td>2020.000000</td>\n",
       "      <td>1.000000</td>\n",
       "      <td>21.000000</td>\n",
       "    </tr>\n",
       "    <tr>\n",
       "      <th>25%</th>\n",
       "      <td>2020.000000</td>\n",
       "      <td>2.000000</td>\n",
       "      <td>25.000000</td>\n",
       "    </tr>\n",
       "    <tr>\n",
       "      <th>50%</th>\n",
       "      <td>2020.000000</td>\n",
       "      <td>5.000000</td>\n",
       "      <td>33.000000</td>\n",
       "    </tr>\n",
       "    <tr>\n",
       "      <th>75%</th>\n",
       "      <td>2020.000000</td>\n",
       "      <td>9.000000</td>\n",
       "      <td>53.000000</td>\n",
       "    </tr>\n",
       "    <tr>\n",
       "      <th>max</th>\n",
       "      <td>2021.000000</td>\n",
       "      <td>12.000000</td>\n",
       "      <td>4903.000000</td>\n",
       "    </tr>\n",
       "  </tbody>\n",
       "</table>\n",
       "</div>"
      ],
      "text/plain": [
       "       CheckoutYear  CheckoutMonth     Checkouts\n",
       "count  34233.000000   34233.000000  34233.000000\n",
       "mean    2020.148629       5.350831     51.666988\n",
       "std        0.355727       3.819019     67.480043\n",
       "min     2020.000000       1.000000     21.000000\n",
       "25%     2020.000000       2.000000     25.000000\n",
       "50%     2020.000000       5.000000     33.000000\n",
       "75%     2020.000000       9.000000     53.000000\n",
       "max     2021.000000      12.000000   4903.000000"
      ]
     },
     "execution_count": 18,
     "metadata": {},
     "output_type": "execute_result"
    }
   ],
   "source": [
    "seattle_df.describe()"
   ]
  },
  {
   "cell_type": "code",
   "execution_count": 19,
   "metadata": {},
   "outputs": [
    {
     "data": {
      "text/html": [
       "<div>\n",
       "<style scoped>\n",
       "    .dataframe tbody tr th:only-of-type {\n",
       "        vertical-align: middle;\n",
       "    }\n",
       "\n",
       "    .dataframe tbody tr th {\n",
       "        vertical-align: top;\n",
       "    }\n",
       "\n",
       "    .dataframe thead th {\n",
       "        text-align: right;\n",
       "    }\n",
       "</style>\n",
       "<table border=\"1\" class=\"dataframe\">\n",
       "  <thead>\n",
       "    <tr style=\"text-align: right;\">\n",
       "      <th></th>\n",
       "      <th>UsageClass</th>\n",
       "      <th>CheckoutType</th>\n",
       "      <th>MaterialType</th>\n",
       "      <th>CheckoutYear</th>\n",
       "      <th>CheckoutMonth</th>\n",
       "      <th>Checkouts</th>\n",
       "      <th>Title</th>\n",
       "      <th>Creator</th>\n",
       "      <th>Subjects</th>\n",
       "      <th>Publisher</th>\n",
       "      <th>PublicationYear</th>\n",
       "      <th>CheckoutMonthYear</th>\n",
       "    </tr>\n",
       "  </thead>\n",
       "  <tbody>\n",
       "    <tr>\n",
       "      <th>count</th>\n",
       "      <td>34233</td>\n",
       "      <td>34233</td>\n",
       "      <td>34233</td>\n",
       "      <td>34233.000000</td>\n",
       "      <td>34233.000000</td>\n",
       "      <td>34233.000000</td>\n",
       "      <td>34233</td>\n",
       "      <td>31701</td>\n",
       "      <td>34156</td>\n",
       "      <td>34184</td>\n",
       "      <td>34162</td>\n",
       "      <td>34233</td>\n",
       "    </tr>\n",
       "    <tr>\n",
       "      <th>unique</th>\n",
       "      <td>2</td>\n",
       "      <td>2</td>\n",
       "      <td>11</td>\n",
       "      <td>NaN</td>\n",
       "      <td>NaN</td>\n",
       "      <td>NaN</td>\n",
       "      <td>7685</td>\n",
       "      <td>3225</td>\n",
       "      <td>3687</td>\n",
       "      <td>848</td>\n",
       "      <td>148</td>\n",
       "      <td>14</td>\n",
       "    </tr>\n",
       "    <tr>\n",
       "      <th>top</th>\n",
       "      <td>Digital</td>\n",
       "      <td>OverDrive</td>\n",
       "      <td>EBOOK</td>\n",
       "      <td>NaN</td>\n",
       "      <td>NaN</td>\n",
       "      <td>NaN</td>\n",
       "      <td>Little Women: Little Women Series, Book 1</td>\n",
       "      <td>David Baldacci</td>\n",
       "      <td>Fiction, Literature</td>\n",
       "      <td>Random House, Inc.</td>\n",
       "      <td>2020</td>\n",
       "      <td>2020-01</td>\n",
       "    </tr>\n",
       "    <tr>\n",
       "      <th>freq</th>\n",
       "      <td>27348</td>\n",
       "      <td>27348</td>\n",
       "      <td>16174</td>\n",
       "      <td>NaN</td>\n",
       "      <td>NaN</td>\n",
       "      <td>NaN</td>\n",
       "      <td>22</td>\n",
       "      <td>224</td>\n",
       "      <td>2874</td>\n",
       "      <td>4605</td>\n",
       "      <td>6100</td>\n",
       "      <td>4180</td>\n",
       "    </tr>\n",
       "    <tr>\n",
       "      <th>mean</th>\n",
       "      <td>NaN</td>\n",
       "      <td>NaN</td>\n",
       "      <td>NaN</td>\n",
       "      <td>2020.148629</td>\n",
       "      <td>5.350831</td>\n",
       "      <td>51.666988</td>\n",
       "      <td>NaN</td>\n",
       "      <td>NaN</td>\n",
       "      <td>NaN</td>\n",
       "      <td>NaN</td>\n",
       "      <td>NaN</td>\n",
       "      <td>NaN</td>\n",
       "    </tr>\n",
       "    <tr>\n",
       "      <th>std</th>\n",
       "      <td>NaN</td>\n",
       "      <td>NaN</td>\n",
       "      <td>NaN</td>\n",
       "      <td>0.355727</td>\n",
       "      <td>3.819019</td>\n",
       "      <td>67.480043</td>\n",
       "      <td>NaN</td>\n",
       "      <td>NaN</td>\n",
       "      <td>NaN</td>\n",
       "      <td>NaN</td>\n",
       "      <td>NaN</td>\n",
       "      <td>NaN</td>\n",
       "    </tr>\n",
       "    <tr>\n",
       "      <th>min</th>\n",
       "      <td>NaN</td>\n",
       "      <td>NaN</td>\n",
       "      <td>NaN</td>\n",
       "      <td>2020.000000</td>\n",
       "      <td>1.000000</td>\n",
       "      <td>21.000000</td>\n",
       "      <td>NaN</td>\n",
       "      <td>NaN</td>\n",
       "      <td>NaN</td>\n",
       "      <td>NaN</td>\n",
       "      <td>NaN</td>\n",
       "      <td>NaN</td>\n",
       "    </tr>\n",
       "    <tr>\n",
       "      <th>25%</th>\n",
       "      <td>NaN</td>\n",
       "      <td>NaN</td>\n",
       "      <td>NaN</td>\n",
       "      <td>2020.000000</td>\n",
       "      <td>2.000000</td>\n",
       "      <td>25.000000</td>\n",
       "      <td>NaN</td>\n",
       "      <td>NaN</td>\n",
       "      <td>NaN</td>\n",
       "      <td>NaN</td>\n",
       "      <td>NaN</td>\n",
       "      <td>NaN</td>\n",
       "    </tr>\n",
       "    <tr>\n",
       "      <th>50%</th>\n",
       "      <td>NaN</td>\n",
       "      <td>NaN</td>\n",
       "      <td>NaN</td>\n",
       "      <td>2020.000000</td>\n",
       "      <td>5.000000</td>\n",
       "      <td>33.000000</td>\n",
       "      <td>NaN</td>\n",
       "      <td>NaN</td>\n",
       "      <td>NaN</td>\n",
       "      <td>NaN</td>\n",
       "      <td>NaN</td>\n",
       "      <td>NaN</td>\n",
       "    </tr>\n",
       "    <tr>\n",
       "      <th>75%</th>\n",
       "      <td>NaN</td>\n",
       "      <td>NaN</td>\n",
       "      <td>NaN</td>\n",
       "      <td>2020.000000</td>\n",
       "      <td>9.000000</td>\n",
       "      <td>53.000000</td>\n",
       "      <td>NaN</td>\n",
       "      <td>NaN</td>\n",
       "      <td>NaN</td>\n",
       "      <td>NaN</td>\n",
       "      <td>NaN</td>\n",
       "      <td>NaN</td>\n",
       "    </tr>\n",
       "    <tr>\n",
       "      <th>max</th>\n",
       "      <td>NaN</td>\n",
       "      <td>NaN</td>\n",
       "      <td>NaN</td>\n",
       "      <td>2021.000000</td>\n",
       "      <td>12.000000</td>\n",
       "      <td>4903.000000</td>\n",
       "      <td>NaN</td>\n",
       "      <td>NaN</td>\n",
       "      <td>NaN</td>\n",
       "      <td>NaN</td>\n",
       "      <td>NaN</td>\n",
       "      <td>NaN</td>\n",
       "    </tr>\n",
       "  </tbody>\n",
       "</table>\n",
       "</div>"
      ],
      "text/plain": [
       "       UsageClass CheckoutType MaterialType  CheckoutYear  CheckoutMonth  \\\n",
       "count       34233        34233        34233  34233.000000   34233.000000   \n",
       "unique          2            2           11           NaN            NaN   \n",
       "top       Digital    OverDrive        EBOOK           NaN            NaN   \n",
       "freq        27348        27348        16174           NaN            NaN   \n",
       "mean          NaN          NaN          NaN   2020.148629       5.350831   \n",
       "std           NaN          NaN          NaN      0.355727       3.819019   \n",
       "min           NaN          NaN          NaN   2020.000000       1.000000   \n",
       "25%           NaN          NaN          NaN   2020.000000       2.000000   \n",
       "50%           NaN          NaN          NaN   2020.000000       5.000000   \n",
       "75%           NaN          NaN          NaN   2020.000000       9.000000   \n",
       "max           NaN          NaN          NaN   2021.000000      12.000000   \n",
       "\n",
       "           Checkouts                                      Title  \\\n",
       "count   34233.000000                                      34233   \n",
       "unique           NaN                                       7685   \n",
       "top              NaN  Little Women: Little Women Series, Book 1   \n",
       "freq             NaN                                         22   \n",
       "mean       51.666988                                        NaN   \n",
       "std        67.480043                                        NaN   \n",
       "min        21.000000                                        NaN   \n",
       "25%        25.000000                                        NaN   \n",
       "50%        33.000000                                        NaN   \n",
       "75%        53.000000                                        NaN   \n",
       "max      4903.000000                                        NaN   \n",
       "\n",
       "               Creator             Subjects           Publisher  \\\n",
       "count            31701                34156               34184   \n",
       "unique            3225                 3687                 848   \n",
       "top     David Baldacci  Fiction, Literature  Random House, Inc.   \n",
       "freq               224                 2874                4605   \n",
       "mean               NaN                  NaN                 NaN   \n",
       "std                NaN                  NaN                 NaN   \n",
       "min                NaN                  NaN                 NaN   \n",
       "25%                NaN                  NaN                 NaN   \n",
       "50%                NaN                  NaN                 NaN   \n",
       "75%                NaN                  NaN                 NaN   \n",
       "max                NaN                  NaN                 NaN   \n",
       "\n",
       "       PublicationYear CheckoutMonthYear  \n",
       "count            34162             34233  \n",
       "unique             148                14  \n",
       "top               2020           2020-01  \n",
       "freq              6100              4180  \n",
       "mean               NaN               NaN  \n",
       "std                NaN               NaN  \n",
       "min                NaN               NaN  \n",
       "25%                NaN               NaN  \n",
       "50%                NaN               NaN  \n",
       "75%                NaN               NaN  \n",
       "max                NaN               NaN  "
      ]
     },
     "execution_count": 19,
     "metadata": {},
     "output_type": "execute_result"
    }
   ],
   "source": [
    "seattle_df.describe(include='all')"
   ]
  },
  {
   "cell_type": "markdown",
   "metadata": {},
   "source": [
    "Generate information about all the columns in the data "
   ]
  },
  {
   "cell_type": "code",
   "execution_count": 20,
   "metadata": {},
   "outputs": [
    {
     "name": "stdout",
     "output_type": "stream",
     "text": [
      "<class 'pandas.core.frame.DataFrame'>\n",
      "RangeIndex: 34233 entries, 0 to 34232\n",
      "Data columns (total 12 columns):\n",
      " #   Column             Non-Null Count  Dtype \n",
      "---  ------             --------------  ----- \n",
      " 0   UsageClass         34233 non-null  object\n",
      " 1   CheckoutType       34233 non-null  object\n",
      " 2   MaterialType       34233 non-null  object\n",
      " 3   CheckoutYear       34233 non-null  int64 \n",
      " 4   CheckoutMonth      34233 non-null  int64 \n",
      " 5   Checkouts          34233 non-null  int64 \n",
      " 6   Title              34233 non-null  object\n",
      " 7   Creator            31701 non-null  object\n",
      " 8   Subjects           34156 non-null  object\n",
      " 9   Publisher          34184 non-null  object\n",
      " 10  PublicationYear    34162 non-null  object\n",
      " 11  CheckoutMonthYear  34233 non-null  object\n",
      "dtypes: int64(3), object(9)\n",
      "memory usage: 3.1+ MB\n"
     ]
    }
   ],
   "source": [
    "seattle_df.info()"
   ]
  },
  {
   "cell_type": "markdown",
   "metadata": {},
   "source": [
    "Make a histogram of the DataFrame"
   ]
  },
  {
   "cell_type": "code",
   "execution_count": 21,
   "metadata": {},
   "outputs": [
    {
     "data": {
      "text/plain": [
       "array([[<matplotlib.axes._subplots.AxesSubplot object at 0x7f8926fa4e90>,\n",
       "        <matplotlib.axes._subplots.AxesSubplot object at 0x7f8927d1aed0>],\n",
       "       [<matplotlib.axes._subplots.AxesSubplot object at 0x7f8927d5e590>,\n",
       "        <matplotlib.axes._subplots.AxesSubplot object at 0x7f8927d95c10>]],\n",
       "      dtype=object)"
      ]
     },
     "execution_count": 21,
     "metadata": {},
     "output_type": "execute_result"
    },
    {
     "data": {
      "image/png": "[encoded data removed]",
      "text/plain": [
       "<Figure size 432x288 with 4 Axes>"
      ]
     },
     "metadata": {
      "needs_background": "light"
     },
     "output_type": "display_data"
    }
   ],
   "source": [
    "seattle_df.hist()"
   ]
  },
  {
   "cell_type": "code",
   "execution_count": 34,
   "metadata": {},
   "outputs": [
    {
     "data": {
      "text/html": [
       "<div>\n",
       "<style scoped>\n",
       "    .dataframe tbody tr th:only-of-type {\n",
       "        vertical-align: middle;\n",
       "    }\n",
       "\n",
       "    .dataframe tbody tr th {\n",
       "        vertical-align: top;\n",
       "    }\n",
       "\n",
       "    .dataframe thead th {\n",
       "        text-align: right;\n",
       "    }\n",
       "</style>\n",
       "<table border=\"1\" class=\"dataframe\">\n",
       "  <thead>\n",
       "    <tr style=\"text-align: right;\">\n",
       "      <th></th>\n",
       "      <th>Checkouts</th>\n",
       "    </tr>\n",
       "    <tr>\n",
       "      <th>Title</th>\n",
       "      <th></th>\n",
       "    </tr>\n",
       "  </thead>\n",
       "  <tbody>\n",
       "    <tr>\n",
       "      <th>So You Want to Talk about Race (Unabridged)</th>\n",
       "      <td>11626</td>\n",
       "    </tr>\n",
       "    <tr>\n",
       "      <th>Becoming (Unabridged)</th>\n",
       "      <td>7860</td>\n",
       "    </tr>\n",
       "    <tr>\n",
       "      <th>Where the Crawdads Sing</th>\n",
       "      <td>6720</td>\n",
       "    </tr>\n",
       "    <tr>\n",
       "      <th>Talking to Strangers: What We Should Know about the People We Don't Know (unabridged) (Unabridged)</th>\n",
       "      <td>6225</td>\n",
       "    </tr>\n",
       "    <tr>\n",
       "      <th>Educated: A Memoir</th>\n",
       "      <td>6164</td>\n",
       "    </tr>\n",
       "    <tr>\n",
       "      <th>...</th>\n",
       "      <td>...</td>\n",
       "    </tr>\n",
       "    <tr>\n",
       "      <th>Future of the time dragon / by Tracey West ; illustrated by Daniel Griffo.</th>\n",
       "      <td>21</td>\n",
       "    </tr>\n",
       "    <tr>\n",
       "      <th>The Chalk Pit: Ruth Galloway Mystery Series, Book 9</th>\n",
       "      <td>21</td>\n",
       "    </tr>\n",
       "    <tr>\n",
       "      <th>The Case of the Cryptic Crinoline: Enola Holmes Mystery Series, Book 5</th>\n",
       "      <td>21</td>\n",
       "    </tr>\n",
       "    <tr>\n",
       "      <th>The Captain and the Glory: An Entertainment (unabridged) (Unabridged)</th>\n",
       "      <td>21</td>\n",
       "    </tr>\n",
       "    <tr>\n",
       "      <th>Give Me Back My Bones!</th>\n",
       "      <td>21</td>\n",
       "    </tr>\n",
       "  </tbody>\n",
       "</table>\n",
       "<p>7685 rows × 1 columns</p>\n",
       "</div>"
      ],
      "text/plain": [
       "                                                    Checkouts\n",
       "Title                                                        \n",
       "So You Want to Talk about Race (Unabridged)             11626\n",
       "Becoming (Unabridged)                                    7860\n",
       "Where the Crawdads Sing                                  6720\n",
       "Talking to Strangers: What We Should Know about...       6225\n",
       "Educated: A Memoir                                       6164\n",
       "...                                                       ...\n",
       "Future of the time dragon / by Tracey West ; il...         21\n",
       "The Chalk Pit: Ruth Galloway Mystery Series, Bo...         21\n",
       "The Case of the Cryptic Crinoline: Enola Holmes...         21\n",
       "The Captain and the Glory: An Entertainment (un...         21\n",
       "Give Me Back My Bones!                                     21\n",
       "\n",
       "[7685 rows x 1 columns]"
      ]
     },
     "execution_count": 34,
     "metadata": {},
     "output_type": "execute_result"
    }
   ],
   "source": [
    "seattle_df.groupby('Title')[['Checkouts']].sum().sort_values(by='Checkouts',ascending=False)"
   ]
  },
  {
   "cell_type": "code",
   "execution_count": 36,
   "metadata": {},
   "outputs": [
    {
     "data": {
      "text/plain": [
       "<matplotlib.axes._subplots.AxesSubplot at 0x7f892333bc50>"
      ]
     },
     "execution_count": 36,
     "metadata": {},
     "output_type": "execute_result"
    },
    {
     "data": {
      "image/png": "[encoded data removed]",
      "text/plain": [
       "<Figure size 432x288 with 1 Axes>"
      ]
     },
     "metadata": {
      "needs_background": "light"
     },
     "output_type": "display_data"
    }
   ],
   "source": [
    "seattle_df.groupby('CheckoutMonthYear')['Checkouts'].sum().plot()"
   ]
  },
  {
   "cell_type": "code",
   "execution_count": 30,
   "metadata": {},
   "outputs": [
    {
     "data": {
      "text/plain": [
       "<matplotlib.axes._subplots.AxesSubplot at 0x7f892732b210>"
      ]
     },
     "execution_count": 30,
     "metadata": {},
     "output_type": "execute_result"
    },
    {
     "data": {
      "image/png": "[encoded data removed]",
      "text/plain": [
       "<Figure size 432x288 with 1 Axes>"
      ]
     },
     "metadata": {
      "needs_background": "light"
     },
     "output_type": "display_data"
    }
   ],
   "source": [
    "seattle_df['MaterialType'].value_counts().plot(kind='bar')"
   ]
  },
  {
   "cell_type": "code",
   "execution_count": 37,
   "metadata": {},
   "outputs": [
    {
     "data": {
      "text/plain": [
       "<matplotlib.axes._subplots.AxesSubplot at 0x7f892806a390>"
      ]
     },
     "execution_count": 37,
     "metadata": {},
     "output_type": "execute_result"
    },
    {
     "data": {
      "image/png": "[encoded data removed]",
      "text/plain": [
       "<Figure size 432x288 with 1 Axes>"
      ]
     },
     "metadata": {
      "needs_background": "light"
     },
     "output_type": "display_data"
    }
   ],
   "source": [
    "seattle_df[seattle_df['Title'] == 'So You Want to Talk about Race (Unabridged)'].plot(x='CheckoutMonthYear', y='Checkouts')"
   ]
  }
 ],
 "metadata": {
  "kernelspec": {
   "display_name": "Python 3",
   "language": "python",
   "name": "python3"
  },
  "language_info": {
   "codemirror_mode": {
    "name": "ipython",
    "version": 3
   },
   "file_extension": ".py",
   "mimetype": "text/x-python",
   "name": "python",
   "nbconvert_exporter": "python",
   "pygments_lexer": "ipython3",
   "version": "3.7.6"
  }
 },
 "nbformat": 4,
 "nbformat_minor": 4
}

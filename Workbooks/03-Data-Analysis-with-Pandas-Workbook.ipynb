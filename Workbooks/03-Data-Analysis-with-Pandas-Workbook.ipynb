{
 "cells": [
  {
   "cell_type": "markdown",
   "metadata": {},
   "source": [
    "# Data Analysis with Pandas — Day 3 Workbook\n",
    "## Topic Modeling Trump's Tweets"
   ]
  },
  {
   "cell_type": "markdown",
   "metadata": {},
   "source": [
    "This is the Day 3 practice workbook for the June 2021 course \"Data Analysis with Pandas,\" part of the [Text Analysis Pedagogy Institute](https://nkelber.github.io/tapi2021/book/intro.html)."
   ]
  },
  {
   "cell_type": "markdown",
   "metadata": {},
   "source": [
    "## Dataset"
   ]
  },
  {
   "cell_type": "markdown",
   "metadata": {},
   "source": [
    "### Topic Modeling Trump's Tweets"
   ]
  },
  {
   "cell_type": "markdown",
   "metadata": {},
   "source": [
    "In this workbook, we will be analyzing results from a topic modeling analysis of Trump's tweets between 2009 and 2020. To learn how I topic modeled these tweets, you can check out the [\"Topic Modeling — Time Series\" chapter](https://melaniewalsh.github.io/Intro-Cultural-Analytics/Text-Analysis/Topic-Modeling-Time-Series.html) of my online textbook, *Introduction to Cultural Analytics & Python*.\n",
    "\n",
    "Here, however, we will simply be working with the results of the already completed topic modeling.\n",
    "\n",
    "The dataset includes information about each tweet, such as the text and retweet count as well as the probability that each of 35 different topics are contained within the tweet.\n",
    "\n",
    "These are the 35 topics and column titles included in this dataset:"
   ]
  },
  {
   "cell_type": "markdown",
   "metadata": {},
   "source": [
    "'Topic 0: hillary crooked clinton witch',    \n",
    "'Topic 1: economy record ever jobs',  \n",
    "'Topic 2: house white https today',  \n",
    "'Topic 3: get much better never',  \n",
    "'Topic 4: would people said like',  \n",
    "'Topic 5: https today great day',  \n",
    "'Topic 6: http trump golf course',  \n",
    "'Topic 7: obama iran president attack',  \n",
    "'Topic 8: trump http via donald',  \n",
    "'Topic 9: win court big game',  \n",
    "'Topic 10: https thanks realdonaldtrump thank',  \n",
    "'Topic 11: one office change washington',  \n",
    "'Topic 12: great job congratulations good',  \n",
    "'Topic 13: back people happy home',  \n",
    "'Topic 14: years money time many',  \n",
    "'Topic 15: fbi campaign comey clinton',  \n",
    "'Topic 16: tonight foxnews enjoy morning',  \n",
    "'Topic 17: new poll york trump',  \n",
    "'Topic 18: tax obamacare bill cuts',  \n",
    "'Topic 19: news fake media story',  \n",
    "'Topic 20: great vote state strong',  \n",
    "'Topic 21: like cruz bush ted',  \n",
    "'Topic 22: party republican democrats left',  \n",
    "'Topic 23: law people first enforcement',  \n",
    "'Topic 24: think like entrepreneurs keep',    \n",
    "'Topic 25: president impeachment democrats schiff',  \n",
    "'Topic 26: false twitter http client',  \n",
    "'Topic 27: http obama barackobama mittromney',  \n",
    "'Topic 28: https thank trump makeamericagreatagain',  \n",
    "'Topic 29: china trade deal jobs',  \n",
    "'Topic 30: border security wall country',  \n",
    "'Topic 31: great big forward people',  \n",
    "'Topic 32: celebapprentice apprentice night last',  \n",
    "'Topic 33: great https america make',  \n",
    "'Topic 34: united states president korea'  "
   ]
  },
  {
   "cell_type": "markdown",
   "metadata": {},
   "source": [
    "## Import Pandas\n",
    "\n",
    "To use the Pandas library, we first need to `import` it."
   ]
  },
  {
   "cell_type": "code",
   "execution_count": 13,
   "metadata": {},
   "outputs": [],
   "source": [
    "import pandas as pd\n",
    "pd.options.display.max_colwidth = 400\n",
    "pd.options.display.max_columns = 50"
   ]
  },
  {
   "cell_type": "markdown",
   "metadata": {},
   "source": [
    "## Load Data"
   ]
  },
  {
   "cell_type": "markdown",
   "metadata": {},
   "source": [
    "Read in the CSV file `Trump-Tweet-Topics.csv`, which is in the current directory, and save it as a variable `trump_df`."
   ]
  },
  {
   "cell_type": "code",
   "execution_count": null,
   "metadata": {},
   "outputs": [],
   "source": [
    "# Read in CSV file"
   ]
  },
  {
   "cell_type": "markdown",
   "metadata": {},
   "source": [
    "## Examine 10 Random Rows"
   ]
  },
  {
   "cell_type": "code",
   "execution_count": null,
   "metadata": {},
   "outputs": [],
   "source": [
    "## Examine 10 Random Rows"
   ]
  },
  {
   "cell_type": "markdown",
   "metadata": {},
   "source": [
    "## Sort Values"
   ]
  },
  {
   "cell_type": "markdown",
   "metadata": {},
   "source": [
    "Sort the DataFrame `trump_df` by the column \"Topic 0: hillary crooked clinton witch\" from highest to lowest.\n",
    "\n",
    "*Note that you will need the column title to be exact.*"
   ]
  },
  {
   "cell_type": "code",
   "execution_count": null,
   "metadata": {},
   "outputs": [],
   "source": [
    "# Sort the DataFrame `trump_df` "
   ]
  },
  {
   "cell_type": "markdown",
   "metadata": {},
   "source": [
    "Sort the DataFrame `trump_df` by the column \"Topic 30: border security wall country\" from highest to lowest"
   ]
  },
  {
   "cell_type": "code",
   "execution_count": 10,
   "metadata": {},
   "outputs": [],
   "source": [
    "# Sort the DataFrame `trump_df` "
   ]
  },
  {
   "cell_type": "markdown",
   "metadata": {},
   "source": [
    "## Make a Year-Month Column"
   ]
  },
  {
   "cell_type": "markdown",
   "metadata": {},
   "source": [
    "<div class=\"admonition note\" name=\"html-admonition\" style=\"background: lightyellow; padding: 10px\">\n",
    "<p class=\"Question\"><b/>❓ Question</b></p>\n",
    "\n",
    "How did the topic of Trump's tweets fluctuate over time?\n",
    "\n",
    "</div>"
   ]
  },
  {
   "cell_type": "markdown",
   "metadata": {},
   "source": [
    "To analyze how the topic of Trump's tweets fluctuated over time, we need to do some manipulation and data conversion.\n",
    "\n",
    "First, make a new column called \"YearMonth\" that combines the columns \"year\" and \"month,\" such that the date format will be \"2012-5\".\n",
    "\n",
    "*Note: We did this in the Day 3 Notebook, so refer back if you need help!*"
   ]
  },
  {
   "cell_type": "code",
   "execution_count": null,
   "metadata": {},
   "outputs": [],
   "source": [
    "# Make a new column that combines columns"
   ]
  },
  {
   "cell_type": "markdown",
   "metadata": {},
   "source": [
    "## Convert to Datetime"
   ]
  },
  {
   "cell_type": "markdown",
   "metadata": {},
   "source": [
    "Now let's convert the column \"YearMonth\" to datetime values"
   ]
  },
  {
   "cell_type": "code",
   "execution_count": null,
   "metadata": {},
   "outputs": [],
   "source": [
    "# Convert column to datetime"
   ]
  },
  {
   "cell_type": "markdown",
   "metadata": {},
   "source": [
    "## Groupby YearMonth"
   ]
  },
  {
   "cell_type": "markdown",
   "metadata": {},
   "source": [
    "Now let's group by \"YearMonth\" and then calculate the average for all the columns"
   ]
  },
  {
   "cell_type": "code",
   "execution_count": null,
   "metadata": {},
   "outputs": [],
   "source": [
    "# Groupby YearMonth and calculate averages"
   ]
  },
  {
   "cell_type": "markdown",
   "metadata": {},
   "source": [
    "Now save this grouped DataFrame as the variable `monthly_averages`"
   ]
  },
  {
   "cell_type": "code",
   "execution_count": null,
   "metadata": {},
   "outputs": [],
   "source": [
    "# Save as monthly_averages"
   ]
  },
  {
   "cell_type": "code",
   "execution_count": 22,
   "metadata": {},
   "outputs": [],
   "source": [
    "monthly_averages = trump_df.groupby('YearMonth').mean()"
   ]
  },
  {
   "cell_type": "markdown",
   "metadata": {},
   "source": [
    "## Plot Topics Over Time"
   ]
  },
  {
   "cell_type": "markdown",
   "metadata": {},
   "source": [
    "Pick a column name from this list and filter the grouped DataFrame `monthly_averages` by that column"
   ]
  },
  {
   "cell_type": "markdown",
   "metadata": {},
   "source": [
    "'Topic 0: hillary crooked clinton witch',    \n",
    "'Topic 1: economy record ever jobs',  \n",
    "'Topic 2: house white https today',  \n",
    "'Topic 3: get much better never',  \n",
    "'Topic 4: would people said like',  \n",
    "'Topic 5: https today great day',  \n",
    "'Topic 6: http trump golf course',  \n",
    "'Topic 7: obama iran president attack',  \n",
    "'Topic 8: trump http via donald',  \n",
    "'Topic 9: win court big game',  \n",
    "'Topic 10: https thanks realdonaldtrump thank',  \n",
    "'Topic 11: one office change washington',  \n",
    "'Topic 12: great job congratulations good',  \n",
    "'Topic 13: back people happy home',  \n",
    "'Topic 14: years money time many',  \n",
    "'Topic 15: fbi campaign comey clinton',  \n",
    "'Topic 16: tonight foxnews enjoy morning',  \n",
    "'Topic 17: new poll york trump',  \n",
    "'Topic 18: tax obamacare bill cuts',  \n",
    "'Topic 19: news fake media story',  \n",
    "'Topic 20: great vote state strong',  \n",
    "'Topic 21: like cruz bush ted',  \n",
    "'Topic 22: party republican democrats left',  \n",
    "'Topic 23: law people first enforcement',  \n",
    "'Topic 24: think like entrepreneurs keep',    \n",
    "'Topic 25: president impeachment democrats schiff',  \n",
    "'Topic 26: false twitter http client',  \n",
    "'Topic 27: http obama barackobama mittromney',  \n",
    "'Topic 28: https thank trump makeamericagreatagain',  \n",
    "'Topic 29: china trade deal jobs',  \n",
    "'Topic 30: border security wall country',  \n",
    "'Topic 31: great big forward people',  \n",
    "'Topic 32: celebapprentice apprentice night last',  \n",
    "'Topic 33: great https america make',  \n",
    "'Topic 34: united states president korea'  "
   ]
  },
  {
   "cell_type": "code",
   "execution_count": 26,
   "metadata": {},
   "outputs": [],
   "source": [
    "# Filter by column"
   ]
  },
  {
   "cell_type": "markdown",
   "metadata": {},
   "source": [
    "Plot the same filtered DataFrame with `legend=True`"
   ]
  },
  {
   "cell_type": "code",
   "execution_count": 26,
   "metadata": {},
   "outputs": [],
   "source": [
    "# Filter by column, then plot"
   ]
  },
  {
   "cell_type": "markdown",
   "metadata": {},
   "source": [
    "Feel free to explore and pick other topics to see how they fluctuate over time!"
   ]
  },
  {
   "cell_type": "code",
   "execution_count": 26,
   "metadata": {},
   "outputs": [],
   "source": [
    "# Filter by column, then plot"
   ]
  }
 ],
 "metadata": {
  "kernelspec": {
   "display_name": "Python 3",
   "language": "python",
   "name": "python3"
  },
  "language_info": {
   "codemirror_mode": {
    "name": "ipython",
    "version": 3
   },
   "file_extension": ".py",
   "mimetype": "text/x-python",
   "name": "python",
   "nbconvert_exporter": "python",
   "pygments_lexer": "ipython3",
   "version": "3.7.6"
  }
 },
 "nbformat": 4,
 "nbformat_minor": 4
}
